{
 "cells": [
  {
   "cell_type": "code",
   "execution_count": 1,
   "metadata": {},
   "outputs": [],
   "source": [
    "%load_ext autoreload\n",
    "%autoreload 2\n",
    "\n",
    "import os\n",
    "import pandas as pd\n",
    "\n",
    "from magni_dash.data_preprocessing.spatio_temporal_features import SpatioTemporalFeatures\n",
    "from magni_dash.utils.common import GroupsInfo, get_mapping_cols_tobii, get_mapping_cols, get_mapping_cols_centroids\n",
    "from magni_dash.config.constants import TRAJECTORY_SAMPLES_PATH"
   ]
  },
  {
   "cell_type": "code",
   "execution_count": 2,
   "metadata": {},
   "outputs": [
    {
     "data": {
      "text/plain": [
       "['Qualisys_180522_SC3A_R2_PP_6D_merged.csv']"
      ]
     },
     "execution_count": 2,
     "metadata": {},
     "output_type": "execute_result"
    }
   ],
   "source": [
    "files = os.listdir(os.path.join(TRAJECTORY_SAMPLES_PATH, \"Scenario3\"))\n",
    "files_target = list(filter(lambda x: x.endswith(\"merged.csv\"), files))\n",
    "files_target"
   ]
  },
  {
   "cell_type": "code",
   "execution_count": 3,
   "metadata": {},
   "outputs": [],
   "source": [
    "FILE_IDX = 0"
   ]
  },
  {
   "cell_type": "code",
   "execution_count": 4,
   "metadata": {},
   "outputs": [
    {
     "data": {
      "text/plain": [
       "'Qualisys_180522_SC3A_R2_PP_6D_merged.csv'"
      ]
     },
     "execution_count": 4,
     "metadata": {},
     "output_type": "execute_result"
    }
   ],
   "source": [
    "files_target[FILE_IDX]"
   ]
  },
  {
   "cell_type": "code",
   "execution_count": 5,
   "metadata": {},
   "outputs": [],
   "source": [
    "sync_df = pd.read_csv(os.path.join(TRAJECTORY_SAMPLES_PATH, \"Scenario3\", files_target[FILE_IDX]))"
   ]
  },
  {
   "cell_type": "code",
   "execution_count": 6,
   "metadata": {},
   "outputs": [
    {
     "data": {
      "text/plain": [
       "Helmet_10 Centroid_X    0.488528\n",
       "Helmet_10 Centroid_Y    0.488528\n",
       "Helmet_10 Centroid_Z    0.488528\n",
       "dtype: float64"
      ]
     },
     "execution_count": 6,
     "metadata": {},
     "output_type": "execute_result"
    }
   ],
   "source": [
    "sync_df[sync_df.columns[sync_df.columns.str.contains(\"Helmet_10 Centroid\")]].isna().sum() / sync_df.shape[0]"
   ]
  },
  {
   "cell_type": "code",
   "execution_count": 7,
   "metadata": {},
   "outputs": [
    {
     "name": "stdout",
     "output_type": "stream",
     "text": [
      "X Helmet_10 - 1 X    0.082167\n",
      "dtype: float64\n",
      "Y Helmet_10 - 1 Y    0.082167\n",
      "dtype: float64\n",
      "Z Helmet_10 - 1 Z    0.082167\n",
      "dtype: float64\n",
      "X Helmet_10 - 2 X    0.264847\n",
      "dtype: float64\n",
      "Y Helmet_10 - 2 Y    0.264847\n",
      "dtype: float64\n",
      "Z Helmet_10 - 2 Z    0.264847\n",
      "dtype: float64\n",
      "X Helmet_10 - 3 X    0.238768\n",
      "dtype: float64\n",
      "Y Helmet_10 - 3 Y    0.238768\n",
      "dtype: float64\n",
      "Z Helmet_10 - 3 Z    0.238768\n",
      "dtype: float64\n",
      "X Helmet_10 - 4 X    0.247377\n",
      "dtype: float64\n",
      "Y Helmet_10 - 4 Y    0.247377\n",
      "dtype: float64\n",
      "Z Helmet_10 - 4 Z    0.247377\n",
      "dtype: float64\n"
     ]
    }
   ],
   "source": [
    "for m in range(1,5):\n",
    "    print(\"X\", sync_df[sync_df.columns[sync_df.columns.str.contains(f\"Helmet_10 - {m} X\")]].isna().sum() / sync_df.shape[0])\n",
    "    print(\"Y\", sync_df[sync_df.columns[sync_df.columns.str.contains(f\"Helmet_10 - {m} Y\")]].isna().sum() / sync_df.shape[0])\n",
    "    print(\"Z\", sync_df[sync_df.columns[sync_df.columns.str.contains(f\"Helmet_10 - {m} Z\")]].isna().sum() / sync_df.shape[0])"
   ]
  },
  {
   "cell_type": "code",
   "execution_count": 8,
   "metadata": {},
   "outputs": [
    {
     "data": {
      "text/plain": [
       "Helmet_10 TB2_G3D_X    0.754796\n",
       "Helmet_10 TB2_G3D_Y    0.754796\n",
       "Helmet_10 TB2_G3D_Z    0.754796\n",
       "Helmet_5 TB3_G3D_X     0.761232\n",
       "Helmet_5 TB3_G3D_Y     0.761232\n",
       "Helmet_5 TB3_G3D_Z     0.761232\n",
       "dtype: float64"
      ]
     },
     "execution_count": 8,
     "metadata": {},
     "output_type": "execute_result"
    }
   ],
   "source": [
    "sync_df[sync_df.columns[sync_df.columns.str.contains(\"G3D\")]].isna().sum() / sync_df.shape[0]"
   ]
  },
  {
   "cell_type": "code",
   "execution_count": 9,
   "metadata": {},
   "outputs": [],
   "source": [
    "def get_best_markers(input_df: pd.DataFrame):\n",
    "    \"\"\"Get markers with lowest amount of NaN values\"\"\"\n",
    "    x_coordinate = input_df[input_df.columns[input_df.columns.str.endswith(\"X\")]]\n",
    "    x_cols = x_coordinate.columns\n",
    "\n",
    "    instances = set(x_coordinate.columns.str.split(\" - \").str[0])\n",
    "    instances = list(filter(lambda x: len(x.split(\" \")) == 1, instances))\n",
    "    nan_counter_by_marker = {}\n",
    "    for instance_id in instances:\n",
    "        nan_counter_by_marker[instance_id] = {}\n",
    "        markers = (\n",
    "            x_coordinate[x_cols[x_cols.str.startswith(f\"{instance_id} -\")]]\n",
    "            .columns.str.split(regex=r\" (/d) \")\n",
    "            .str[2]\n",
    "        )\n",
    "        for marker_id in markers:\n",
    "            n_nans = (\n",
    "                x_coordinate[f\"{instance_id} - {marker_id} X\"]\n",
    "                .isna()\n",
    "                .sum()\n",
    "            )\n",
    "            nan_counter_by_marker[instance_id][marker_id] = n_nans\n",
    "    print(nan_counter_by_marker)\n",
    "    return nan_counter_by_marker"
   ]
  },
  {
   "cell_type": "code",
   "execution_count": 10,
   "metadata": {},
   "outputs": [
    {
     "name": "stdout",
     "output_type": "stream",
     "text": [
      "{'Helmet_5': {'1': 6014, '2': 731, '3': 7070, '4': 8713, '5': 6359}, 'Helmet_1': {'1': 3175, '2': 1078, '3': 1782}, 'Helmet_4': {'1': 3289, '2': 9533, '3': 8395, '4': 10254, '5': 11596}, 'Helmet_7': {'1': 4824, '2': 10979, '3': 7166, '4': 14268, '5': 8054}, 'Helmet_6': {'1': 695, '2': 11275, '3': 7188, '4': 7870, '5': 8118}, 'Helmet_10': {'1': 1966, '2': 6337, '3': 5713, '4': 5919}, 'DARKO': {'1': 375, '2': 364, '3': 180, '4': 233, '5': 455, '6': 648, '7': 679}, 'LO1': {'1': 1639, '2': 1595, '3': 1062, '4': 922, '5': 1803, '6': 1536, '7': 1051, '8': 1930}, 'Helmet_2': {'1': 2599, '2': 2236, '3': 2782, '4': 3469}}\n"
     ]
    }
   ],
   "source": [
    "best_markers = get_best_markers(sync_df)"
   ]
  },
  {
   "cell_type": "code",
   "execution_count": 11,
   "metadata": {},
   "outputs": [],
   "source": [
    "def preprocess_df(raw_df: pd.DataFrame) -> pd.DataFrame:\n",
    "    \"\"\"interpolation and divide by 1000 to get measurements in meters\"\"\"\n",
    "    preprocessed_df = raw_df.copy()\n",
    "    trajectories_condition = preprocessed_df.columns[\n",
    "            (preprocessed_df.columns.str.endswith(\" X\"))\n",
    "            | ((preprocessed_df.columns.str.endswith(\" Y\")))\n",
    "            | ((preprocessed_df.columns.str.endswith(\" Z\")))\n",
    "        ]\n",
    "    preprocessed_df[trajectories_condition] = preprocessed_df[trajectories_condition].interpolate()\n",
    "    preprocessed_df[trajectories_condition] /= 1000\n",
    "    return preprocessed_df"
   ]
  },
  {
   "cell_type": "code",
   "execution_count": 12,
   "metadata": {},
   "outputs": [
    {
     "data": {
      "text/plain": [
       "Index(['Helmet_10 - 1 X', 'Helmet_10 - 2 X', 'Helmet_10 - 3 X',\n",
       "       'Helmet_10 - 4 X', 'Helmet_5 - 1 X', 'Helmet_5 - 2 X', 'Helmet_5 - 3 X',\n",
       "       'Helmet_5 - 4 X', 'Helmet_5 - 5 X', 'Helmet_1 - 1 X', 'Helmet_1 - 2 X',\n",
       "       'Helmet_1 - 3 X', 'Helmet_2 - 1 X', 'Helmet_2 - 2 X', 'Helmet_2 - 3 X',\n",
       "       'Helmet_2 - 4 X', 'Helmet_4 - 1 X', 'Helmet_4 - 2 X', 'Helmet_4 - 3 X',\n",
       "       'Helmet_4 - 4 X', 'Helmet_4 - 5 X', 'Helmet_6 - 1 X', 'Helmet_6 - 2 X',\n",
       "       'Helmet_6 - 3 X', 'Helmet_6 - 4 X', 'Helmet_6 - 5 X', 'Helmet_7 - 1 X',\n",
       "       'Helmet_7 - 2 X', 'Helmet_7 - 3 X', 'Helmet_7 - 4 X', 'Helmet_7 - 5 X',\n",
       "       'DARKO - 1 X', 'DARKO - 2 X', 'DARKO - 3 X', 'DARKO - 4 X',\n",
       "       'DARKO - 5 X', 'DARKO - 6 X', 'DARKO - 7 X', 'LO1 - 1 X', 'LO1 - 2 X',\n",
       "       'LO1 - 3 X', 'LO1 - 4 X', 'LO1 - 5 X', 'LO1 - 6 X', 'LO1 - 7 X',\n",
       "       'LO1 - 8 X'],\n",
       "      dtype='object')"
      ]
     },
     "execution_count": 12,
     "metadata": {},
     "output_type": "execute_result"
    }
   ],
   "source": [
    "sync_df[sync_df.columns[sync_df.columns.str.endswith(\" X\")]].columns"
   ]
  },
  {
   "cell_type": "code",
   "execution_count": 13,
   "metadata": {},
   "outputs": [],
   "source": [
    "preprocessed_trajectories = preprocess_df(sync_df)"
   ]
  },
  {
   "cell_type": "code",
   "execution_count": 14,
   "metadata": {},
   "outputs": [
    {
     "data": {
      "text/plain": [
       "Helmet_10 TB2_G3D_X    0.754796\n",
       "Helmet_10 TB2_G3D_Y    0.754796\n",
       "Helmet_10 TB2_G3D_Z    0.754796\n",
       "Helmet_5 TB3_G3D_X     0.761232\n",
       "Helmet_5 TB3_G3D_Y     0.761232\n",
       "Helmet_5 TB3_G3D_Z     0.761232\n",
       "dtype: float64"
      ]
     },
     "execution_count": 14,
     "metadata": {},
     "output_type": "execute_result"
    }
   ],
   "source": [
    "preprocessed_trajectories[\n",
    "    preprocessed_trajectories.columns[\n",
    "        preprocessed_trajectories.columns.str.contains(\"G3D\")\n",
    "    ]\n",
    "].isna().sum() / preprocessed_trajectories.shape[0]"
   ]
  },
  {
   "cell_type": "code",
   "execution_count": 15,
   "metadata": {},
   "outputs": [],
   "source": [
    "moving_agents = preprocessed_trajectories.columns[\n",
    "    (preprocessed_trajectories.columns.str.startswith(\"Helmet\"))\n",
    "    | (preprocessed_trajectories.columns.str.startswith(\"LO1\"))\n",
    "].tolist()\n",
    "moving_agents_labels = set(map(lambda x: x.split(\" - \")[0], moving_agents))\n",
    "moving_agents_labels = filter(lambda x: len(x.split(\" \")) == 1, moving_agents_labels)"
   ]
  },
  {
   "cell_type": "code",
   "execution_count": 16,
   "metadata": {},
   "outputs": [],
   "source": [
    "def extract_features(\n",
    "    out_df: pd.DataFrame,\n",
    "    magents_labels,\n",
    "    darko_label,\n",
    ") -> pd.DataFrame:\n",
    "    \"\"\"Extract features to be used in the profiles section such as speed\n",
    "\n",
    "    Parameters\n",
    "    ----------\n",
    "    input_df\n",
    "        raw pandas DataFrame\n",
    "    magents_labels\n",
    "        moving agents labels\n",
    "    darko_label\n",
    "        darko robot label\n",
    "\n",
    "    Returns\n",
    "    -------\n",
    "        pandas DataFrame with the respective features computed\n",
    "    \"\"\"\n",
    "    magents_labels = (\n",
    "        [magents_labels] if isinstance(magents_labels, str) else magents_labels\n",
    "    )\n",
    "    elements_labels = magents_labels + [darko_label] if darko_label else magents_labels\n",
    "\n",
    "    out_df = SpatioTemporalFeatures.get_speed(\n",
    "        out_df,\n",
    "        time_col_name=\"Time\",\n",
    "        element_name=elements_labels,\n",
    "    )\n",
    "\n",
    "    out_df = out_df.reset_index()\n",
    "    return out_df"
   ]
  },
  {
   "cell_type": "code",
   "execution_count": 17,
   "metadata": {},
   "outputs": [],
   "source": [
    "moving_agents_cols = preprocessed_trajectories.columns[(preprocessed_trajectories.columns.str.endswith(\" X\"))\n",
    "            | ((preprocessed_trajectories.columns.str.endswith(\" Y\")))\n",
    "            | ((preprocessed_trajectories.columns.str.endswith(\" Z\")))]"
   ]
  },
  {
   "cell_type": "code",
   "execution_count": 18,
   "metadata": {},
   "outputs": [
    {
     "data": {
      "text/plain": [
       "Index(['Helmet_10 - 1 X', 'Helmet_10 - 1 Y', 'Helmet_10 - 1 Z',\n",
       "       'Helmet_10 - 2 X', 'Helmet_10 - 2 Y', 'Helmet_10 - 2 Z',\n",
       "       'Helmet_10 - 3 X', 'Helmet_10 - 3 Y', 'Helmet_10 - 3 Z',\n",
       "       'Helmet_10 - 4 X',\n",
       "       ...\n",
       "       'LO1 - 5 Z', 'LO1 - 6 X', 'LO1 - 6 Y', 'LO1 - 6 Z', 'LO1 - 7 X',\n",
       "       'LO1 - 7 Y', 'LO1 - 7 Z', 'LO1 - 8 X', 'LO1 - 8 Y', 'LO1 - 8 Z'],\n",
       "      dtype='object', length=138)"
      ]
     },
     "execution_count": 18,
     "metadata": {},
     "output_type": "execute_result"
    }
   ],
   "source": [
    "moving_agents_cols"
   ]
  },
  {
   "cell_type": "code",
   "execution_count": 19,
   "metadata": {},
   "outputs": [
    {
     "name": "stderr",
     "output_type": "stream",
     "text": [
      "2023-05-13 14:53:08.794 INFO    magni_dash.data_preprocessing.spatio_temporal_features: {'Helmet_5 - 3 X_delta', 'LO1 - 5 X_delta', 'Helmet_6 - 5 Z_delta', 'LO1 - 4 Z_delta', 'Helmet_4 - 5 Z_delta', 'Helmet_4 - 5 Y_delta', 'Helmet_5 - 5 X_delta', 'LO1 - 7 Z_delta', 'Helmet_7 - 1 Z_delta', 'DARKO - 2 Z_delta', 'LO1 - 1 Y_delta', 'Helmet_1 - 1 Z_delta', 'DARKO - 6 Z_delta', 'Helmet_10 - 2 Y_delta', 'Helmet_10 - 2 X_delta', 'Time_delta', 'LO1 - 6 Z_delta', 'Helmet_1 - 2 Y_delta', 'Helmet_6 - 4 X_delta', 'Helmet_7 - 1 Y_delta', 'Helmet_6 - 3 Y_delta', 'LO1 - 1 Z_delta', 'Helmet_7 - 2 Y_delta', 'Helmet_6 - 2 Z_delta', 'Helmet_4 - 3 Z_delta', 'Helmet_7 - 4 Z_delta', 'Helmet_10 - 1 X_delta', 'Helmet_7 - 3 Z_delta', 'LO1 - 2 Y_delta', 'Helmet_10 - 1 Y_delta', 'Helmet_1 - 3 Y_delta', 'LO1 - 4 Y_delta', 'DARKO - 2 Y_delta', 'Helmet_5 - 4 Z_delta', 'LO1 - 8 Y_delta', 'DARKO - 7 Y_delta', 'Helmet_4 - 3 X_delta', 'Helmet_10 - 4 Z_delta', 'Helmet_5 - 1 X_delta', 'Helmet_6 - 3 X_delta', 'Helmet_6 - 5 Y_delta', 'Helmet_7 - 5 X_delta', 'LO1 - 1 X_delta', 'Helmet_2 - 1 Z_delta', 'Helmet_1 - 1 Y_delta', 'Helmet_2 - 2 Z_delta', 'Helmet_4 - 1 Y_delta', 'Helmet_6 - 4 Z_delta', 'Helmet_5 - 2 X_delta', 'DARKO - 4 Y_delta', 'Helmet_2 - 3 Z_delta', 'Helmet_2 - 2 X_delta', 'Helmet_2 - 4 X_delta', 'Helmet_4 - 5 X_delta', 'Helmet_7 - 4 X_delta', 'Helmet_1 - 3 Z_delta', 'Helmet_4 - 4 X_delta', 'Helmet_4 - 2 X_delta', 'Helmet_2 - 4 Y_delta', 'Helmet_7 - 2 Z_delta', 'Helmet_6 - 2 Y_delta', 'LO1 - 2 Z_delta', 'LO1 - 6 X_delta', 'Helmet_1 - 1 X_delta', 'LO1 - 3 X_delta', 'Helmet_2 - 2 Y_delta', 'Helmet_5 - 3 Z_delta', 'DARKO - 4 Z_delta', 'Helmet_2 - 1 Y_delta', 'Helmet_5 - 1 Y_delta', 'DARKO - 6 Y_delta', 'Helmet_7 - 4 Y_delta', 'Helmet_4 - 1 X_delta', 'Helmet_5 - 1 Z_delta', 'Helmet_2 - 3 Y_delta', 'Helmet_6 - 1 X_delta', 'DARKO - 5 Y_delta', 'Helmet_10 - 3 X_delta', 'Helmet_5 - 4 Y_delta', 'Helmet_4 - 2 Z_delta', 'Helmet_4 - 2 Y_delta', 'LO1 - 3 Z_delta', 'Helmet_7 - 5 Z_delta', 'Helmet_4 - 3 Y_delta', 'DARKO - 3 Z_delta', 'DARKO - 1 Z_delta', 'LO1 - 7 X_delta', 'Helmet_2 - 4 Z_delta', 'Helmet_2 - 1 X_delta', 'Helmet_10 - 4 X_delta', 'Helmet_6 - 5 X_delta', 'LO1 - 4 X_delta', 'Helmet_7 - 3 Y_delta', 'DARKO - 3 X_delta', 'Helmet_1 - 2 X_delta', 'LO1 - 8 X_delta', 'Helmet_6 - 1 Y_delta', 'DARKO - 2 X_delta', 'DARKO - 5 Z_delta', 'Helmet_7 - 5 Y_delta', 'Helmet_5 - 5 Y_delta', 'Helmet_5 - 2 Y_delta', 'DARKO - 7 Z_delta', 'Helmet_7 - 1 X_delta', 'Helmet_6 - 4 Y_delta', 'Helmet_10 - 4 Y_delta', 'Helmet_4 - 4 Z_delta', 'LO1 - 5 Y_delta', 'Helmet_1 - 3 X_delta', 'DARKO - 6 X_delta', 'Helmet_10 - 3 Z_delta', 'Helmet_5 - 4 X_delta', 'Helmet_5 - 3 Y_delta', 'LO1 - 7 Y_delta', 'DARKO - 4 X_delta', 'DARKO - 5 X_delta', 'LO1 - 2 X_delta', 'Helmet_10 - 3 Y_delta', 'Helmet_10 - 1 Z_delta', 'Helmet_5 - 2 Z_delta', 'LO1 - 6 Y_delta', 'Helmet_5 - 5 Z_delta', 'Helmet_6 - 3 Z_delta', 'LO1 - 8 Z_delta', 'DARKO - 1 Y_delta', 'Helmet_1 - 2 Z_delta', 'Helmet_7 - 3 X_delta', 'LO1 - 5 Z_delta', 'LO1 - 3 Y_delta', 'Helmet_7 - 2 X_delta', 'DARKO - 1 X_delta', 'Helmet_4 - 1 Z_delta', 'Helmet_2 - 3 X_delta', 'Helmet_4 - 4 Y_delta', 'Helmet_10 - 2 Z_delta', 'DARKO - 3 Y_delta', 'Helmet_6 - 1 Z_delta', 'DARKO - 7 X_delta', 'Helmet_6 - 2 X_delta'} created!\n",
      "2023-05-13 14:53:08.835 INFO    magni_dash.data_preprocessing.spatio_temporal_features: ['Helmet_7 - 1 speed (m/s)', 'Helmet_7 - 2 speed (m/s)', 'Helmet_7 - 3 speed (m/s)', 'Helmet_7 - 4 speed (m/s)', 'Helmet_7 - 5 speed (m/s)'] created successfully!\n",
      "2023-05-13 14:53:08.868 INFO    magni_dash.data_preprocessing.spatio_temporal_features: ['Helmet_10 - 1 speed (m/s)', 'Helmet_10 - 2 speed (m/s)', 'Helmet_10 - 3 speed (m/s)', 'Helmet_10 - 4 speed (m/s)'] created successfully!\n",
      "2023-05-13 14:53:08.906 INFO    magni_dash.data_preprocessing.spatio_temporal_features: ['Helmet_4 - 1 speed (m/s)', 'Helmet_4 - 2 speed (m/s)', 'Helmet_4 - 3 speed (m/s)', 'Helmet_4 - 4 speed (m/s)', 'Helmet_4 - 5 speed (m/s)'] created successfully!\n",
      "2023-05-13 14:53:08.954 INFO    magni_dash.data_preprocessing.spatio_temporal_features: ['Helmet_6 - 1 speed (m/s)', 'Helmet_6 - 2 speed (m/s)', 'Helmet_6 - 3 speed (m/s)', 'Helmet_6 - 4 speed (m/s)', 'Helmet_6 - 5 speed (m/s)'] created successfully!\n",
      "2023-05-13 14:53:09.008 INFO    magni_dash.data_preprocessing.spatio_temporal_features: ['LO1 - 1 speed (m/s)', 'LO1 - 2 speed (m/s)', 'LO1 - 3 speed (m/s)', 'LO1 - 4 speed (m/s)', 'LO1 - 5 speed (m/s)', 'LO1 - 6 speed (m/s)', 'LO1 - 7 speed (m/s)', 'LO1 - 8 speed (m/s)'] created successfully!\n",
      "2023-05-13 14:53:09.044 INFO    magni_dash.data_preprocessing.spatio_temporal_features: ['Helmet_2 - 1 speed (m/s)', 'Helmet_2 - 2 speed (m/s)', 'Helmet_2 - 3 speed (m/s)', 'Helmet_2 - 4 speed (m/s)'] created successfully!\n",
      "2023-05-13 14:53:09.085 INFO    magni_dash.data_preprocessing.spatio_temporal_features: ['Helmet_5 - 1 speed (m/s)', 'Helmet_5 - 2 speed (m/s)', 'Helmet_5 - 3 speed (m/s)', 'Helmet_5 - 4 speed (m/s)', 'Helmet_5 - 5 speed (m/s)'] created successfully!\n",
      "2023-05-13 14:53:09.112 INFO    magni_dash.data_preprocessing.spatio_temporal_features: ['Helmet_1 - 1 speed (m/s)', 'Helmet_1 - 2 speed (m/s)', 'Helmet_1 - 3 speed (m/s)'] created successfully!\n",
      "2023-05-13 14:53:09.164 INFO    magni_dash.data_preprocessing.spatio_temporal_features: ['DARKO - 1 speed (m/s)', 'DARKO - 2 speed (m/s)', 'DARKO - 3 speed (m/s)', 'DARKO - 4 speed (m/s)', 'DARKO - 5 speed (m/s)', 'DARKO - 6 speed (m/s)', 'DARKO - 7 speed (m/s)'] created successfully!\n"
     ]
    }
   ],
   "source": [
    "features_df = extract_features(\n",
    "        preprocessed_trajectories[[\"Time\"] + moving_agents_cols.tolist()].copy(),\n",
    "        magents_labels=list(moving_agents_labels),\n",
    "        darko_label=\"DARKO\",\n",
    "    )"
   ]
  },
  {
   "cell_type": "code",
   "execution_count": 20,
   "metadata": {},
   "outputs": [
    {
     "data": {
      "text/plain": [
       "(23927, 240)"
      ]
     },
     "execution_count": 20,
     "metadata": {},
     "output_type": "execute_result"
    }
   ],
   "source": [
    "features_df.shape"
   ]
  },
  {
   "cell_type": "code",
   "execution_count": 21,
   "metadata": {},
   "outputs": [],
   "source": [
    "features_cat = preprocessed_trajectories.join(features_df)"
   ]
  },
  {
   "cell_type": "code",
   "execution_count": 22,
   "metadata": {},
   "outputs": [],
   "source": [
    "features_filtered = features_cat[\n",
    "    [\"Frame\"] + \n",
    "    features_cat.columns[\n",
    "        (features_cat.columns.str.endswith(\"X\"))\n",
    "        | (features_cat.columns.str.endswith(\"Y\"))\n",
    "        | (features_cat.columns.str.endswith(\"Z\"))\n",
    "        | (features_cat.columns.str.endswith(\"speed (m/s)\"))\n",
    "    ].tolist()\n",
    "]"
   ]
  },
  {
   "cell_type": "code",
   "execution_count": 23,
   "metadata": {},
   "outputs": [
    {
     "data": {
      "text/html": [
       "<div>\n",
       "<style scoped>\n",
       "    .dataframe tbody tr th:only-of-type {\n",
       "        vertical-align: middle;\n",
       "    }\n",
       "\n",
       "    .dataframe tbody tr th {\n",
       "        vertical-align: top;\n",
       "    }\n",
       "\n",
       "    .dataframe thead th {\n",
       "        text-align: right;\n",
       "    }\n",
       "</style>\n",
       "<table border=\"1\" class=\"dataframe\">\n",
       "  <thead>\n",
       "    <tr style=\"text-align: right;\">\n",
       "      <th></th>\n",
       "      <th>Frame</th>\n",
       "      <th>Helmet_10 - 1 X</th>\n",
       "      <th>Helmet_10 - 1 Y</th>\n",
       "      <th>Helmet_10 - 1 Z</th>\n",
       "      <th>Helmet_10 - 2 X</th>\n",
       "      <th>Helmet_10 - 2 Y</th>\n",
       "      <th>Helmet_10 - 2 Z</th>\n",
       "      <th>Helmet_10 - 3 X</th>\n",
       "      <th>Helmet_10 - 3 Y</th>\n",
       "      <th>Helmet_10 - 3 Z</th>\n",
       "      <th>...</th>\n",
       "      <th>Helmet_1 - 1 speed (m/s)</th>\n",
       "      <th>Helmet_1 - 2 speed (m/s)</th>\n",
       "      <th>Helmet_1 - 3 speed (m/s)</th>\n",
       "      <th>DARKO - 1 speed (m/s)</th>\n",
       "      <th>DARKO - 2 speed (m/s)</th>\n",
       "      <th>DARKO - 3 speed (m/s)</th>\n",
       "      <th>DARKO - 4 speed (m/s)</th>\n",
       "      <th>DARKO - 5 speed (m/s)</th>\n",
       "      <th>DARKO - 6 speed (m/s)</th>\n",
       "      <th>DARKO - 7 speed (m/s)</th>\n",
       "    </tr>\n",
       "  </thead>\n",
       "  <tbody>\n",
       "    <tr>\n",
       "      <th>0</th>\n",
       "      <td>1</td>\n",
       "      <td>NaN</td>\n",
       "      <td>NaN</td>\n",
       "      <td>NaN</td>\n",
       "      <td>NaN</td>\n",
       "      <td>NaN</td>\n",
       "      <td>NaN</td>\n",
       "      <td>NaN</td>\n",
       "      <td>NaN</td>\n",
       "      <td>NaN</td>\n",
       "      <td>...</td>\n",
       "      <td>NaN</td>\n",
       "      <td>NaN</td>\n",
       "      <td>NaN</td>\n",
       "      <td>NaN</td>\n",
       "      <td>NaN</td>\n",
       "      <td>NaN</td>\n",
       "      <td>NaN</td>\n",
       "      <td>NaN</td>\n",
       "      <td>NaN</td>\n",
       "      <td>NaN</td>\n",
       "    </tr>\n",
       "    <tr>\n",
       "      <th>1</th>\n",
       "      <td>2</td>\n",
       "      <td>NaN</td>\n",
       "      <td>NaN</td>\n",
       "      <td>NaN</td>\n",
       "      <td>NaN</td>\n",
       "      <td>NaN</td>\n",
       "      <td>NaN</td>\n",
       "      <td>NaN</td>\n",
       "      <td>NaN</td>\n",
       "      <td>NaN</td>\n",
       "      <td>...</td>\n",
       "      <td>0.0</td>\n",
       "      <td>0.076438</td>\n",
       "      <td>0.000000</td>\n",
       "      <td>0.141272</td>\n",
       "      <td>0.149300</td>\n",
       "      <td>0.660975</td>\n",
       "      <td>0.149439</td>\n",
       "      <td>0.228801</td>\n",
       "      <td>0.151343</td>\n",
       "      <td>0.144788</td>\n",
       "    </tr>\n",
       "    <tr>\n",
       "      <th>2</th>\n",
       "      <td>3</td>\n",
       "      <td>NaN</td>\n",
       "      <td>NaN</td>\n",
       "      <td>NaN</td>\n",
       "      <td>NaN</td>\n",
       "      <td>NaN</td>\n",
       "      <td>NaN</td>\n",
       "      <td>NaN</td>\n",
       "      <td>NaN</td>\n",
       "      <td>NaN</td>\n",
       "      <td>...</td>\n",
       "      <td>0.0</td>\n",
       "      <td>0.116661</td>\n",
       "      <td>0.000000</td>\n",
       "      <td>0.140485</td>\n",
       "      <td>0.138816</td>\n",
       "      <td>0.292588</td>\n",
       "      <td>0.274291</td>\n",
       "      <td>0.168218</td>\n",
       "      <td>0.150351</td>\n",
       "      <td>0.149162</td>\n",
       "    </tr>\n",
       "    <tr>\n",
       "      <th>3</th>\n",
       "      <td>4</td>\n",
       "      <td>NaN</td>\n",
       "      <td>NaN</td>\n",
       "      <td>NaN</td>\n",
       "      <td>NaN</td>\n",
       "      <td>NaN</td>\n",
       "      <td>NaN</td>\n",
       "      <td>NaN</td>\n",
       "      <td>NaN</td>\n",
       "      <td>NaN</td>\n",
       "      <td>...</td>\n",
       "      <td>0.0</td>\n",
       "      <td>0.136647</td>\n",
       "      <td>0.000000</td>\n",
       "      <td>0.170130</td>\n",
       "      <td>0.139797</td>\n",
       "      <td>0.434471</td>\n",
       "      <td>0.228035</td>\n",
       "      <td>0.143600</td>\n",
       "      <td>0.936443</td>\n",
       "      <td>0.143234</td>\n",
       "    </tr>\n",
       "    <tr>\n",
       "      <th>4</th>\n",
       "      <td>5</td>\n",
       "      <td>NaN</td>\n",
       "      <td>NaN</td>\n",
       "      <td>NaN</td>\n",
       "      <td>NaN</td>\n",
       "      <td>NaN</td>\n",
       "      <td>NaN</td>\n",
       "      <td>NaN</td>\n",
       "      <td>NaN</td>\n",
       "      <td>NaN</td>\n",
       "      <td>...</td>\n",
       "      <td>0.0</td>\n",
       "      <td>0.152709</td>\n",
       "      <td>0.000000</td>\n",
       "      <td>0.131247</td>\n",
       "      <td>0.262515</td>\n",
       "      <td>0.132606</td>\n",
       "      <td>0.140941</td>\n",
       "      <td>0.142135</td>\n",
       "      <td>0.143229</td>\n",
       "      <td>0.143480</td>\n",
       "    </tr>\n",
       "    <tr>\n",
       "      <th>...</th>\n",
       "      <td>...</td>\n",
       "      <td>...</td>\n",
       "      <td>...</td>\n",
       "      <td>...</td>\n",
       "      <td>...</td>\n",
       "      <td>...</td>\n",
       "      <td>...</td>\n",
       "      <td>...</td>\n",
       "      <td>...</td>\n",
       "      <td>...</td>\n",
       "      <td>...</td>\n",
       "      <td>...</td>\n",
       "      <td>...</td>\n",
       "      <td>...</td>\n",
       "      <td>...</td>\n",
       "      <td>...</td>\n",
       "      <td>...</td>\n",
       "      <td>...</td>\n",
       "      <td>...</td>\n",
       "      <td>...</td>\n",
       "      <td>...</td>\n",
       "    </tr>\n",
       "    <tr>\n",
       "      <th>23922</th>\n",
       "      <td>23923</td>\n",
       "      <td>8.116425</td>\n",
       "      <td>0.857656</td>\n",
       "      <td>1.964417</td>\n",
       "      <td>7.856372</td>\n",
       "      <td>0.887048</td>\n",
       "      <td>1.954488</td>\n",
       "      <td>6.432516</td>\n",
       "      <td>0.710742</td>\n",
       "      <td>1.913089</td>\n",
       "      <td>...</td>\n",
       "      <td>0.0</td>\n",
       "      <td>0.678417</td>\n",
       "      <td>1.084825</td>\n",
       "      <td>0.066267</td>\n",
       "      <td>0.066580</td>\n",
       "      <td>0.063015</td>\n",
       "      <td>0.061349</td>\n",
       "      <td>0.064413</td>\n",
       "      <td>0.067585</td>\n",
       "      <td>0.066238</td>\n",
       "    </tr>\n",
       "    <tr>\n",
       "      <th>23923</th>\n",
       "      <td>23924</td>\n",
       "      <td>8.125735</td>\n",
       "      <td>0.859631</td>\n",
       "      <td>1.964619</td>\n",
       "      <td>7.856372</td>\n",
       "      <td>0.887048</td>\n",
       "      <td>1.954488</td>\n",
       "      <td>6.432516</td>\n",
       "      <td>0.710742</td>\n",
       "      <td>1.913089</td>\n",
       "      <td>...</td>\n",
       "      <td>0.0</td>\n",
       "      <td>0.709114</td>\n",
       "      <td>0.917435</td>\n",
       "      <td>0.072272</td>\n",
       "      <td>0.076900</td>\n",
       "      <td>0.063667</td>\n",
       "      <td>0.068374</td>\n",
       "      <td>0.063673</td>\n",
       "      <td>0.078714</td>\n",
       "      <td>0.076701</td>\n",
       "    </tr>\n",
       "    <tr>\n",
       "      <th>23924</th>\n",
       "      <td>23925</td>\n",
       "      <td>8.136522</td>\n",
       "      <td>0.862119</td>\n",
       "      <td>1.964291</td>\n",
       "      <td>7.856372</td>\n",
       "      <td>0.887048</td>\n",
       "      <td>1.954488</td>\n",
       "      <td>6.432516</td>\n",
       "      <td>0.710742</td>\n",
       "      <td>1.913089</td>\n",
       "      <td>...</td>\n",
       "      <td>0.0</td>\n",
       "      <td>0.675818</td>\n",
       "      <td>0.688343</td>\n",
       "      <td>0.083697</td>\n",
       "      <td>0.075700</td>\n",
       "      <td>0.081948</td>\n",
       "      <td>0.074617</td>\n",
       "      <td>0.144948</td>\n",
       "      <td>0.073436</td>\n",
       "      <td>0.072629</td>\n",
       "    </tr>\n",
       "    <tr>\n",
       "      <th>23925</th>\n",
       "      <td>23926</td>\n",
       "      <td>8.149063</td>\n",
       "      <td>0.865221</td>\n",
       "      <td>1.963243</td>\n",
       "      <td>7.856372</td>\n",
       "      <td>0.887048</td>\n",
       "      <td>1.954488</td>\n",
       "      <td>6.432516</td>\n",
       "      <td>0.710742</td>\n",
       "      <td>1.913089</td>\n",
       "      <td>...</td>\n",
       "      <td>0.0</td>\n",
       "      <td>0.650360</td>\n",
       "      <td>0.000000</td>\n",
       "      <td>0.098399</td>\n",
       "      <td>0.092731</td>\n",
       "      <td>0.082215</td>\n",
       "      <td>0.088135</td>\n",
       "      <td>0.085600</td>\n",
       "      <td>0.091817</td>\n",
       "      <td>0.080775</td>\n",
       "    </tr>\n",
       "    <tr>\n",
       "      <th>23926</th>\n",
       "      <td>23927</td>\n",
       "      <td>8.163636</td>\n",
       "      <td>0.869036</td>\n",
       "      <td>1.961281</td>\n",
       "      <td>7.856372</td>\n",
       "      <td>0.887048</td>\n",
       "      <td>1.954488</td>\n",
       "      <td>6.432516</td>\n",
       "      <td>0.710742</td>\n",
       "      <td>1.913089</td>\n",
       "      <td>...</td>\n",
       "      <td>0.0</td>\n",
       "      <td>0.603637</td>\n",
       "      <td>0.000000</td>\n",
       "      <td>0.091980</td>\n",
       "      <td>0.102299</td>\n",
       "      <td>0.088094</td>\n",
       "      <td>0.089740</td>\n",
       "      <td>0.068143</td>\n",
       "      <td>0.099911</td>\n",
       "      <td>0.090988</td>\n",
       "    </tr>\n",
       "  </tbody>\n",
       "</table>\n",
       "<p>23927 rows × 247 columns</p>\n",
       "</div>"
      ],
      "text/plain": [
       "       Frame  Helmet_10 - 1 X  Helmet_10 - 1 Y  Helmet_10 - 1 Z  \\\n",
       "0          1              NaN              NaN              NaN   \n",
       "1          2              NaN              NaN              NaN   \n",
       "2          3              NaN              NaN              NaN   \n",
       "3          4              NaN              NaN              NaN   \n",
       "4          5              NaN              NaN              NaN   \n",
       "...      ...              ...              ...              ...   \n",
       "23922  23923         8.116425         0.857656         1.964417   \n",
       "23923  23924         8.125735         0.859631         1.964619   \n",
       "23924  23925         8.136522         0.862119         1.964291   \n",
       "23925  23926         8.149063         0.865221         1.963243   \n",
       "23926  23927         8.163636         0.869036         1.961281   \n",
       "\n",
       "       Helmet_10 - 2 X  Helmet_10 - 2 Y  Helmet_10 - 2 Z  Helmet_10 - 3 X  \\\n",
       "0                  NaN              NaN              NaN              NaN   \n",
       "1                  NaN              NaN              NaN              NaN   \n",
       "2                  NaN              NaN              NaN              NaN   \n",
       "3                  NaN              NaN              NaN              NaN   \n",
       "4                  NaN              NaN              NaN              NaN   \n",
       "...                ...              ...              ...              ...   \n",
       "23922         7.856372         0.887048         1.954488         6.432516   \n",
       "23923         7.856372         0.887048         1.954488         6.432516   \n",
       "23924         7.856372         0.887048         1.954488         6.432516   \n",
       "23925         7.856372         0.887048         1.954488         6.432516   \n",
       "23926         7.856372         0.887048         1.954488         6.432516   \n",
       "\n",
       "       Helmet_10 - 3 Y  Helmet_10 - 3 Z  ...  Helmet_1 - 1 speed (m/s)  \\\n",
       "0                  NaN              NaN  ...                       NaN   \n",
       "1                  NaN              NaN  ...                       0.0   \n",
       "2                  NaN              NaN  ...                       0.0   \n",
       "3                  NaN              NaN  ...                       0.0   \n",
       "4                  NaN              NaN  ...                       0.0   \n",
       "...                ...              ...  ...                       ...   \n",
       "23922         0.710742         1.913089  ...                       0.0   \n",
       "23923         0.710742         1.913089  ...                       0.0   \n",
       "23924         0.710742         1.913089  ...                       0.0   \n",
       "23925         0.710742         1.913089  ...                       0.0   \n",
       "23926         0.710742         1.913089  ...                       0.0   \n",
       "\n",
       "       Helmet_1 - 2 speed (m/s)  Helmet_1 - 3 speed (m/s)  \\\n",
       "0                           NaN                       NaN   \n",
       "1                      0.076438                  0.000000   \n",
       "2                      0.116661                  0.000000   \n",
       "3                      0.136647                  0.000000   \n",
       "4                      0.152709                  0.000000   \n",
       "...                         ...                       ...   \n",
       "23922                  0.678417                  1.084825   \n",
       "23923                  0.709114                  0.917435   \n",
       "23924                  0.675818                  0.688343   \n",
       "23925                  0.650360                  0.000000   \n",
       "23926                  0.603637                  0.000000   \n",
       "\n",
       "       DARKO - 1 speed (m/s)  DARKO - 2 speed (m/s)  DARKO - 3 speed (m/s)  \\\n",
       "0                        NaN                    NaN                    NaN   \n",
       "1                   0.141272               0.149300               0.660975   \n",
       "2                   0.140485               0.138816               0.292588   \n",
       "3                   0.170130               0.139797               0.434471   \n",
       "4                   0.131247               0.262515               0.132606   \n",
       "...                      ...                    ...                    ...   \n",
       "23922               0.066267               0.066580               0.063015   \n",
       "23923               0.072272               0.076900               0.063667   \n",
       "23924               0.083697               0.075700               0.081948   \n",
       "23925               0.098399               0.092731               0.082215   \n",
       "23926               0.091980               0.102299               0.088094   \n",
       "\n",
       "       DARKO - 4 speed (m/s)  DARKO - 5 speed (m/s)  DARKO - 6 speed (m/s)  \\\n",
       "0                        NaN                    NaN                    NaN   \n",
       "1                   0.149439               0.228801               0.151343   \n",
       "2                   0.274291               0.168218               0.150351   \n",
       "3                   0.228035               0.143600               0.936443   \n",
       "4                   0.140941               0.142135               0.143229   \n",
       "...                      ...                    ...                    ...   \n",
       "23922               0.061349               0.064413               0.067585   \n",
       "23923               0.068374               0.063673               0.078714   \n",
       "23924               0.074617               0.144948               0.073436   \n",
       "23925               0.088135               0.085600               0.091817   \n",
       "23926               0.089740               0.068143               0.099911   \n",
       "\n",
       "       DARKO - 7 speed (m/s)  \n",
       "0                        NaN  \n",
       "1                   0.144788  \n",
       "2                   0.149162  \n",
       "3                   0.143234  \n",
       "4                   0.143480  \n",
       "...                      ...  \n",
       "23922               0.066238  \n",
       "23923               0.076701  \n",
       "23924               0.072629  \n",
       "23925               0.080775  \n",
       "23926               0.090988  \n",
       "\n",
       "[23927 rows x 247 columns]"
      ]
     },
     "execution_count": 23,
     "metadata": {},
     "output_type": "execute_result"
    }
   ],
   "source": [
    "features_filtered"
   ]
  },
  {
   "attachments": {},
   "cell_type": "markdown",
   "metadata": {},
   "source": [
    "# Visualization"
   ]
  },
  {
   "cell_type": "code",
   "execution_count": 24,
   "metadata": {},
   "outputs": [],
   "source": [
    "import plotly.express as px\n",
    "import plotly.graph_objects as go"
   ]
  },
  {
   "cell_type": "code",
   "execution_count": 25,
   "metadata": {},
   "outputs": [
    {
     "data": {
      "text/plain": [
       "Index(['Helmet_10 TB2_G3D_X', 'Helmet_10 TB2_G3D_Y', 'Helmet_10 TB2_G3D_Z',\n",
       "       'Helmet_5 TB3_G3D_X', 'Helmet_5 TB3_G3D_Y', 'Helmet_5 TB3_G3D_Z'],\n",
       "      dtype='object')"
      ]
     },
     "execution_count": 25,
     "metadata": {},
     "output_type": "execute_result"
    }
   ],
   "source": [
    "features_filtered.columns[features_filtered.columns.str.contains(\"G3D\")]"
   ]
  },
  {
   "cell_type": "code",
   "execution_count": 26,
   "metadata": {},
   "outputs": [],
   "source": [
    "HELMET_TO_VISUALIZE = \"Helmet_10\""
   ]
  },
  {
   "cell_type": "code",
   "execution_count": 27,
   "metadata": {},
   "outputs": [
    {
     "data": {
      "text/plain": [
       "(5867, 3)"
      ]
     },
     "execution_count": 27,
     "metadata": {},
     "output_type": "execute_result"
    }
   ],
   "source": [
    "gaze_data = features_filtered[\n",
    "    [\n",
    "        f\"{HELMET_TO_VISUALIZE} TB2_G3D_X\",\n",
    "        f\"{HELMET_TO_VISUALIZE} TB2_G3D_Y\",\n",
    "        f\"{HELMET_TO_VISUALIZE} TB2_G3D_Z\",\n",
    "    ]\n",
    "].dropna()\n",
    "gaze_data.shape"
   ]
  },
  {
   "cell_type": "code",
   "execution_count": 28,
   "metadata": {},
   "outputs": [
    {
     "data": {
      "text/plain": [
       "(12238, 3)"
      ]
     },
     "execution_count": 28,
     "metadata": {},
     "output_type": "execute_result"
    }
   ],
   "source": [
    "centroids_data = features_filtered[features_filtered.columns[features_filtered.columns.str.contains(f\"{HELMET_TO_VISUALIZE} Centroid\")]].dropna()\n",
    "centroids_data.shape"
   ]
  },
  {
   "cell_type": "code",
   "execution_count": 29,
   "metadata": {},
   "outputs": [
    {
     "data": {
      "text/html": [
       "<div>\n",
       "<style scoped>\n",
       "    .dataframe tbody tr th:only-of-type {\n",
       "        vertical-align: middle;\n",
       "    }\n",
       "\n",
       "    .dataframe tbody tr th {\n",
       "        vertical-align: top;\n",
       "    }\n",
       "\n",
       "    .dataframe thead th {\n",
       "        text-align: right;\n",
       "    }\n",
       "</style>\n",
       "<table border=\"1\" class=\"dataframe\">\n",
       "  <thead>\n",
       "    <tr style=\"text-align: right;\">\n",
       "      <th></th>\n",
       "      <th>Helmet_10 Centroid_X</th>\n",
       "      <th>Helmet_10 Centroid_Y</th>\n",
       "      <th>Helmet_10 Centroid_Z</th>\n",
       "    </tr>\n",
       "  </thead>\n",
       "  <tbody>\n",
       "    <tr>\n",
       "      <th>891</th>\n",
       "      <td>-8295.28998</td>\n",
       "      <td>-993.88804</td>\n",
       "      <td>1882.33080</td>\n",
       "    </tr>\n",
       "    <tr>\n",
       "      <th>892</th>\n",
       "      <td>-8294.53301</td>\n",
       "      <td>-994.77403</td>\n",
       "      <td>1882.37496</td>\n",
       "    </tr>\n",
       "    <tr>\n",
       "      <th>893</th>\n",
       "      <td>-8291.72100</td>\n",
       "      <td>-995.63761</td>\n",
       "      <td>1882.68680</td>\n",
       "    </tr>\n",
       "    <tr>\n",
       "      <th>894</th>\n",
       "      <td>-8289.29061</td>\n",
       "      <td>-996.29318</td>\n",
       "      <td>1883.40001</td>\n",
       "    </tr>\n",
       "    <tr>\n",
       "      <th>895</th>\n",
       "      <td>-8286.48089</td>\n",
       "      <td>-997.36220</td>\n",
       "      <td>1883.73236</td>\n",
       "    </tr>\n",
       "    <tr>\n",
       "      <th>...</th>\n",
       "      <td>...</td>\n",
       "      <td>...</td>\n",
       "      <td>...</td>\n",
       "    </tr>\n",
       "    <tr>\n",
       "      <th>23444</th>\n",
       "      <td>5365.74768</td>\n",
       "      <td>1190.43576</td>\n",
       "      <td>1904.95191</td>\n",
       "    </tr>\n",
       "    <tr>\n",
       "      <th>23445</th>\n",
       "      <td>5371.73859</td>\n",
       "      <td>1184.23697</td>\n",
       "      <td>1905.76156</td>\n",
       "    </tr>\n",
       "    <tr>\n",
       "      <th>23446</th>\n",
       "      <td>5377.76340</td>\n",
       "      <td>1178.04349</td>\n",
       "      <td>1909.05072</td>\n",
       "    </tr>\n",
       "    <tr>\n",
       "      <th>23447</th>\n",
       "      <td>5383.43407</td>\n",
       "      <td>1171.62597</td>\n",
       "      <td>1909.93495</td>\n",
       "    </tr>\n",
       "    <tr>\n",
       "      <th>23450</th>\n",
       "      <td>5401.79579</td>\n",
       "      <td>1153.84183</td>\n",
       "      <td>1915.74674</td>\n",
       "    </tr>\n",
       "  </tbody>\n",
       "</table>\n",
       "<p>12238 rows × 3 columns</p>\n",
       "</div>"
      ],
      "text/plain": [
       "       Helmet_10 Centroid_X  Helmet_10 Centroid_Y  Helmet_10 Centroid_Z\n",
       "891             -8295.28998            -993.88804            1882.33080\n",
       "892             -8294.53301            -994.77403            1882.37496\n",
       "893             -8291.72100            -995.63761            1882.68680\n",
       "894             -8289.29061            -996.29318            1883.40001\n",
       "895             -8286.48089            -997.36220            1883.73236\n",
       "...                     ...                   ...                   ...\n",
       "23444            5365.74768            1190.43576            1904.95191\n",
       "23445            5371.73859            1184.23697            1905.76156\n",
       "23446            5377.76340            1178.04349            1909.05072\n",
       "23447            5383.43407            1171.62597            1909.93495\n",
       "23450            5401.79579            1153.84183            1915.74674\n",
       "\n",
       "[12238 rows x 3 columns]"
      ]
     },
     "execution_count": 29,
     "metadata": {},
     "output_type": "execute_result"
    }
   ],
   "source": [
    "centroids_data"
   ]
  },
  {
   "cell_type": "code",
   "execution_count": 30,
   "metadata": {},
   "outputs": [
    {
     "data": {
      "text/plain": [
       "(5867, 3)"
      ]
     },
     "execution_count": 30,
     "metadata": {},
     "output_type": "execute_result"
    }
   ],
   "source": [
    "centroids_filtered = centroids_data.loc[gaze_data.index]\n",
    "centroids_filtered /= 1000\n",
    "centroids_filtered.shape"
   ]
  },
  {
   "cell_type": "code",
   "execution_count": 52,
   "metadata": {},
   "outputs": [],
   "source": [
    "lo_info = GroupsInfo(\n",
    "    element_id=\"LO1\", markers_pattern_re=r\"LO1 - (\\d).*\", label_sep=\" - \"\n",
    ")\n",
    "darko_info = GroupsInfo(\n",
    "    element_id=\"DARKO\", markers_pattern_re=r\"DARKO - (\\d).*\", label_sep=\" - \"\n",
    ")\n",
    "helmets_info = GroupsInfo(\n",
    "    element_id=\"Helmet\", markers_pattern_re=r\"Helmet_(\\d+ - \\d).*\", label_sep=\"_\"\n",
    ")\n",
    "tobii_info = GroupsInfo(\n",
    "    element_id=\"Helmet\", markers_pattern_re=r\"Helmet_(\\d+ TB\\d)_G3D.*\", label_sep=\"_\"\n",
    ")\n",
    "centroids_info = GroupsInfo(\n",
    "        element_id=\"Helmet\",\n",
    "        markers_pattern_re=r\"Helmet_(\\d+) Centroid_.*\",\n",
    "        label_sep=\"_\",\n",
    "    )\n"
   ]
  },
  {
   "cell_type": "code",
   "execution_count": 58,
   "metadata": {},
   "outputs": [],
   "source": [
    "def transform_df2plotly(\n",
    "    input_df: pd.DataFrame, groups_info\n",
    ") -> pd.DataFrame:\n",
    "    \"\"\"Transform a dataframe into the plotly best suited format\n",
    "    |   Frame    |   X (m)  |   Y (m)  |   eid   |   mid   |\n",
    "\n",
    "    being `eid` the element identifier (e.g. Helmet, DARKO, etc), and `mid` the marker identifier\n",
    "\n",
    "    Parameters\n",
    "    ----------\n",
    "    input_df\n",
    "        input pandas DataFrame\n",
    "    element_id\n",
    "        see eid explanation above\n",
    "    markers_pattern_re\n",
    "        regex to groupby element id and markers\n",
    "    sep\n",
    "        separation used in col name form element id and marker id\n",
    "\n",
    "    Returns\n",
    "    -------\n",
    "        Transformed pandas DataFrame\n",
    "    \"\"\"\n",
    "    groups_info = [groups_info] if isinstance(groups_info, GroupsInfo) else groups_info\n",
    "    groups = []\n",
    "    for group_info in groups_info:\n",
    "        element_id = group_info.element_id\n",
    "        elements_grouped = input_df.groupby(\n",
    "            input_df.columns.str.extract(group_info.markers_pattern_re, expand=False),\n",
    "            axis=1,\n",
    "        )\n",
    "        for group_name, group in elements_grouped:\n",
    "            if element_id == \"Helmet\" and len(group_name.split(\"-\")) == 1:\n",
    "                tobii = len(group_name.split(\" \")) == 2\n",
    "                 # eyt or centroids\n",
    "                _mapping_cols = get_mapping_cols_tobii(\n",
    "                    element_id,\n",
    "                    group_name,\n",
    "                    group_info.label_sep,\n",
    "                ) if tobii else get_mapping_cols_centroids(element_id,\n",
    "                    group_name,\n",
    "                    group_info.label_sep)\n",
    "                group = group.rename(_mapping_cols, axis=1)\n",
    "                eid = element_id + \"_\" + group_name.split(\" \")[0]\n",
    "            else:\n",
    "                _mapping_cols = get_mapping_cols(\n",
    "                    element_id, group_name, group_info.label_sep\n",
    "                )\n",
    "                group = group.rename(_mapping_cols, axis=1)\n",
    "                eid = (\n",
    "                    element_id + \"_\" + group_name.split(\" - \")[0]\n",
    "                    if element_id == \"Helmet\"\n",
    "                    else element_id\n",
    "                )\n",
    "                mid = group_name.split(\" - \")[1] if element_id == \"Helmet\" else group_name\n",
    "                group[\"mid\"] = mid\n",
    "            group[\"eid\"] = eid\n",
    "            groups.append(group)\n",
    "    out_df = pd.concat(groups, axis=0)\n",
    "    return out_df"
   ]
  },
  {
   "cell_type": "code",
   "execution_count": 64,
   "metadata": {},
   "outputs": [],
   "source": [
    "transformed = transform_df2plotly(\n",
    "        input_df=features_filtered.copy(),\n",
    "        groups_info=[tobii_info],\n",
    "    )"
   ]
  },
  {
   "cell_type": "code",
   "execution_count": 65,
   "metadata": {},
   "outputs": [
    {
     "data": {
      "text/plain": [
       "0        Helmet_10\n",
       "1        Helmet_10\n",
       "2        Helmet_10\n",
       "3        Helmet_10\n",
       "4        Helmet_10\n",
       "           ...    \n",
       "23922     Helmet_5\n",
       "23923     Helmet_5\n",
       "23924     Helmet_5\n",
       "23925     Helmet_5\n",
       "23926     Helmet_5\n",
       "Name: eid, Length: 47854, dtype: object"
      ]
     },
     "execution_count": 65,
     "metadata": {},
     "output_type": "execute_result"
    }
   ],
   "source": [
    "transformed.eid"
   ]
  },
  {
   "cell_type": "code",
   "execution_count": 35,
   "metadata": {},
   "outputs": [],
   "source": [
    "transformed_trajectories = transform_df2plotly(\n",
    "        input_df=features_filtered[features_filtered.columns[features_filtered.columns.str.contains(\"\")]].copy(),\n",
    "        groups_info=[helmets_info],\n",
    "    )\n",
    "transformed_trajectories = transformed_trajectories.sort_index()"
   ]
  },
  {
   "cell_type": "code",
   "execution_count": 36,
   "metadata": {},
   "outputs": [
    {
     "data": {
      "text/html": [
       "<div>\n",
       "<style scoped>\n",
       "    .dataframe tbody tr th:only-of-type {\n",
       "        vertical-align: middle;\n",
       "    }\n",
       "\n",
       "    .dataframe tbody tr th {\n",
       "        vertical-align: top;\n",
       "    }\n",
       "\n",
       "    .dataframe thead th {\n",
       "        text-align: right;\n",
       "    }\n",
       "</style>\n",
       "<table border=\"1\" class=\"dataframe\">\n",
       "  <thead>\n",
       "    <tr style=\"text-align: right;\">\n",
       "      <th></th>\n",
       "      <th>X (m)</th>\n",
       "      <th>Y (m)</th>\n",
       "      <th>Z (m)</th>\n",
       "      <th>speed (m/s)</th>\n",
       "      <th>mid</th>\n",
       "      <th>eid</th>\n",
       "    </tr>\n",
       "  </thead>\n",
       "  <tbody>\n",
       "    <tr>\n",
       "      <th>0</th>\n",
       "      <td>NaN</td>\n",
       "      <td>NaN</td>\n",
       "      <td>NaN</td>\n",
       "      <td>NaN</td>\n",
       "      <td>1</td>\n",
       "      <td>Helmet_1</td>\n",
       "    </tr>\n",
       "    <tr>\n",
       "      <th>0</th>\n",
       "      <td>NaN</td>\n",
       "      <td>NaN</td>\n",
       "      <td>NaN</td>\n",
       "      <td>NaN</td>\n",
       "      <td>2</td>\n",
       "      <td>Helmet_10</td>\n",
       "    </tr>\n",
       "    <tr>\n",
       "      <th>0</th>\n",
       "      <td>NaN</td>\n",
       "      <td>NaN</td>\n",
       "      <td>NaN</td>\n",
       "      <td>NaN</td>\n",
       "      <td>2</td>\n",
       "      <td>Helmet_6</td>\n",
       "    </tr>\n",
       "    <tr>\n",
       "      <th>0</th>\n",
       "      <td>0.359082</td>\n",
       "      <td>3.059350</td>\n",
       "      <td>1.799919</td>\n",
       "      <td>NaN</td>\n",
       "      <td>3</td>\n",
       "      <td>Helmet_2</td>\n",
       "    </tr>\n",
       "    <tr>\n",
       "      <th>0</th>\n",
       "      <td>NaN</td>\n",
       "      <td>NaN</td>\n",
       "      <td>NaN</td>\n",
       "      <td>NaN</td>\n",
       "      <td>4</td>\n",
       "      <td>Helmet_10</td>\n",
       "    </tr>\n",
       "    <tr>\n",
       "      <th>...</th>\n",
       "      <td>...</td>\n",
       "      <td>...</td>\n",
       "      <td>...</td>\n",
       "      <td>...</td>\n",
       "      <td>...</td>\n",
       "      <td>...</td>\n",
       "    </tr>\n",
       "    <tr>\n",
       "      <th>23926</th>\n",
       "      <td>-8.317673</td>\n",
       "      <td>1.921456</td>\n",
       "      <td>1.497061</td>\n",
       "      <td>0.000000</td>\n",
       "      <td>5</td>\n",
       "      <td>Helmet_5</td>\n",
       "    </tr>\n",
       "    <tr>\n",
       "      <th>23926</th>\n",
       "      <td>8.163636</td>\n",
       "      <td>0.869036</td>\n",
       "      <td>1.961281</td>\n",
       "      <td>1.519131</td>\n",
       "      <td>1</td>\n",
       "      <td>Helmet_10</td>\n",
       "    </tr>\n",
       "    <tr>\n",
       "      <th>23926</th>\n",
       "      <td>8.933929</td>\n",
       "      <td>-0.531036</td>\n",
       "      <td>1.544316</td>\n",
       "      <td>0.787617</td>\n",
       "      <td>1</td>\n",
       "      <td>Helmet_2</td>\n",
       "    </tr>\n",
       "    <tr>\n",
       "      <th>23926</th>\n",
       "      <td>8.504732</td>\n",
       "      <td>-0.501440</td>\n",
       "      <td>1.683069</td>\n",
       "      <td>0.000000</td>\n",
       "      <td>5</td>\n",
       "      <td>Helmet_6</td>\n",
       "    </tr>\n",
       "    <tr>\n",
       "      <th>23926</th>\n",
       "      <td>7.407025</td>\n",
       "      <td>2.828262</td>\n",
       "      <td>1.800471</td>\n",
       "      <td>0.000000</td>\n",
       "      <td>5</td>\n",
       "      <td>Helmet_7</td>\n",
       "    </tr>\n",
       "  </tbody>\n",
       "</table>\n",
       "<p>741737 rows × 6 columns</p>\n",
       "</div>"
      ],
      "text/plain": [
       "          X (m)     Y (m)     Z (m)  speed (m/s) mid        eid\n",
       "0           NaN       NaN       NaN          NaN   1   Helmet_1\n",
       "0           NaN       NaN       NaN          NaN   2  Helmet_10\n",
       "0           NaN       NaN       NaN          NaN   2   Helmet_6\n",
       "0      0.359082  3.059350  1.799919          NaN   3   Helmet_2\n",
       "0           NaN       NaN       NaN          NaN   4  Helmet_10\n",
       "...         ...       ...       ...          ...  ..        ...\n",
       "23926 -8.317673  1.921456  1.497061     0.000000   5   Helmet_5\n",
       "23926  8.163636  0.869036  1.961281     1.519131   1  Helmet_10\n",
       "23926  8.933929 -0.531036  1.544316     0.787617   1   Helmet_2\n",
       "23926  8.504732 -0.501440  1.683069     0.000000   5   Helmet_6\n",
       "23926  7.407025  2.828262  1.800471     0.000000   5   Helmet_7\n",
       "\n",
       "[741737 rows x 6 columns]"
      ]
     },
     "execution_count": 36,
     "metadata": {},
     "output_type": "execute_result"
    }
   ],
   "source": [
    "transformed_trajectories"
   ]
  },
  {
   "cell_type": "code",
   "execution_count": 39,
   "metadata": {},
   "outputs": [
    {
     "data": {
      "text/html": [
       "<div>\n",
       "<style scoped>\n",
       "    .dataframe tbody tr th:only-of-type {\n",
       "        vertical-align: middle;\n",
       "    }\n",
       "\n",
       "    .dataframe tbody tr th {\n",
       "        vertical-align: top;\n",
       "    }\n",
       "\n",
       "    .dataframe thead th {\n",
       "        text-align: right;\n",
       "    }\n",
       "</style>\n",
       "<table border=\"1\" class=\"dataframe\">\n",
       "  <thead>\n",
       "    <tr style=\"text-align: right;\">\n",
       "      <th></th>\n",
       "      <th>TB_G3D X (m)</th>\n",
       "      <th>TB_G3D Y (m)</th>\n",
       "      <th>TB_G3D Z (m)</th>\n",
       "      <th>eid</th>\n",
       "      <th>Centroid X (m)</th>\n",
       "      <th>Centroid Y (m)</th>\n",
       "      <th>Centroid Z (m)</th>\n",
       "    </tr>\n",
       "  </thead>\n",
       "  <tbody>\n",
       "    <tr>\n",
       "      <th>0</th>\n",
       "      <td>NaN</td>\n",
       "      <td>NaN</td>\n",
       "      <td>NaN</td>\n",
       "      <td>Helmet_10</td>\n",
       "      <td>NaN</td>\n",
       "      <td>NaN</td>\n",
       "      <td>NaN</td>\n",
       "    </tr>\n",
       "    <tr>\n",
       "      <th>0</th>\n",
       "      <td>NaN</td>\n",
       "      <td>NaN</td>\n",
       "      <td>NaN</td>\n",
       "      <td>Helmet_5</td>\n",
       "      <td>NaN</td>\n",
       "      <td>NaN</td>\n",
       "      <td>NaN</td>\n",
       "    </tr>\n",
       "    <tr>\n",
       "      <th>0</th>\n",
       "      <td>NaN</td>\n",
       "      <td>NaN</td>\n",
       "      <td>NaN</td>\n",
       "      <td>Helmet_7</td>\n",
       "      <td>NaN</td>\n",
       "      <td>NaN</td>\n",
       "      <td>NaN</td>\n",
       "    </tr>\n",
       "    <tr>\n",
       "      <th>0</th>\n",
       "      <td>NaN</td>\n",
       "      <td>NaN</td>\n",
       "      <td>NaN</td>\n",
       "      <td>Helmet_5</td>\n",
       "      <td>NaN</td>\n",
       "      <td>NaN</td>\n",
       "      <td>NaN</td>\n",
       "    </tr>\n",
       "    <tr>\n",
       "      <th>0</th>\n",
       "      <td>NaN</td>\n",
       "      <td>NaN</td>\n",
       "      <td>NaN</td>\n",
       "      <td>Helmet_1</td>\n",
       "      <td>NaN</td>\n",
       "      <td>NaN</td>\n",
       "      <td>NaN</td>\n",
       "    </tr>\n",
       "    <tr>\n",
       "      <th>...</th>\n",
       "      <td>...</td>\n",
       "      <td>...</td>\n",
       "      <td>...</td>\n",
       "      <td>...</td>\n",
       "      <td>...</td>\n",
       "      <td>...</td>\n",
       "      <td>...</td>\n",
       "    </tr>\n",
       "    <tr>\n",
       "      <th>23926</th>\n",
       "      <td>NaN</td>\n",
       "      <td>NaN</td>\n",
       "      <td>NaN</td>\n",
       "      <td>Helmet_10</td>\n",
       "      <td>NaN</td>\n",
       "      <td>NaN</td>\n",
       "      <td>NaN</td>\n",
       "    </tr>\n",
       "    <tr>\n",
       "      <th>23926</th>\n",
       "      <td>NaN</td>\n",
       "      <td>NaN</td>\n",
       "      <td>NaN</td>\n",
       "      <td>Helmet_1</td>\n",
       "      <td>NaN</td>\n",
       "      <td>NaN</td>\n",
       "      <td>NaN</td>\n",
       "    </tr>\n",
       "    <tr>\n",
       "      <th>23926</th>\n",
       "      <td>NaN</td>\n",
       "      <td>NaN</td>\n",
       "      <td>NaN</td>\n",
       "      <td>Helmet_4</td>\n",
       "      <td>NaN</td>\n",
       "      <td>NaN</td>\n",
       "      <td>NaN</td>\n",
       "    </tr>\n",
       "    <tr>\n",
       "      <th>23926</th>\n",
       "      <td>NaN</td>\n",
       "      <td>NaN</td>\n",
       "      <td>NaN</td>\n",
       "      <td>Helmet_6</td>\n",
       "      <td>NaN</td>\n",
       "      <td>NaN</td>\n",
       "      <td>NaN</td>\n",
       "    </tr>\n",
       "    <tr>\n",
       "      <th>23926</th>\n",
       "      <td>NaN</td>\n",
       "      <td>NaN</td>\n",
       "      <td>NaN</td>\n",
       "      <td>Helmet_7</td>\n",
       "      <td>NaN</td>\n",
       "      <td>NaN</td>\n",
       "      <td>NaN</td>\n",
       "    </tr>\n",
       "  </tbody>\n",
       "</table>\n",
       "<p>215343 rows × 7 columns</p>\n",
       "</div>"
      ],
      "text/plain": [
       "       TB_G3D X (m)  TB_G3D Y (m)  TB_G3D Z (m)        eid  Centroid X (m)  \\\n",
       "0               NaN           NaN           NaN  Helmet_10             NaN   \n",
       "0               NaN           NaN           NaN   Helmet_5             NaN   \n",
       "0               NaN           NaN           NaN   Helmet_7             NaN   \n",
       "0               NaN           NaN           NaN   Helmet_5             NaN   \n",
       "0               NaN           NaN           NaN   Helmet_1             NaN   \n",
       "...             ...           ...           ...        ...             ...   \n",
       "23926           NaN           NaN           NaN  Helmet_10             NaN   \n",
       "23926           NaN           NaN           NaN   Helmet_1             NaN   \n",
       "23926           NaN           NaN           NaN   Helmet_4             NaN   \n",
       "23926           NaN           NaN           NaN   Helmet_6             NaN   \n",
       "23926           NaN           NaN           NaN   Helmet_7             NaN   \n",
       "\n",
       "       Centroid Y (m)  Centroid Z (m)  \n",
       "0                 NaN             NaN  \n",
       "0                 NaN             NaN  \n",
       "0                 NaN             NaN  \n",
       "0                 NaN             NaN  \n",
       "0                 NaN             NaN  \n",
       "...               ...             ...  \n",
       "23926             NaN             NaN  \n",
       "23926             NaN             NaN  \n",
       "23926             NaN             NaN  \n",
       "23926             NaN             NaN  \n",
       "23926             NaN             NaN  \n",
       "\n",
       "[215343 rows x 7 columns]"
      ]
     },
     "execution_count": 39,
     "metadata": {},
     "output_type": "execute_result"
    }
   ],
   "source": [
    "transformed.sort_index()"
   ]
  },
  {
   "cell_type": "code",
   "execution_count": 42,
   "metadata": {},
   "outputs": [
    {
     "data": {
      "text/plain": [
       "24      -7266.26826\n",
       "25      -7269.02931\n",
       "26      -7269.70511\n",
       "27      -7271.02460\n",
       "28      -7273.19973\n",
       "            ...    \n",
       "23532    4807.03929\n",
       "23533    4817.82989\n",
       "23534    4827.75654\n",
       "23536    4849.18181\n",
       "23537    4856.99515\n",
       "Name: Centroid X (m), Length: 87269, dtype: float64"
      ]
     },
     "execution_count": 42,
     "metadata": {},
     "output_type": "execute_result"
    }
   ],
   "source": [
    "transformed[\"Centroid X (m)\"].dropna()"
   ]
  },
  {
   "cell_type": "code",
   "execution_count": 68,
   "metadata": {},
   "outputs": [],
   "source": [
    "def filter_best_markers(elements_cat_df: pd.DataFrame, nan_counter_by_marker):\n",
    "    elements_filtered_by_best_marker = []\n",
    "    for instance_id, nans_counter in nan_counter_by_marker.items():\n",
    "        best_marker_id = min(\n",
    "            nans_counter,\n",
    "            key=nans_counter.get,\n",
    "        )\n",
    "        elements_filtered_by_best_marker.append(\n",
    "            elements_cat_df[\n",
    "                (elements_cat_df.eid == instance_id)\n",
    "                & (elements_cat_df.mid == best_marker_id)\n",
    "            ]\n",
    "        )\n",
    "    out_df = pd.concat(elements_filtered_by_best_marker, axis=0)\n",
    "    out_df = out_df.sort_index().reset_index()\n",
    "    return out_df"
   ]
  },
  {
   "cell_type": "code",
   "execution_count": 69,
   "metadata": {},
   "outputs": [],
   "source": [
    "best_makers_df = filter_best_markers(\n",
    "        elements_cat_df=transformed_trajectories.copy(), nan_counter_by_marker=best_markers\n",
    "    )"
   ]
  },
  {
   "cell_type": "code",
   "execution_count": 70,
   "metadata": {},
   "outputs": [
    {
     "data": {
      "text/html": [
       "<div>\n",
       "<style scoped>\n",
       "    .dataframe tbody tr th:only-of-type {\n",
       "        vertical-align: middle;\n",
       "    }\n",
       "\n",
       "    .dataframe tbody tr th {\n",
       "        vertical-align: top;\n",
       "    }\n",
       "\n",
       "    .dataframe thead th {\n",
       "        text-align: right;\n",
       "    }\n",
       "</style>\n",
       "<table border=\"1\" class=\"dataframe\">\n",
       "  <thead>\n",
       "    <tr style=\"text-align: right;\">\n",
       "      <th></th>\n",
       "      <th>index</th>\n",
       "      <th>X (m)</th>\n",
       "      <th>Y (m)</th>\n",
       "      <th>Z (m)</th>\n",
       "      <th>speed (m/s)</th>\n",
       "      <th>eid</th>\n",
       "      <th>mid</th>\n",
       "    </tr>\n",
       "  </thead>\n",
       "  <tbody>\n",
       "    <tr>\n",
       "      <th>0</th>\n",
       "      <td>0</td>\n",
       "      <td>NaN</td>\n",
       "      <td>NaN</td>\n",
       "      <td>NaN</td>\n",
       "      <td>NaN</td>\n",
       "      <td>Helmet_4</td>\n",
       "      <td>1</td>\n",
       "    </tr>\n",
       "    <tr>\n",
       "      <th>1</th>\n",
       "      <td>0</td>\n",
       "      <td>-8.414543</td>\n",
       "      <td>1.655896</td>\n",
       "      <td>1.353073</td>\n",
       "      <td>NaN</td>\n",
       "      <td>Helmet_5</td>\n",
       "      <td>2</td>\n",
       "    </tr>\n",
       "    <tr>\n",
       "      <th>2</th>\n",
       "      <td>0</td>\n",
       "      <td>0.236878</td>\n",
       "      <td>2.938533</td>\n",
       "      <td>1.829624</td>\n",
       "      <td>NaN</td>\n",
       "      <td>Helmet_2</td>\n",
       "      <td>2</td>\n",
       "    </tr>\n",
       "    <tr>\n",
       "      <th>3</th>\n",
       "      <td>0</td>\n",
       "      <td>NaN</td>\n",
       "      <td>NaN</td>\n",
       "      <td>NaN</td>\n",
       "      <td>NaN</td>\n",
       "      <td>Helmet_7</td>\n",
       "      <td>1</td>\n",
       "    </tr>\n",
       "    <tr>\n",
       "      <th>4</th>\n",
       "      <td>0</td>\n",
       "      <td>-7.037703</td>\n",
       "      <td>-2.437462</td>\n",
       "      <td>1.812973</td>\n",
       "      <td>NaN</td>\n",
       "      <td>Helmet_1</td>\n",
       "      <td>2</td>\n",
       "    </tr>\n",
       "    <tr>\n",
       "      <th>...</th>\n",
       "      <td>...</td>\n",
       "      <td>...</td>\n",
       "      <td>...</td>\n",
       "      <td>...</td>\n",
       "      <td>...</td>\n",
       "      <td>...</td>\n",
       "      <td>...</td>\n",
       "    </tr>\n",
       "    <tr>\n",
       "      <th>167484</th>\n",
       "      <td>23926</td>\n",
       "      <td>8.561741</td>\n",
       "      <td>0.561951</td>\n",
       "      <td>1.885170</td>\n",
       "      <td>0.603637</td>\n",
       "      <td>Helmet_1</td>\n",
       "      <td>2</td>\n",
       "    </tr>\n",
       "    <tr>\n",
       "      <th>167485</th>\n",
       "      <td>23926</td>\n",
       "      <td>7.683523</td>\n",
       "      <td>0.036912</td>\n",
       "      <td>1.863660</td>\n",
       "      <td>0.876024</td>\n",
       "      <td>Helmet_4</td>\n",
       "      <td>1</td>\n",
       "    </tr>\n",
       "    <tr>\n",
       "      <th>167486</th>\n",
       "      <td>23926</td>\n",
       "      <td>8.998510</td>\n",
       "      <td>-0.572453</td>\n",
       "      <td>1.623232</td>\n",
       "      <td>1.073293</td>\n",
       "      <td>Helmet_2</td>\n",
       "      <td>2</td>\n",
       "    </tr>\n",
       "    <tr>\n",
       "      <th>167487</th>\n",
       "      <td>23926</td>\n",
       "      <td>-8.583218</td>\n",
       "      <td>2.080728</td>\n",
       "      <td>1.261840</td>\n",
       "      <td>0.960324</td>\n",
       "      <td>Helmet_5</td>\n",
       "      <td>2</td>\n",
       "    </tr>\n",
       "    <tr>\n",
       "      <th>167488</th>\n",
       "      <td>23926</td>\n",
       "      <td>8.163636</td>\n",
       "      <td>0.869036</td>\n",
       "      <td>1.961281</td>\n",
       "      <td>1.519131</td>\n",
       "      <td>Helmet_10</td>\n",
       "      <td>1</td>\n",
       "    </tr>\n",
       "  </tbody>\n",
       "</table>\n",
       "<p>167489 rows × 7 columns</p>\n",
       "</div>"
      ],
      "text/plain": [
       "        index     X (m)     Y (m)     Z (m)  speed (m/s)        eid mid\n",
       "0           0       NaN       NaN       NaN          NaN   Helmet_4   1\n",
       "1           0 -8.414543  1.655896  1.353073          NaN   Helmet_5   2\n",
       "2           0  0.236878  2.938533  1.829624          NaN   Helmet_2   2\n",
       "3           0       NaN       NaN       NaN          NaN   Helmet_7   1\n",
       "4           0 -7.037703 -2.437462  1.812973          NaN   Helmet_1   2\n",
       "...       ...       ...       ...       ...          ...        ...  ..\n",
       "167484  23926  8.561741  0.561951  1.885170     0.603637   Helmet_1   2\n",
       "167485  23926  7.683523  0.036912  1.863660     0.876024   Helmet_4   1\n",
       "167486  23926  8.998510 -0.572453  1.623232     1.073293   Helmet_2   2\n",
       "167487  23926 -8.583218  2.080728  1.261840     0.960324   Helmet_5   2\n",
       "167488  23926  8.163636  0.869036  1.961281     1.519131  Helmet_10   1\n",
       "\n",
       "[167489 rows x 7 columns]"
      ]
     },
     "execution_count": 70,
     "metadata": {},
     "output_type": "execute_result"
    }
   ],
   "source": [
    "best_makers_df"
   ]
  },
  {
   "cell_type": "code",
   "execution_count": 71,
   "metadata": {},
   "outputs": [],
   "source": [
    "ORIGIN = (0,0,0)\n",
    "X = (1, 0, 0)\n",
    "Y = (0, 1, 0)\n",
    "Z = (0, 0, 1)\n",
    "COLOR1 = 'red'\n",
    "COLOR2 = 'green'\n",
    "COLOR3 = 'blue'\n",
    "COLOR4 = 'orange'"
   ]
  },
  {
   "attachments": {},
   "cell_type": "markdown",
   "metadata": {},
   "source": [
    "<TB2_G3D_X, TB2_G3D_Y, TB2_G3D_Z> is the transformation from the helmet frame to a convergence point\n",
    "of the eye gaze."
   ]
  },
  {
   "cell_type": "code",
   "execution_count": 73,
   "metadata": {},
   "outputs": [
    {
     "data": {
      "application/vnd.plotly.v1+json": {
       "config": {
        "plotlyServerURL": "https://plot.ly"
       },
       "data": [
        {
         "line": {
          "color": "red",
          "width": 5
         },
         "mode": "lines",
         "showlegend": false,
         "type": "scatter3d",
         "x": [
          0,
          1,
          null
         ],
         "y": [
          0,
          0,
          null
         ],
         "z": [
          0,
          0,
          null
         ]
        },
        {
         "line": {
          "color": "green",
          "width": 5
         },
         "mode": "lines",
         "showlegend": false,
         "type": "scatter3d",
         "x": [
          0,
          0,
          null
         ],
         "y": [
          0,
          1,
          null
         ],
         "z": [
          0,
          0,
          null
         ]
        },
        {
         "line": {
          "color": "blue",
          "width": 5
         },
         "mode": "lines",
         "showlegend": false,
         "type": "scatter3d",
         "x": [
          0,
          0,
          null
         ],
         "y": [
          0,
          0,
          null
         ],
         "z": [
          0,
          1,
          null
         ]
        },
        {
         "colorscale": [
          [
           0,
           "red"
          ],
          [
           1,
           "red"
          ]
         ],
         "showscale": false,
         "type": "cone",
         "u": [
          1
         ],
         "v": [
          0
         ],
         "w": [
          0
         ],
         "x": [
          1
         ],
         "y": [
          0
         ],
         "z": [
          0
         ]
        },
        {
         "colorscale": [
          [
           0,
           "green"
          ],
          [
           1,
           "green"
          ]
         ],
         "showscale": false,
         "type": "cone",
         "u": [
          0
         ],
         "v": [
          1
         ],
         "w": [
          0
         ],
         "x": [
          0
         ],
         "y": [
          1
         ],
         "z": [
          0
         ]
        },
        {
         "colorscale": [
          [
           0,
           "blue"
          ],
          [
           1,
           "blue"
          ]
         ],
         "showscale": false,
         "type": "cone",
         "u": [
          0
         ],
         "v": [
          0
         ],
         "w": [
          1
         ],
         "x": [
          0
         ],
         "y": [
          0
         ],
         "z": [
          1
         ]
        }
       ],
       "layout": {
        "template": {
         "data": {
          "candlestick": [
           {
            "decreasing": {
             "line": {
              "color": "#000033"
             }
            },
            "increasing": {
             "line": {
              "color": "#000032"
             }
            },
            "type": "candlestick"
           }
          ],
          "contour": [
           {
            "colorscale": [
             [
              0,
              "#000011"
             ],
             [
              0.1111111111111111,
              "#000012"
             ],
             [
              0.2222222222222222,
              "#000013"
             ],
             [
              0.3333333333333333,
              "#000014"
             ],
             [
              0.4444444444444444,
              "#000015"
             ],
             [
              0.5555555555555556,
              "#000016"
             ],
             [
              0.6666666666666666,
              "#000017"
             ],
             [
              0.7777777777777778,
              "#000018"
             ],
             [
              0.8888888888888888,
              "#000019"
             ],
             [
              1,
              "#000020"
             ]
            ],
            "type": "contour"
           }
          ],
          "contourcarpet": [
           {
            "colorscale": [
             [
              0,
              "#000011"
             ],
             [
              0.1111111111111111,
              "#000012"
             ],
             [
              0.2222222222222222,
              "#000013"
             ],
             [
              0.3333333333333333,
              "#000014"
             ],
             [
              0.4444444444444444,
              "#000015"
             ],
             [
              0.5555555555555556,
              "#000016"
             ],
             [
              0.6666666666666666,
              "#000017"
             ],
             [
              0.7777777777777778,
              "#000018"
             ],
             [
              0.8888888888888888,
              "#000019"
             ],
             [
              1,
              "#000020"
             ]
            ],
            "type": "contourcarpet"
           }
          ],
          "heatmap": [
           {
            "colorscale": [
             [
              0,
              "#000011"
             ],
             [
              0.1111111111111111,
              "#000012"
             ],
             [
              0.2222222222222222,
              "#000013"
             ],
             [
              0.3333333333333333,
              "#000014"
             ],
             [
              0.4444444444444444,
              "#000015"
             ],
             [
              0.5555555555555556,
              "#000016"
             ],
             [
              0.6666666666666666,
              "#000017"
             ],
             [
              0.7777777777777778,
              "#000018"
             ],
             [
              0.8888888888888888,
              "#000019"
             ],
             [
              1,
              "#000020"
             ]
            ],
            "type": "heatmap"
           }
          ],
          "histogram2d": [
           {
            "colorscale": [
             [
              0,
              "#000011"
             ],
             [
              0.1111111111111111,
              "#000012"
             ],
             [
              0.2222222222222222,
              "#000013"
             ],
             [
              0.3333333333333333,
              "#000014"
             ],
             [
              0.4444444444444444,
              "#000015"
             ],
             [
              0.5555555555555556,
              "#000016"
             ],
             [
              0.6666666666666666,
              "#000017"
             ],
             [
              0.7777777777777778,
              "#000018"
             ],
             [
              0.8888888888888888,
              "#000019"
             ],
             [
              1,
              "#000020"
             ]
            ],
            "type": "histogram2d"
           }
          ],
          "icicle": [
           {
            "textfont": {
             "color": "white"
            },
            "type": "icicle"
           }
          ],
          "sankey": [
           {
            "textfont": {
             "color": "#000036"
            },
            "type": "sankey"
           }
          ],
          "scatter": [
           {
            "marker": {
             "line": {
              "width": 0
             }
            },
            "type": "scatter"
           }
          ],
          "table": [
           {
            "cells": {
             "fill": {
              "color": "#000038"
             },
             "font": {
              "color": "#000037"
             },
             "line": {
              "color": "#000039"
             }
            },
            "header": {
             "fill": {
              "color": "#000040"
             },
             "font": {
              "color": "#000036"
             },
             "line": {
              "color": "#000039"
             }
            },
            "type": "table"
           }
          ],
          "waterfall": [
           {
            "connector": {
             "line": {
              "color": "#000036",
              "width": 2
             }
            },
            "decreasing": {
             "marker": {
              "color": "#000033"
             }
            },
            "increasing": {
             "marker": {
              "color": "#000032"
             }
            },
            "totals": {
             "marker": {
              "color": "#000034"
             }
            },
            "type": "waterfall"
           }
          ]
         },
         "layout": {
          "coloraxis": {
           "colorscale": [
            [
             0,
             "#000011"
            ],
            [
             0.1111111111111111,
             "#000012"
            ],
            [
             0.2222222222222222,
             "#000013"
            ],
            [
             0.3333333333333333,
             "#000014"
            ],
            [
             0.4444444444444444,
             "#000015"
            ],
            [
             0.5555555555555556,
             "#000016"
            ],
            [
             0.6666666666666666,
             "#000017"
            ],
            [
             0.7777777777777778,
             "#000018"
            ],
            [
             0.8888888888888888,
             "#000019"
            ],
            [
             1,
             "#000020"
            ]
           ]
          },
          "colorscale": {
           "diverging": [
            [
             0,
             "#000021"
            ],
            [
             0.1,
             "#000022"
            ],
            [
             0.2,
             "#000023"
            ],
            [
             0.3,
             "#000024"
            ],
            [
             0.4,
             "#000025"
            ],
            [
             0.5,
             "#000026"
            ],
            [
             0.6,
             "#000027"
            ],
            [
             0.7,
             "#000028"
            ],
            [
             0.8,
             "#000029"
            ],
            [
             0.9,
             "#000030"
            ],
            [
             1,
             "#000031"
            ]
           ],
           "sequential": [
            [
             0,
             "#000011"
            ],
            [
             0.1111111111111111,
             "#000012"
            ],
            [
             0.2222222222222222,
             "#000013"
            ],
            [
             0.3333333333333333,
             "#000014"
            ],
            [
             0.4444444444444444,
             "#000015"
            ],
            [
             0.5555555555555556,
             "#000016"
            ],
            [
             0.6666666666666666,
             "#000017"
            ],
            [
             0.7777777777777778,
             "#000018"
            ],
            [
             0.8888888888888888,
             "#000019"
            ],
            [
             1,
             "#000020"
            ]
           ],
           "sequentialminus": [
            [
             0,
             "#000011"
            ],
            [
             0.1111111111111111,
             "#000012"
            ],
            [
             0.2222222222222222,
             "#000013"
            ],
            [
             0.3333333333333333,
             "#000014"
            ],
            [
             0.4444444444444444,
             "#000015"
            ],
            [
             0.5555555555555556,
             "#000016"
            ],
            [
             0.6666666666666666,
             "#000017"
            ],
            [
             0.7777777777777778,
             "#000018"
            ],
            [
             0.8888888888888888,
             "#000019"
            ],
            [
             1,
             "#000020"
            ]
           ]
          },
          "colorway": [
           "#000001",
           "#000002",
           "#000003",
           "#000004",
           "#000005",
           "#000006",
           "#000007",
           "#000008",
           "#000009",
           "#000010"
          ]
         }
        }
       }
      }
     },
     "metadata": {},
     "output_type": "display_data"
    }
   ],
   "source": [
    "# fig = px.scatter_3d(\n",
    "#     transformed[:40000],\n",
    "#     x=\"TB_G3D X (m)\",\n",
    "#     y=\"TB_G3D Y (m)\",\n",
    "#     z=\"TB_G3D Z (m)\",\n",
    "#     color=\"eid\"\n",
    "# )\n",
    "fig = go.Figure([])\n",
    "fig.add_trace(\n",
    "    go.Scatter3d(\n",
    "        x=[ORIGIN[0], X[0], None],\n",
    "        y=[ORIGIN[1], X[1], None],\n",
    "        z=[ORIGIN[2], X[2], None],\n",
    "        mode=\"lines\",\n",
    "        line=dict(color=\"red\", width=5),\n",
    "        showlegend=False,\n",
    "    )\n",
    ")\n",
    "fig.add_trace(\n",
    "    go.Scatter3d(\n",
    "        x=[ORIGIN[0], Y[0], None],\n",
    "        y=[ORIGIN[1], Y[1], None],\n",
    "        z=[ORIGIN[2], Y[2], None],\n",
    "        mode=\"lines\",\n",
    "        line=dict(color=\"green\", width=5),\n",
    "        showlegend=False,\n",
    "    )\n",
    ")\n",
    "fig.add_trace(\n",
    "    go.Scatter3d(\n",
    "        x=[ORIGIN[0], Z[0], None],\n",
    "        y=[ORIGIN[1], Z[1], None],\n",
    "        z=[ORIGIN[2], Z[2], None],\n",
    "        mode=\"lines\",\n",
    "        line=dict(color=\"blue\", width=5),\n",
    "        showlegend=False,\n",
    "    )\n",
    ")\n",
    "\n",
    "fig.add_cone(\n",
    "    x=[1],\n",
    "    y=[0],\n",
    "    z=[0],\n",
    "    u=[1],\n",
    "    v=[0],\n",
    "    w=[0],\n",
    "    colorscale=[[0, COLOR1], [1, COLOR1]],\n",
    "    showscale=False,\n",
    ")\n",
    "\n",
    "fig.add_cone(\n",
    "    x=[0],\n",
    "    y=[1],\n",
    "    z=[0],\n",
    "    u=[0],\n",
    "    v=[1],\n",
    "    w=[0],\n",
    "    colorscale=[[0, COLOR2], [1, COLOR2]],\n",
    "    showscale=False,\n",
    ")\n",
    "\n",
    "fig.add_cone(\n",
    "    x=[0],\n",
    "    y=[0],\n",
    "    z=[Z[2]],\n",
    "    u=[0],\n",
    "    v=[0],\n",
    "    w=[Z[2]],\n",
    "    colorscale=[[0, COLOR3], [1, COLOR3]],\n",
    "    showscale=False,\n",
    ")"
   ]
  },
  {
   "cell_type": "code",
   "execution_count": null,
   "metadata": {},
   "outputs": [],
   "source": []
  }
 ],
 "metadata": {
  "kernelspec": {
   "display_name": "magni-dash",
   "language": "python",
   "name": "python3"
  },
  "language_info": {
   "codemirror_mode": {
    "name": "ipython",
    "version": 3
   },
   "file_extension": ".py",
   "mimetype": "text/x-python",
   "name": "python",
   "nbconvert_exporter": "python",
   "pygments_lexer": "ipython3",
   "version": "3.10.8"
  },
  "orig_nbformat": 4
 },
 "nbformat": 4,
 "nbformat_minor": 2
}
