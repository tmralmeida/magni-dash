{
 "cells": [
  {
   "cell_type": "code",
   "execution_count": 1,
   "metadata": {},
   "outputs": [],
   "source": [
    "%load_ext autoreload\n",
    "%autoreload 2\n",
    "\n",
    "import os\n",
    "import pandas as pd\n",
    "\n",
    "from data_preprocessing.spatio_temporal_features import SpatioTemporalFeatures\n",
    "from utils.common import GroupsInfo, get_mapping_cols_tobii, get_mapping_cols, get_mapping_cols_centroids\n",
    "from config.constants import TRAJECTORY_SAMPLES_PATH"
   ]
  },
  {
   "cell_type": "code",
   "execution_count": 2,
   "metadata": {},
   "outputs": [],
   "source": [
    "TRAJECTORY_SAMPLES_PATH = \"/home/tmr/Documents/PhD/My_PhD/code/magni-dash/data/short\""
   ]
  },
  {
   "cell_type": "code",
   "execution_count": 3,
   "metadata": {},
   "outputs": [
    {
     "data": {
      "text/plain": [
       "['Shortened_170522_SC2_R2.csv']"
      ]
     },
     "execution_count": 3,
     "metadata": {},
     "output_type": "execute_result"
    }
   ],
   "source": [
    "files = os.listdir(os.path.join(TRAJECTORY_SAMPLES_PATH, \"Scenario2\"))\n",
    "files_target = list(filter(lambda x: x.endswith(\".csv\"), files))\n",
    "files_target"
   ]
  },
  {
   "cell_type": "code",
   "execution_count": 4,
   "metadata": {},
   "outputs": [],
   "source": [
    "FILE_IDX = 0"
   ]
  },
  {
   "cell_type": "code",
   "execution_count": 5,
   "metadata": {},
   "outputs": [
    {
     "data": {
      "text/plain": [
       "'Shortened_170522_SC2_R2.csv'"
      ]
     },
     "execution_count": 5,
     "metadata": {},
     "output_type": "execute_result"
    }
   ],
   "source": [
    "files_target[FILE_IDX]"
   ]
  },
  {
   "cell_type": "code",
   "execution_count": 6,
   "metadata": {},
   "outputs": [],
   "source": [
    "sync_df = pd.read_csv(os.path.join(TRAJECTORY_SAMPLES_PATH, \"Scenario2\", files_target[FILE_IDX]), index_col=\"Frame\")"
   ]
  },
  {
   "cell_type": "code",
   "execution_count": 7,
   "metadata": {},
   "outputs": [
    {
     "data": {
      "text/plain": [
       "Helmet_10 Centroid_X    0.0\n",
       "Helmet_10 Centroid_Y    0.0\n",
       "Helmet_10 Centroid_Z    0.0\n",
       "dtype: float64"
      ]
     },
     "execution_count": 7,
     "metadata": {},
     "output_type": "execute_result"
    }
   ],
   "source": [
    "sync_df[sync_df.columns[sync_df.columns.str.contains(\"Helmet_10 Centroid\")]].isna().sum() / sync_df.shape[0]"
   ]
  },
  {
   "cell_type": "code",
   "execution_count": 8,
   "metadata": {},
   "outputs": [
    {
     "name": "stdout",
     "output_type": "stream",
     "text": [
      "X Helmet_10 - 1 X    0.0\n",
      "dtype: float64\n",
      "Y Helmet_10 - 1 Y    0.0\n",
      "dtype: float64\n",
      "Z Helmet_10 - 1 Z    0.0\n",
      "dtype: float64\n",
      "X Helmet_10 - 2 X    0.0\n",
      "dtype: float64\n",
      "Y Helmet_10 - 2 Y    0.0\n",
      "dtype: float64\n",
      "Z Helmet_10 - 2 Z    0.0\n",
      "dtype: float64\n",
      "X Helmet_10 - 3 X    0.0\n",
      "dtype: float64\n",
      "Y Helmet_10 - 3 Y    0.0\n",
      "dtype: float64\n",
      "Z Helmet_10 - 3 Z    0.0\n",
      "dtype: float64\n",
      "X Helmet_10 - 4 X    0.0\n",
      "dtype: float64\n",
      "Y Helmet_10 - 4 Y    0.0\n",
      "dtype: float64\n",
      "Z Helmet_10 - 4 Z    0.0\n",
      "dtype: float64\n"
     ]
    }
   ],
   "source": [
    "for m in range(1,5):\n",
    "    print(\"X\", sync_df[sync_df.columns[sync_df.columns.str.contains(f\"Helmet_10 - {m} X\")]].isna().sum() / sync_df.shape[0])\n",
    "    print(\"Y\", sync_df[sync_df.columns[sync_df.columns.str.contains(f\"Helmet_10 - {m} Y\")]].isna().sum() / sync_df.shape[0])\n",
    "    print(\"Z\", sync_df[sync_df.columns[sync_df.columns.str.contains(f\"Helmet_10 - {m} Z\")]].isna().sum() / sync_df.shape[0])"
   ]
  },
  {
   "cell_type": "code",
   "execution_count": 9,
   "metadata": {},
   "outputs": [
    {
     "data": {
      "text/plain": [
       "Helmet_5 TB2_G3D_X    0.005988\n",
       "Helmet_5 TB2_G3D_Y    0.005988\n",
       "Helmet_5 TB2_G3D_Z    0.005988\n",
       "Helmet_6 TB3_G3D_X    1.000000\n",
       "Helmet_6 TB3_G3D_Y    1.000000\n",
       "Helmet_6 TB3_G3D_Z    1.000000\n",
       "dtype: float64"
      ]
     },
     "execution_count": 9,
     "metadata": {},
     "output_type": "execute_result"
    }
   ],
   "source": [
    "sync_df[sync_df.columns[sync_df.columns.str.contains(\"G3D\")]].isna().sum() / sync_df.shape[0]"
   ]
  },
  {
   "cell_type": "code",
   "execution_count": 10,
   "metadata": {},
   "outputs": [],
   "source": [
    "def get_best_markers(input_df: pd.DataFrame):\n",
    "    \"\"\"Get markers with lowest amount of NaN values\"\"\"\n",
    "    x_coordinate = input_df[input_df.columns[input_df.columns.str.endswith(\"X\")]]\n",
    "    x_cols = x_coordinate.columns\n",
    "\n",
    "    instances = set(x_coordinate.columns.str.split(\" - \").str[0])\n",
    "    instances = list(filter(lambda x: len(x.split(\" \")) == 1, instances))\n",
    "    nan_counter_by_marker = {}\n",
    "    for instance_id in instances:\n",
    "        nan_counter_by_marker[instance_id] = {}\n",
    "        markers = (\n",
    "            x_coordinate[x_cols[x_cols.str.startswith(f\"{instance_id} -\")]]\n",
    "            .columns.str.split(regex=r\" (/d) \")\n",
    "            .str[2]\n",
    "        )\n",
    "        for marker_id in markers:\n",
    "            n_nans = (\n",
    "                x_coordinate[f\"{instance_id} - {marker_id} X\"]\n",
    "                .isna()\n",
    "                .sum()\n",
    "            )\n",
    "            nan_counter_by_marker[instance_id][marker_id] = n_nans\n",
    "    print(nan_counter_by_marker)\n",
    "    return nan_counter_by_marker"
   ]
  },
  {
   "cell_type": "code",
   "execution_count": 11,
   "metadata": {},
   "outputs": [
    {
     "name": "stdout",
     "output_type": "stream",
     "text": [
      "{'Helmet_1': {'1': 158, '2': 0, '3': 48}, 'Helmet_2': {'1': 0, '2': 16, '3': 17, '4': 11}, 'Helmet_5': {'1': 0, '2': 0, '3': 0, '4': 0, '5': 0}, 'LO1': {'1': 167, '2': 167, '3': 167, '4': 167, '5': 167, '6': 167, '7': 167, '8': 167}, 'Helmet_4': {'1': 92, '2': 158, '3': 130, '4': 167, '5': 161}, 'DARKO_Robot': {'1': 0, '2': 0, '3': 0, '4': 0, '5': 0, '6': 0, '7': 0}, 'Helmet_8': {'1': 0, '2': 0, '3': 5, '4': 0, '5': 0}, 'Helmet_10': {'1': 0, '2': 0, '3': 0, '4': 0}, 'Helmet_6': {'1': 0, '2': 163, '3': 144, '4': 167, '5': 72}}\n"
     ]
    }
   ],
   "source": [
    "best_markers = get_best_markers(sync_df)"
   ]
  },
  {
   "cell_type": "code",
   "execution_count": 12,
   "metadata": {},
   "outputs": [],
   "source": [
    "def preprocess_df(raw_df: pd.DataFrame) -> pd.DataFrame:\n",
    "    \"\"\"interpolation and divide by 1000 to get measurements in meters\"\"\"\n",
    "    preprocessed_df = raw_df.copy()\n",
    "    trajectories_condition = preprocessed_df.columns[\n",
    "            (preprocessed_df.columns.str.endswith(\" X\"))\n",
    "            | ((preprocessed_df.columns.str.endswith(\" Y\")))\n",
    "            | ((preprocessed_df.columns.str.endswith(\" Z\")))\n",
    "        ]\n",
    "    preprocessed_df[trajectories_condition] /= 1000\n",
    "    return preprocessed_df"
   ]
  },
  {
   "cell_type": "code",
   "execution_count": 13,
   "metadata": {},
   "outputs": [
    {
     "data": {
      "text/plain": [
       "Index(['DARKO_Robot - 1 X', 'DARKO_Robot - 2 X', 'DARKO_Robot - 3 X',\n",
       "       'DARKO_Robot - 4 X', 'DARKO_Robot - 5 X', 'DARKO_Robot - 6 X',\n",
       "       'DARKO_Robot - 7 X', 'Helmet_1 - 1 X', 'Helmet_1 - 2 X',\n",
       "       'Helmet_1 - 3 X', 'Helmet_10 - 1 X', 'Helmet_10 - 2 X',\n",
       "       'Helmet_10 - 3 X', 'Helmet_10 - 4 X', 'Helmet_2 - 1 X',\n",
       "       'Helmet_2 - 2 X', 'Helmet_2 - 3 X', 'Helmet_2 - 4 X', 'Helmet_4 - 1 X',\n",
       "       'Helmet_4 - 2 X', 'Helmet_4 - 3 X', 'Helmet_4 - 4 X', 'Helmet_4 - 5 X',\n",
       "       'Helmet_5 - 1 X', 'Helmet_5 - 2 X', 'Helmet_5 - 3 X', 'Helmet_5 - 4 X',\n",
       "       'Helmet_5 - 5 X', 'Helmet_6 - 1 X', 'Helmet_6 - 2 X', 'Helmet_6 - 3 X',\n",
       "       'Helmet_6 - 4 X', 'Helmet_6 - 5 X', 'Helmet_8 - 1 X', 'Helmet_8 - 2 X',\n",
       "       'Helmet_8 - 3 X', 'Helmet_8 - 4 X', 'Helmet_8 - 5 X', 'LO1 - 1 X',\n",
       "       'LO1 - 2 X', 'LO1 - 3 X', 'LO1 - 4 X', 'LO1 - 5 X', 'LO1 - 6 X',\n",
       "       'LO1 - 7 X', 'LO1 - 8 X'],\n",
       "      dtype='object')"
      ]
     },
     "execution_count": 13,
     "metadata": {},
     "output_type": "execute_result"
    }
   ],
   "source": [
    "sync_df[sync_df.columns[sync_df.columns.str.endswith(\" X\")]].columns"
   ]
  },
  {
   "cell_type": "code",
   "execution_count": 14,
   "metadata": {},
   "outputs": [],
   "source": [
    "preprocessed_trajectories = preprocess_df(sync_df)"
   ]
  },
  {
   "cell_type": "code",
   "execution_count": 15,
   "metadata": {},
   "outputs": [
    {
     "data": {
      "text/plain": [
       "Helmet_5 TB2_G3D_X    0.005988\n",
       "Helmet_5 TB2_G3D_Y    0.005988\n",
       "Helmet_5 TB2_G3D_Z    0.005988\n",
       "Helmet_6 TB3_G3D_X    1.000000\n",
       "Helmet_6 TB3_G3D_Y    1.000000\n",
       "Helmet_6 TB3_G3D_Z    1.000000\n",
       "dtype: float64"
      ]
     },
     "execution_count": 15,
     "metadata": {},
     "output_type": "execute_result"
    }
   ],
   "source": [
    "preprocessed_trajectories[\n",
    "    preprocessed_trajectories.columns[\n",
    "        preprocessed_trajectories.columns.str.contains(\"G3D\")\n",
    "    ]\n",
    "].isna().sum() / preprocessed_trajectories.shape[0]"
   ]
  },
  {
   "cell_type": "code",
   "execution_count": 16,
   "metadata": {},
   "outputs": [],
   "source": [
    "moving_agents = preprocessed_trajectories.columns[\n",
    "    (preprocessed_trajectories.columns.str.startswith(\"Helmet\"))\n",
    "    | (preprocessed_trajectories.columns.str.startswith(\"LO1\"))\n",
    "].tolist()\n",
    "moving_agents_labels = set(map(lambda x: x.split(\" - \")[0], moving_agents))\n",
    "moving_agents_labels = list(filter(lambda x: len(x.split(\" \")) == 1, moving_agents_labels))"
   ]
  },
  {
   "cell_type": "code",
   "execution_count": 17,
   "metadata": {},
   "outputs": [],
   "source": [
    "def extract_features(\n",
    "    out_df: pd.DataFrame,\n",
    "    magents_labels,\n",
    "    darko_label,\n",
    ") -> pd.DataFrame:\n",
    "    \"\"\"Extract features to be used in the profiles section such as speed\n",
    "\n",
    "    Parameters\n",
    "    ----------\n",
    "    input_df\n",
    "        raw pandas DataFrame\n",
    "    magents_labels\n",
    "        moving agents labels\n",
    "    darko_label\n",
    "        darko robot label\n",
    "\n",
    "    Returns\n",
    "    -------\n",
    "        pandas DataFrame with the respective features computed\n",
    "    \"\"\"\n",
    "    magents_labels = (\n",
    "        [magents_labels] if isinstance(magents_labels, str) else magents_labels\n",
    "    )\n",
    "    elements_labels = magents_labels + [darko_label] if darko_label else magents_labels\n",
    "\n",
    "    out_df = SpatioTemporalFeatures.get_speed(\n",
    "        out_df,\n",
    "        time_col_name=\"Time\",\n",
    "        element_name=elements_labels,\n",
    "    )\n",
    "\n",
    "    out_df = out_df.reset_index()\n",
    "    return out_df"
   ]
  },
  {
   "cell_type": "code",
   "execution_count": 18,
   "metadata": {},
   "outputs": [],
   "source": [
    "moving_agents_cols = preprocessed_trajectories.columns[(preprocessed_trajectories.columns.str.endswith(\" X\"))\n",
    "            | ((preprocessed_trajectories.columns.str.endswith(\" Y\")))\n",
    "            | ((preprocessed_trajectories.columns.str.endswith(\" Z\")))]"
   ]
  },
  {
   "cell_type": "code",
   "execution_count": 19,
   "metadata": {},
   "outputs": [
    {
     "data": {
      "text/plain": [
       "Index(['DARKO_Robot - 1 X', 'DARKO_Robot - 1 Y', 'DARKO_Robot - 1 Z',\n",
       "       'DARKO_Robot - 2 X', 'DARKO_Robot - 2 Y', 'DARKO_Robot - 2 Z',\n",
       "       'DARKO_Robot - 3 X', 'DARKO_Robot - 3 Y', 'DARKO_Robot - 3 Z',\n",
       "       'DARKO_Robot - 4 X',\n",
       "       ...\n",
       "       'LO1 - 5 Z', 'LO1 - 6 X', 'LO1 - 6 Y', 'LO1 - 6 Z', 'LO1 - 7 X',\n",
       "       'LO1 - 7 Y', 'LO1 - 7 Z', 'LO1 - 8 X', 'LO1 - 8 Y', 'LO1 - 8 Z'],\n",
       "      dtype='object', length=138)"
      ]
     },
     "execution_count": 19,
     "metadata": {},
     "output_type": "execute_result"
    }
   ],
   "source": [
    "moving_agents_cols"
   ]
  },
  {
   "cell_type": "code",
   "execution_count": 20,
   "metadata": {},
   "outputs": [
    {
     "data": {
      "text/plain": [
       "['Helmet_4',\n",
       " 'LO1',\n",
       " 'Helmet_8',\n",
       " 'Helmet_6',\n",
       " 'Helmet_2',\n",
       " 'Helmet_10',\n",
       " 'Helmet_1',\n",
       " 'Helmet_5']"
      ]
     },
     "execution_count": 20,
     "metadata": {},
     "output_type": "execute_result"
    }
   ],
   "source": [
    "moving_agents_labels"
   ]
  },
  {
   "cell_type": "code",
   "execution_count": 21,
   "metadata": {},
   "outputs": [
    {
     "name": "stderr",
     "output_type": "stream",
     "text": [
      "2023-05-25 16:35:30.225 INFO    data_preprocessing.spatio_temporal_features: {'Helmet_2 - 1 X_delta', 'DARKO_Robot - 2 Z_delta', 'Helmet_1 - 1 Y_delta', 'DARKO_Robot - 6 X_delta', 'LO1 - 7 Z_delta', 'Helmet_6 - 4 Y_delta', 'Helmet_2 - 3 X_delta', 'LO1 - 7 X_delta', 'Helmet_4 - 5 Z_delta', 'DARKO_Robot - 3 Y_delta', 'DARKO_Robot - 3 Z_delta', 'Helmet_5 - 1 Z_delta', 'Helmet_4 - 1 X_delta', 'Helmet_6 - 1 X_delta', 'LO1 - 8 Z_delta', 'Helmet_10 - 3 Z_delta', 'LO1 - 6 Z_delta', 'LO1 - 6 Y_delta', 'LO1 - 1 X_delta', 'DARKO_Robot - 7 X_delta', 'Helmet_4 - 2 Y_delta', 'Helmet_6 - 3 Z_delta', 'LO1 - 4 Z_delta', 'DARKO_Robot - 6 Z_delta', 'DARKO_Robot - 4 Z_delta', 'Helmet_10 - 4 Z_delta', 'LO1 - 4 Y_delta', 'Helmet_10 - 2 Z_delta', 'Helmet_10 - 4 X_delta', 'DARKO_Robot - 4 Y_delta', 'Helmet_10 - 3 Y_delta', 'Helmet_10 - 2 Y_delta', 'Helmet_1 - 1 X_delta', 'Helmet_8 - 1 Y_delta', 'Helmet_2 - 3 Y_delta', 'DARKO_Robot - 1 Y_delta', 'LO1 - 4 X_delta', 'Helmet_2 - 4 X_delta', 'Helmet_10 - 4 Y_delta', 'Helmet_1 - 3 Z_delta', 'Helmet_2 - 2 X_delta', 'LO1 - 5 Z_delta', 'LO1 - 7 Y_delta', 'Helmet_8 - 4 Y_delta', 'Helmet_2 - 4 Z_delta', 'DARKO_Robot - 3 X_delta', 'Helmet_8 - 2 Z_delta', 'LO1 - 5 X_delta', 'LO1 - 3 X_delta', 'Helmet_2 - 1 Y_delta', 'Helmet_8 - 3 X_delta', 'LO1 - 6 X_delta', 'DARKO_Robot - 5 Y_delta', 'Helmet_5 - 2 X_delta', 'Helmet_10 - 1 X_delta', 'Helmet_2 - 3 Z_delta', 'Helmet_8 - 1 Z_delta', 'Helmet_4 - 4 Y_delta', 'Helmet_4 - 4 X_delta', 'LO1 - 1 Z_delta', 'Helmet_1 - 1 Z_delta', 'Helmet_6 - 5 Y_delta', 'Helmet_10 - 1 Z_delta', 'Helmet_5 - 1 X_delta', 'Helmet_8 - 3 Z_delta', 'Helmet_2 - 2 Y_delta', 'LO1 - 8 Y_delta', 'Helmet_5 - 2 Z_delta', 'Helmet_5 - 4 Y_delta', 'Helmet_6 - 3 Y_delta', 'Helmet_8 - 1 X_delta', 'DARKO_Robot - 1 X_delta', 'Helmet_6 - 5 Z_delta', 'Helmet_4 - 4 Z_delta', 'Helmet_6 - 2 Z_delta', 'LO1 - 1 Y_delta', 'Helmet_8 - 5 X_delta', 'Helmet_5 - 3 X_delta', 'Helmet_8 - 2 Y_delta', 'Helmet_5 - 4 X_delta', 'Helmet_2 - 4 Y_delta', 'Helmet_6 - 3 X_delta', 'DARKO_Robot - 7 Z_delta', 'LO1 - 2 Y_delta', 'Helmet_6 - 2 X_delta', 'Helmet_8 - 2 X_delta', 'Helmet_6 - 1 Y_delta', 'Helmet_6 - 4 Z_delta', 'Helmet_8 - 4 X_delta', 'Helmet_5 - 5 X_delta', 'Helmet_10 - 2 X_delta', 'Helmet_5 - 4 Z_delta', 'Helmet_5 - 5 Z_delta', 'Helmet_5 - 3 Y_delta', 'Helmet_8 - 3 Y_delta', 'DARKO_Robot - 1 Z_delta', 'DARKO_Robot - 7 Y_delta', 'Helmet_5 - 5 Y_delta', 'LO1 - 3 Z_delta', 'Helmet_4 - 1 Z_delta', 'Helmet_1 - 3 Y_delta', 'Helmet_10 - 1 Y_delta', 'Helmet_1 - 2 X_delta', 'Helmet_8 - 4 Z_delta', 'DARKO_Robot - 4 X_delta', 'Helmet_4 - 2 Z_delta', 'LO1 - 3 Y_delta', 'LO1 - 5 Y_delta', 'Helmet_2 - 1 Z_delta', 'Helmet_4 - 1 Y_delta', 'Helmet_5 - 3 Z_delta', 'Helmet_4 - 3 Y_delta', 'Helmet_6 - 1 Z_delta', 'Helmet_4 - 5 X_delta', 'Helmet_6 - 4 X_delta', 'Helmet_5 - 2 Y_delta', 'DARKO_Robot - 2 Y_delta', 'DARKO_Robot - 5 X_delta', 'Helmet_8 - 5 Z_delta', 'Time_delta', 'Helmet_4 - 2 X_delta', 'DARKO_Robot - 6 Y_delta', 'Helmet_6 - 2 Y_delta', 'DARKO_Robot - 5 Z_delta', 'Helmet_1 - 2 Y_delta', 'Helmet_8 - 5 Y_delta', 'Helmet_4 - 3 Z_delta', 'Helmet_5 - 1 Y_delta', 'LO1 - 8 X_delta', 'Helmet_4 - 3 X_delta', 'Helmet_6 - 5 X_delta', 'Helmet_1 - 2 Z_delta', 'LO1 - 2 Z_delta', 'DARKO_Robot - 2 X_delta', 'Helmet_1 - 3 X_delta', 'Helmet_4 - 5 Y_delta', 'LO1 - 2 X_delta', 'Helmet_10 - 3 X_delta', 'Helmet_2 - 2 Z_delta'} created!\n",
      "2023-05-25 16:35:30.240 INFO    data_preprocessing.spatio_temporal_features: ['Helmet_4 - 1 speed (m/s)', 'Helmet_4 - 2 speed (m/s)', 'Helmet_4 - 3 speed (m/s)', 'Helmet_4 - 4 speed (m/s)', 'Helmet_4 - 5 speed (m/s)'] created successfully!\n",
      "2023-05-25 16:35:30.257 INFO    data_preprocessing.spatio_temporal_features: ['LO1 - 1 speed (m/s)', 'LO1 - 2 speed (m/s)', 'LO1 - 3 speed (m/s)', 'LO1 - 4 speed (m/s)', 'LO1 - 5 speed (m/s)', 'LO1 - 6 speed (m/s)', 'LO1 - 7 speed (m/s)', 'LO1 - 8 speed (m/s)'] created successfully!\n",
      "2023-05-25 16:35:30.273 INFO    data_preprocessing.spatio_temporal_features: ['Helmet_8 - 1 speed (m/s)', 'Helmet_8 - 2 speed (m/s)', 'Helmet_8 - 3 speed (m/s)', 'Helmet_8 - 4 speed (m/s)', 'Helmet_8 - 5 speed (m/s)'] created successfully!\n",
      "2023-05-25 16:35:30.289 INFO    data_preprocessing.spatio_temporal_features: ['Helmet_6 - 1 speed (m/s)', 'Helmet_6 - 2 speed (m/s)', 'Helmet_6 - 3 speed (m/s)', 'Helmet_6 - 4 speed (m/s)', 'Helmet_6 - 5 speed (m/s)'] created successfully!\n",
      "2023-05-25 16:35:30.303 INFO    data_preprocessing.spatio_temporal_features: ['Helmet_2 - 1 speed (m/s)', 'Helmet_2 - 2 speed (m/s)', 'Helmet_2 - 3 speed (m/s)', 'Helmet_2 - 4 speed (m/s)'] created successfully!\n",
      "2023-05-25 16:35:30.316 INFO    data_preprocessing.spatio_temporal_features: ['Helmet_10 - 1 speed (m/s)', 'Helmet_10 - 2 speed (m/s)', 'Helmet_10 - 3 speed (m/s)', 'Helmet_10 - 4 speed (m/s)'] created successfully!\n",
      "2023-05-25 16:35:30.328 INFO    data_preprocessing.spatio_temporal_features: ['Helmet_1 - 1 speed (m/s)', 'Helmet_1 - 2 speed (m/s)', 'Helmet_1 - 3 speed (m/s)'] created successfully!\n",
      "2023-05-25 16:35:30.343 INFO    data_preprocessing.spatio_temporal_features: ['Helmet_5 - 1 speed (m/s)', 'Helmet_5 - 2 speed (m/s)', 'Helmet_5 - 3 speed (m/s)', 'Helmet_5 - 4 speed (m/s)', 'Helmet_5 - 5 speed (m/s)'] created successfully!\n",
      "2023-05-25 16:35:30.360 INFO    data_preprocessing.spatio_temporal_features: ['DARKO_Robot - 1 speed (m/s)', 'DARKO_Robot - 2 speed (m/s)', 'DARKO_Robot - 3 speed (m/s)', 'DARKO_Robot - 4 speed (m/s)', 'DARKO_Robot - 5 speed (m/s)', 'DARKO_Robot - 6 speed (m/s)', 'DARKO_Robot - 7 speed (m/s)'] created successfully!\n"
     ]
    }
   ],
   "source": [
    "features_df = extract_features(\n",
    "        preprocessed_trajectories[[\"Time\"] + moving_agents_cols.tolist()].copy(),\n",
    "        magents_labels=moving_agents_labels,\n",
    "        darko_label=\"DARKO_Robot\",\n",
    "    )"
   ]
  },
  {
   "cell_type": "code",
   "execution_count": 22,
   "metadata": {},
   "outputs": [
    {
     "data": {
      "text/html": [
       "<div>\n",
       "<style scoped>\n",
       "    .dataframe tbody tr th:only-of-type {\n",
       "        vertical-align: middle;\n",
       "    }\n",
       "\n",
       "    .dataframe tbody tr th {\n",
       "        vertical-align: top;\n",
       "    }\n",
       "\n",
       "    .dataframe thead th {\n",
       "        text-align: right;\n",
       "    }\n",
       "</style>\n",
       "<table border=\"1\" class=\"dataframe\">\n",
       "  <thead>\n",
       "    <tr style=\"text-align: right;\">\n",
       "      <th></th>\n",
       "      <th>Helmet_4 - 1 speed (m/s)</th>\n",
       "      <th>Helmet_4 - 2 speed (m/s)</th>\n",
       "      <th>Helmet_4 - 3 speed (m/s)</th>\n",
       "      <th>Helmet_4 - 4 speed (m/s)</th>\n",
       "      <th>Helmet_4 - 5 speed (m/s)</th>\n",
       "      <th>LO1 - 1 speed (m/s)</th>\n",
       "      <th>LO1 - 2 speed (m/s)</th>\n",
       "      <th>LO1 - 3 speed (m/s)</th>\n",
       "      <th>LO1 - 4 speed (m/s)</th>\n",
       "      <th>LO1 - 5 speed (m/s)</th>\n",
       "      <th>...</th>\n",
       "      <th>Helmet_5 - 3 speed (m/s)</th>\n",
       "      <th>Helmet_5 - 4 speed (m/s)</th>\n",
       "      <th>Helmet_5 - 5 speed (m/s)</th>\n",
       "      <th>DARKO_Robot - 1 speed (m/s)</th>\n",
       "      <th>DARKO_Robot - 2 speed (m/s)</th>\n",
       "      <th>DARKO_Robot - 3 speed (m/s)</th>\n",
       "      <th>DARKO_Robot - 4 speed (m/s)</th>\n",
       "      <th>DARKO_Robot - 5 speed (m/s)</th>\n",
       "      <th>DARKO_Robot - 6 speed (m/s)</th>\n",
       "      <th>DARKO_Robot - 7 speed (m/s)</th>\n",
       "    </tr>\n",
       "  </thead>\n",
       "  <tbody>\n",
       "    <tr>\n",
       "      <th>0</th>\n",
       "      <td>NaN</td>\n",
       "      <td>NaN</td>\n",
       "      <td>NaN</td>\n",
       "      <td>NaN</td>\n",
       "      <td>NaN</td>\n",
       "      <td>NaN</td>\n",
       "      <td>NaN</td>\n",
       "      <td>NaN</td>\n",
       "      <td>NaN</td>\n",
       "      <td>NaN</td>\n",
       "      <td>...</td>\n",
       "      <td>NaN</td>\n",
       "      <td>NaN</td>\n",
       "      <td>NaN</td>\n",
       "      <td>NaN</td>\n",
       "      <td>NaN</td>\n",
       "      <td>NaN</td>\n",
       "      <td>NaN</td>\n",
       "      <td>NaN</td>\n",
       "      <td>NaN</td>\n",
       "      <td>NaN</td>\n",
       "    </tr>\n",
       "    <tr>\n",
       "      <th>1</th>\n",
       "      <td>1.279205</td>\n",
       "      <td>0.0</td>\n",
       "      <td>0.0</td>\n",
       "      <td>0.0</td>\n",
       "      <td>0.0</td>\n",
       "      <td>0.0</td>\n",
       "      <td>0.0</td>\n",
       "      <td>0.0</td>\n",
       "      <td>0.0</td>\n",
       "      <td>0.0</td>\n",
       "      <td>...</td>\n",
       "      <td>0.061406</td>\n",
       "      <td>0.070445</td>\n",
       "      <td>0.057956</td>\n",
       "      <td>0.023527</td>\n",
       "      <td>0.009953</td>\n",
       "      <td>0.016463</td>\n",
       "      <td>0.009536</td>\n",
       "      <td>0.002218</td>\n",
       "      <td>0.007603</td>\n",
       "      <td>0.004042</td>\n",
       "    </tr>\n",
       "    <tr>\n",
       "      <th>2</th>\n",
       "      <td>1.296423</td>\n",
       "      <td>0.0</td>\n",
       "      <td>0.0</td>\n",
       "      <td>0.0</td>\n",
       "      <td>0.0</td>\n",
       "      <td>0.0</td>\n",
       "      <td>0.0</td>\n",
       "      <td>0.0</td>\n",
       "      <td>0.0</td>\n",
       "      <td>0.0</td>\n",
       "      <td>...</td>\n",
       "      <td>0.063915</td>\n",
       "      <td>0.060110</td>\n",
       "      <td>0.070143</td>\n",
       "      <td>0.011199</td>\n",
       "      <td>0.022765</td>\n",
       "      <td>0.009437</td>\n",
       "      <td>0.008659</td>\n",
       "      <td>0.649314</td>\n",
       "      <td>0.008514</td>\n",
       "      <td>0.167005</td>\n",
       "    </tr>\n",
       "    <tr>\n",
       "      <th>3</th>\n",
       "      <td>1.347425</td>\n",
       "      <td>0.0</td>\n",
       "      <td>0.0</td>\n",
       "      <td>0.0</td>\n",
       "      <td>0.0</td>\n",
       "      <td>0.0</td>\n",
       "      <td>0.0</td>\n",
       "      <td>0.0</td>\n",
       "      <td>0.0</td>\n",
       "      <td>0.0</td>\n",
       "      <td>...</td>\n",
       "      <td>0.065363</td>\n",
       "      <td>0.059433</td>\n",
       "      <td>0.057183</td>\n",
       "      <td>0.004041</td>\n",
       "      <td>0.030755</td>\n",
       "      <td>0.002005</td>\n",
       "      <td>0.009668</td>\n",
       "      <td>0.118827</td>\n",
       "      <td>0.037569</td>\n",
       "      <td>0.053291</td>\n",
       "    </tr>\n",
       "    <tr>\n",
       "      <th>4</th>\n",
       "      <td>1.114409</td>\n",
       "      <td>0.0</td>\n",
       "      <td>0.0</td>\n",
       "      <td>0.0</td>\n",
       "      <td>0.0</td>\n",
       "      <td>0.0</td>\n",
       "      <td>0.0</td>\n",
       "      <td>0.0</td>\n",
       "      <td>0.0</td>\n",
       "      <td>0.0</td>\n",
       "      <td>...</td>\n",
       "      <td>0.054536</td>\n",
       "      <td>0.074158</td>\n",
       "      <td>0.070767</td>\n",
       "      <td>0.012594</td>\n",
       "      <td>0.006569</td>\n",
       "      <td>0.004946</td>\n",
       "      <td>0.006037</td>\n",
       "      <td>0.019000</td>\n",
       "      <td>0.023880</td>\n",
       "      <td>0.011674</td>\n",
       "    </tr>\n",
       "    <tr>\n",
       "      <th>...</th>\n",
       "      <td>...</td>\n",
       "      <td>...</td>\n",
       "      <td>...</td>\n",
       "      <td>...</td>\n",
       "      <td>...</td>\n",
       "      <td>...</td>\n",
       "      <td>...</td>\n",
       "      <td>...</td>\n",
       "      <td>...</td>\n",
       "      <td>...</td>\n",
       "      <td>...</td>\n",
       "      <td>...</td>\n",
       "      <td>...</td>\n",
       "      <td>...</td>\n",
       "      <td>...</td>\n",
       "      <td>...</td>\n",
       "      <td>...</td>\n",
       "      <td>...</td>\n",
       "      <td>...</td>\n",
       "      <td>...</td>\n",
       "      <td>...</td>\n",
       "    </tr>\n",
       "    <tr>\n",
       "      <th>162</th>\n",
       "      <td>0.295983</td>\n",
       "      <td>0.0</td>\n",
       "      <td>0.0</td>\n",
       "      <td>0.0</td>\n",
       "      <td>0.0</td>\n",
       "      <td>0.0</td>\n",
       "      <td>0.0</td>\n",
       "      <td>0.0</td>\n",
       "      <td>0.0</td>\n",
       "      <td>0.0</td>\n",
       "      <td>...</td>\n",
       "      <td>0.103900</td>\n",
       "      <td>0.201603</td>\n",
       "      <td>0.045680</td>\n",
       "      <td>0.013357</td>\n",
       "      <td>0.002177</td>\n",
       "      <td>0.912211</td>\n",
       "      <td>0.005036</td>\n",
       "      <td>0.007291</td>\n",
       "      <td>0.013521</td>\n",
       "      <td>0.277358</td>\n",
       "    </tr>\n",
       "    <tr>\n",
       "      <th>163</th>\n",
       "      <td>0.410828</td>\n",
       "      <td>0.0</td>\n",
       "      <td>0.0</td>\n",
       "      <td>0.0</td>\n",
       "      <td>0.0</td>\n",
       "      <td>0.0</td>\n",
       "      <td>0.0</td>\n",
       "      <td>0.0</td>\n",
       "      <td>0.0</td>\n",
       "      <td>0.0</td>\n",
       "      <td>...</td>\n",
       "      <td>0.102151</td>\n",
       "      <td>0.376194</td>\n",
       "      <td>0.148007</td>\n",
       "      <td>0.003151</td>\n",
       "      <td>0.007336</td>\n",
       "      <td>0.009155</td>\n",
       "      <td>0.006049</td>\n",
       "      <td>0.018877</td>\n",
       "      <td>0.019508</td>\n",
       "      <td>0.010187</td>\n",
       "    </tr>\n",
       "    <tr>\n",
       "      <th>164</th>\n",
       "      <td>0.265015</td>\n",
       "      <td>0.0</td>\n",
       "      <td>0.0</td>\n",
       "      <td>0.0</td>\n",
       "      <td>0.0</td>\n",
       "      <td>0.0</td>\n",
       "      <td>0.0</td>\n",
       "      <td>0.0</td>\n",
       "      <td>0.0</td>\n",
       "      <td>0.0</td>\n",
       "      <td>...</td>\n",
       "      <td>0.093445</td>\n",
       "      <td>0.088821</td>\n",
       "      <td>0.295375</td>\n",
       "      <td>0.011308</td>\n",
       "      <td>0.009335</td>\n",
       "      <td>0.012436</td>\n",
       "      <td>0.007611</td>\n",
       "      <td>0.013048</td>\n",
       "      <td>0.014741</td>\n",
       "      <td>0.015853</td>\n",
       "    </tr>\n",
       "    <tr>\n",
       "      <th>165</th>\n",
       "      <td>0.517109</td>\n",
       "      <td>0.0</td>\n",
       "      <td>0.0</td>\n",
       "      <td>0.0</td>\n",
       "      <td>0.0</td>\n",
       "      <td>0.0</td>\n",
       "      <td>0.0</td>\n",
       "      <td>0.0</td>\n",
       "      <td>0.0</td>\n",
       "      <td>0.0</td>\n",
       "      <td>...</td>\n",
       "      <td>0.081031</td>\n",
       "      <td>0.074364</td>\n",
       "      <td>0.059416</td>\n",
       "      <td>0.010685</td>\n",
       "      <td>0.028070</td>\n",
       "      <td>0.006662</td>\n",
       "      <td>0.003596</td>\n",
       "      <td>0.024183</td>\n",
       "      <td>0.019766</td>\n",
       "      <td>0.020277</td>\n",
       "    </tr>\n",
       "    <tr>\n",
       "      <th>166</th>\n",
       "      <td>0.246509</td>\n",
       "      <td>0.0</td>\n",
       "      <td>0.0</td>\n",
       "      <td>0.0</td>\n",
       "      <td>0.0</td>\n",
       "      <td>0.0</td>\n",
       "      <td>0.0</td>\n",
       "      <td>0.0</td>\n",
       "      <td>0.0</td>\n",
       "      <td>0.0</td>\n",
       "      <td>...</td>\n",
       "      <td>0.091127</td>\n",
       "      <td>0.079656</td>\n",
       "      <td>0.127999</td>\n",
       "      <td>0.015194</td>\n",
       "      <td>0.007128</td>\n",
       "      <td>0.918419</td>\n",
       "      <td>0.007032</td>\n",
       "      <td>0.009680</td>\n",
       "      <td>0.005433</td>\n",
       "      <td>0.282368</td>\n",
       "    </tr>\n",
       "  </tbody>\n",
       "</table>\n",
       "<p>167 rows × 46 columns</p>\n",
       "</div>"
      ],
      "text/plain": [
       "     Helmet_4 - 1 speed (m/s)  Helmet_4 - 2 speed (m/s)  \\\n",
       "0                         NaN                       NaN   \n",
       "1                    1.279205                       0.0   \n",
       "2                    1.296423                       0.0   \n",
       "3                    1.347425                       0.0   \n",
       "4                    1.114409                       0.0   \n",
       "..                        ...                       ...   \n",
       "162                  0.295983                       0.0   \n",
       "163                  0.410828                       0.0   \n",
       "164                  0.265015                       0.0   \n",
       "165                  0.517109                       0.0   \n",
       "166                  0.246509                       0.0   \n",
       "\n",
       "     Helmet_4 - 3 speed (m/s)  Helmet_4 - 4 speed (m/s)  \\\n",
       "0                         NaN                       NaN   \n",
       "1                         0.0                       0.0   \n",
       "2                         0.0                       0.0   \n",
       "3                         0.0                       0.0   \n",
       "4                         0.0                       0.0   \n",
       "..                        ...                       ...   \n",
       "162                       0.0                       0.0   \n",
       "163                       0.0                       0.0   \n",
       "164                       0.0                       0.0   \n",
       "165                       0.0                       0.0   \n",
       "166                       0.0                       0.0   \n",
       "\n",
       "     Helmet_4 - 5 speed (m/s)  LO1 - 1 speed (m/s)  LO1 - 2 speed (m/s)  \\\n",
       "0                         NaN                  NaN                  NaN   \n",
       "1                         0.0                  0.0                  0.0   \n",
       "2                         0.0                  0.0                  0.0   \n",
       "3                         0.0                  0.0                  0.0   \n",
       "4                         0.0                  0.0                  0.0   \n",
       "..                        ...                  ...                  ...   \n",
       "162                       0.0                  0.0                  0.0   \n",
       "163                       0.0                  0.0                  0.0   \n",
       "164                       0.0                  0.0                  0.0   \n",
       "165                       0.0                  0.0                  0.0   \n",
       "166                       0.0                  0.0                  0.0   \n",
       "\n",
       "     LO1 - 3 speed (m/s)  LO1 - 4 speed (m/s)  LO1 - 5 speed (m/s)  ...  \\\n",
       "0                    NaN                  NaN                  NaN  ...   \n",
       "1                    0.0                  0.0                  0.0  ...   \n",
       "2                    0.0                  0.0                  0.0  ...   \n",
       "3                    0.0                  0.0                  0.0  ...   \n",
       "4                    0.0                  0.0                  0.0  ...   \n",
       "..                   ...                  ...                  ...  ...   \n",
       "162                  0.0                  0.0                  0.0  ...   \n",
       "163                  0.0                  0.0                  0.0  ...   \n",
       "164                  0.0                  0.0                  0.0  ...   \n",
       "165                  0.0                  0.0                  0.0  ...   \n",
       "166                  0.0                  0.0                  0.0  ...   \n",
       "\n",
       "     Helmet_5 - 3 speed (m/s)  Helmet_5 - 4 speed (m/s)  \\\n",
       "0                         NaN                       NaN   \n",
       "1                    0.061406                  0.070445   \n",
       "2                    0.063915                  0.060110   \n",
       "3                    0.065363                  0.059433   \n",
       "4                    0.054536                  0.074158   \n",
       "..                        ...                       ...   \n",
       "162                  0.103900                  0.201603   \n",
       "163                  0.102151                  0.376194   \n",
       "164                  0.093445                  0.088821   \n",
       "165                  0.081031                  0.074364   \n",
       "166                  0.091127                  0.079656   \n",
       "\n",
       "     Helmet_5 - 5 speed (m/s)  DARKO_Robot - 1 speed (m/s)  \\\n",
       "0                         NaN                          NaN   \n",
       "1                    0.057956                     0.023527   \n",
       "2                    0.070143                     0.011199   \n",
       "3                    0.057183                     0.004041   \n",
       "4                    0.070767                     0.012594   \n",
       "..                        ...                          ...   \n",
       "162                  0.045680                     0.013357   \n",
       "163                  0.148007                     0.003151   \n",
       "164                  0.295375                     0.011308   \n",
       "165                  0.059416                     0.010685   \n",
       "166                  0.127999                     0.015194   \n",
       "\n",
       "     DARKO_Robot - 2 speed (m/s)  DARKO_Robot - 3 speed (m/s)  \\\n",
       "0                            NaN                          NaN   \n",
       "1                       0.009953                     0.016463   \n",
       "2                       0.022765                     0.009437   \n",
       "3                       0.030755                     0.002005   \n",
       "4                       0.006569                     0.004946   \n",
       "..                           ...                          ...   \n",
       "162                     0.002177                     0.912211   \n",
       "163                     0.007336                     0.009155   \n",
       "164                     0.009335                     0.012436   \n",
       "165                     0.028070                     0.006662   \n",
       "166                     0.007128                     0.918419   \n",
       "\n",
       "     DARKO_Robot - 4 speed (m/s)  DARKO_Robot - 5 speed (m/s)  \\\n",
       "0                            NaN                          NaN   \n",
       "1                       0.009536                     0.002218   \n",
       "2                       0.008659                     0.649314   \n",
       "3                       0.009668                     0.118827   \n",
       "4                       0.006037                     0.019000   \n",
       "..                           ...                          ...   \n",
       "162                     0.005036                     0.007291   \n",
       "163                     0.006049                     0.018877   \n",
       "164                     0.007611                     0.013048   \n",
       "165                     0.003596                     0.024183   \n",
       "166                     0.007032                     0.009680   \n",
       "\n",
       "     DARKO_Robot - 6 speed (m/s)  DARKO_Robot - 7 speed (m/s)  \n",
       "0                            NaN                          NaN  \n",
       "1                       0.007603                     0.004042  \n",
       "2                       0.008514                     0.167005  \n",
       "3                       0.037569                     0.053291  \n",
       "4                       0.023880                     0.011674  \n",
       "..                           ...                          ...  \n",
       "162                     0.013521                     0.277358  \n",
       "163                     0.019508                     0.010187  \n",
       "164                     0.014741                     0.015853  \n",
       "165                     0.019766                     0.020277  \n",
       "166                     0.005433                     0.282368  \n",
       "\n",
       "[167 rows x 46 columns]"
      ]
     },
     "execution_count": 22,
     "metadata": {},
     "output_type": "execute_result"
    }
   ],
   "source": [
    "features_df[features_df.columns[features_df.columns.str.endswith(\"speed (m/s)\")]]"
   ]
  },
  {
   "cell_type": "code",
   "execution_count": 23,
   "metadata": {},
   "outputs": [
    {
     "data": {
      "text/plain": [
       "(167, 240)"
      ]
     },
     "execution_count": 23,
     "metadata": {},
     "output_type": "execute_result"
    }
   ],
   "source": [
    "features_df.shape"
   ]
  },
  {
   "cell_type": "code",
   "execution_count": 24,
   "metadata": {},
   "outputs": [],
   "source": [
    "features_df.index = features_df.Frame"
   ]
  },
  {
   "cell_type": "code",
   "execution_count": 25,
   "metadata": {},
   "outputs": [],
   "source": [
    "features_cat = preprocessed_trajectories.join(features_df)"
   ]
  },
  {
   "cell_type": "code",
   "execution_count": 26,
   "metadata": {},
   "outputs": [
    {
     "data": {
      "text/html": [
       "<div>\n",
       "<style scoped>\n",
       "    .dataframe tbody tr th:only-of-type {\n",
       "        vertical-align: middle;\n",
       "    }\n",
       "\n",
       "    .dataframe tbody tr th {\n",
       "        vertical-align: top;\n",
       "    }\n",
       "\n",
       "    .dataframe thead th {\n",
       "        text-align: right;\n",
       "    }\n",
       "</style>\n",
       "<table border=\"1\" class=\"dataframe\">\n",
       "  <thead>\n",
       "    <tr style=\"text-align: right;\">\n",
       "      <th></th>\n",
       "      <th>Helmet_4 - 1 speed (m/s)</th>\n",
       "      <th>Helmet_4 - 2 speed (m/s)</th>\n",
       "      <th>Helmet_4 - 3 speed (m/s)</th>\n",
       "      <th>Helmet_4 - 4 speed (m/s)</th>\n",
       "      <th>Helmet_4 - 5 speed (m/s)</th>\n",
       "      <th>LO1 - 1 speed (m/s)</th>\n",
       "      <th>LO1 - 2 speed (m/s)</th>\n",
       "      <th>LO1 - 3 speed (m/s)</th>\n",
       "      <th>LO1 - 4 speed (m/s)</th>\n",
       "      <th>LO1 - 5 speed (m/s)</th>\n",
       "      <th>...</th>\n",
       "      <th>Helmet_5 - 3 speed (m/s)</th>\n",
       "      <th>Helmet_5 - 4 speed (m/s)</th>\n",
       "      <th>Helmet_5 - 5 speed (m/s)</th>\n",
       "      <th>DARKO_Robot - 1 speed (m/s)</th>\n",
       "      <th>DARKO_Robot - 2 speed (m/s)</th>\n",
       "      <th>DARKO_Robot - 3 speed (m/s)</th>\n",
       "      <th>DARKO_Robot - 4 speed (m/s)</th>\n",
       "      <th>DARKO_Robot - 5 speed (m/s)</th>\n",
       "      <th>DARKO_Robot - 6 speed (m/s)</th>\n",
       "      <th>DARKO_Robot - 7 speed (m/s)</th>\n",
       "    </tr>\n",
       "    <tr>\n",
       "      <th>Frame</th>\n",
       "      <th></th>\n",
       "      <th></th>\n",
       "      <th></th>\n",
       "      <th></th>\n",
       "      <th></th>\n",
       "      <th></th>\n",
       "      <th></th>\n",
       "      <th></th>\n",
       "      <th></th>\n",
       "      <th></th>\n",
       "      <th></th>\n",
       "      <th></th>\n",
       "      <th></th>\n",
       "      <th></th>\n",
       "      <th></th>\n",
       "      <th></th>\n",
       "      <th></th>\n",
       "      <th></th>\n",
       "      <th></th>\n",
       "      <th></th>\n",
       "      <th></th>\n",
       "    </tr>\n",
       "  </thead>\n",
       "  <tbody>\n",
       "    <tr>\n",
       "      <th>15033</th>\n",
       "      <td>NaN</td>\n",
       "      <td>NaN</td>\n",
       "      <td>NaN</td>\n",
       "      <td>NaN</td>\n",
       "      <td>NaN</td>\n",
       "      <td>NaN</td>\n",
       "      <td>NaN</td>\n",
       "      <td>NaN</td>\n",
       "      <td>NaN</td>\n",
       "      <td>NaN</td>\n",
       "      <td>...</td>\n",
       "      <td>NaN</td>\n",
       "      <td>NaN</td>\n",
       "      <td>NaN</td>\n",
       "      <td>NaN</td>\n",
       "      <td>NaN</td>\n",
       "      <td>NaN</td>\n",
       "      <td>NaN</td>\n",
       "      <td>NaN</td>\n",
       "      <td>NaN</td>\n",
       "      <td>NaN</td>\n",
       "    </tr>\n",
       "    <tr>\n",
       "      <th>15034</th>\n",
       "      <td>1.279205</td>\n",
       "      <td>0.0</td>\n",
       "      <td>0.0</td>\n",
       "      <td>0.0</td>\n",
       "      <td>0.0</td>\n",
       "      <td>0.0</td>\n",
       "      <td>0.0</td>\n",
       "      <td>0.0</td>\n",
       "      <td>0.0</td>\n",
       "      <td>0.0</td>\n",
       "      <td>...</td>\n",
       "      <td>0.061406</td>\n",
       "      <td>0.070445</td>\n",
       "      <td>0.057956</td>\n",
       "      <td>0.023527</td>\n",
       "      <td>0.009953</td>\n",
       "      <td>0.016463</td>\n",
       "      <td>0.009536</td>\n",
       "      <td>0.002218</td>\n",
       "      <td>0.007603</td>\n",
       "      <td>0.004042</td>\n",
       "    </tr>\n",
       "    <tr>\n",
       "      <th>15035</th>\n",
       "      <td>1.296423</td>\n",
       "      <td>0.0</td>\n",
       "      <td>0.0</td>\n",
       "      <td>0.0</td>\n",
       "      <td>0.0</td>\n",
       "      <td>0.0</td>\n",
       "      <td>0.0</td>\n",
       "      <td>0.0</td>\n",
       "      <td>0.0</td>\n",
       "      <td>0.0</td>\n",
       "      <td>...</td>\n",
       "      <td>0.063915</td>\n",
       "      <td>0.060110</td>\n",
       "      <td>0.070143</td>\n",
       "      <td>0.011199</td>\n",
       "      <td>0.022765</td>\n",
       "      <td>0.009437</td>\n",
       "      <td>0.008659</td>\n",
       "      <td>0.649314</td>\n",
       "      <td>0.008514</td>\n",
       "      <td>0.167005</td>\n",
       "    </tr>\n",
       "    <tr>\n",
       "      <th>15036</th>\n",
       "      <td>1.347425</td>\n",
       "      <td>0.0</td>\n",
       "      <td>0.0</td>\n",
       "      <td>0.0</td>\n",
       "      <td>0.0</td>\n",
       "      <td>0.0</td>\n",
       "      <td>0.0</td>\n",
       "      <td>0.0</td>\n",
       "      <td>0.0</td>\n",
       "      <td>0.0</td>\n",
       "      <td>...</td>\n",
       "      <td>0.065363</td>\n",
       "      <td>0.059433</td>\n",
       "      <td>0.057183</td>\n",
       "      <td>0.004041</td>\n",
       "      <td>0.030755</td>\n",
       "      <td>0.002005</td>\n",
       "      <td>0.009668</td>\n",
       "      <td>0.118827</td>\n",
       "      <td>0.037569</td>\n",
       "      <td>0.053291</td>\n",
       "    </tr>\n",
       "    <tr>\n",
       "      <th>15037</th>\n",
       "      <td>1.114409</td>\n",
       "      <td>0.0</td>\n",
       "      <td>0.0</td>\n",
       "      <td>0.0</td>\n",
       "      <td>0.0</td>\n",
       "      <td>0.0</td>\n",
       "      <td>0.0</td>\n",
       "      <td>0.0</td>\n",
       "      <td>0.0</td>\n",
       "      <td>0.0</td>\n",
       "      <td>...</td>\n",
       "      <td>0.054536</td>\n",
       "      <td>0.074158</td>\n",
       "      <td>0.070767</td>\n",
       "      <td>0.012594</td>\n",
       "      <td>0.006569</td>\n",
       "      <td>0.004946</td>\n",
       "      <td>0.006037</td>\n",
       "      <td>0.019000</td>\n",
       "      <td>0.023880</td>\n",
       "      <td>0.011674</td>\n",
       "    </tr>\n",
       "    <tr>\n",
       "      <th>...</th>\n",
       "      <td>...</td>\n",
       "      <td>...</td>\n",
       "      <td>...</td>\n",
       "      <td>...</td>\n",
       "      <td>...</td>\n",
       "      <td>...</td>\n",
       "      <td>...</td>\n",
       "      <td>...</td>\n",
       "      <td>...</td>\n",
       "      <td>...</td>\n",
       "      <td>...</td>\n",
       "      <td>...</td>\n",
       "      <td>...</td>\n",
       "      <td>...</td>\n",
       "      <td>...</td>\n",
       "      <td>...</td>\n",
       "      <td>...</td>\n",
       "      <td>...</td>\n",
       "      <td>...</td>\n",
       "      <td>...</td>\n",
       "      <td>...</td>\n",
       "    </tr>\n",
       "    <tr>\n",
       "      <th>15195</th>\n",
       "      <td>0.295983</td>\n",
       "      <td>0.0</td>\n",
       "      <td>0.0</td>\n",
       "      <td>0.0</td>\n",
       "      <td>0.0</td>\n",
       "      <td>0.0</td>\n",
       "      <td>0.0</td>\n",
       "      <td>0.0</td>\n",
       "      <td>0.0</td>\n",
       "      <td>0.0</td>\n",
       "      <td>...</td>\n",
       "      <td>0.103900</td>\n",
       "      <td>0.201603</td>\n",
       "      <td>0.045680</td>\n",
       "      <td>0.013357</td>\n",
       "      <td>0.002177</td>\n",
       "      <td>0.912211</td>\n",
       "      <td>0.005036</td>\n",
       "      <td>0.007291</td>\n",
       "      <td>0.013521</td>\n",
       "      <td>0.277358</td>\n",
       "    </tr>\n",
       "    <tr>\n",
       "      <th>15196</th>\n",
       "      <td>0.410828</td>\n",
       "      <td>0.0</td>\n",
       "      <td>0.0</td>\n",
       "      <td>0.0</td>\n",
       "      <td>0.0</td>\n",
       "      <td>0.0</td>\n",
       "      <td>0.0</td>\n",
       "      <td>0.0</td>\n",
       "      <td>0.0</td>\n",
       "      <td>0.0</td>\n",
       "      <td>...</td>\n",
       "      <td>0.102151</td>\n",
       "      <td>0.376194</td>\n",
       "      <td>0.148007</td>\n",
       "      <td>0.003151</td>\n",
       "      <td>0.007336</td>\n",
       "      <td>0.009155</td>\n",
       "      <td>0.006049</td>\n",
       "      <td>0.018877</td>\n",
       "      <td>0.019508</td>\n",
       "      <td>0.010187</td>\n",
       "    </tr>\n",
       "    <tr>\n",
       "      <th>15197</th>\n",
       "      <td>0.265015</td>\n",
       "      <td>0.0</td>\n",
       "      <td>0.0</td>\n",
       "      <td>0.0</td>\n",
       "      <td>0.0</td>\n",
       "      <td>0.0</td>\n",
       "      <td>0.0</td>\n",
       "      <td>0.0</td>\n",
       "      <td>0.0</td>\n",
       "      <td>0.0</td>\n",
       "      <td>...</td>\n",
       "      <td>0.093445</td>\n",
       "      <td>0.088821</td>\n",
       "      <td>0.295375</td>\n",
       "      <td>0.011308</td>\n",
       "      <td>0.009335</td>\n",
       "      <td>0.012436</td>\n",
       "      <td>0.007611</td>\n",
       "      <td>0.013048</td>\n",
       "      <td>0.014741</td>\n",
       "      <td>0.015853</td>\n",
       "    </tr>\n",
       "    <tr>\n",
       "      <th>15198</th>\n",
       "      <td>0.517109</td>\n",
       "      <td>0.0</td>\n",
       "      <td>0.0</td>\n",
       "      <td>0.0</td>\n",
       "      <td>0.0</td>\n",
       "      <td>0.0</td>\n",
       "      <td>0.0</td>\n",
       "      <td>0.0</td>\n",
       "      <td>0.0</td>\n",
       "      <td>0.0</td>\n",
       "      <td>...</td>\n",
       "      <td>0.081031</td>\n",
       "      <td>0.074364</td>\n",
       "      <td>0.059416</td>\n",
       "      <td>0.010685</td>\n",
       "      <td>0.028070</td>\n",
       "      <td>0.006662</td>\n",
       "      <td>0.003596</td>\n",
       "      <td>0.024183</td>\n",
       "      <td>0.019766</td>\n",
       "      <td>0.020277</td>\n",
       "    </tr>\n",
       "    <tr>\n",
       "      <th>15199</th>\n",
       "      <td>0.246509</td>\n",
       "      <td>0.0</td>\n",
       "      <td>0.0</td>\n",
       "      <td>0.0</td>\n",
       "      <td>0.0</td>\n",
       "      <td>0.0</td>\n",
       "      <td>0.0</td>\n",
       "      <td>0.0</td>\n",
       "      <td>0.0</td>\n",
       "      <td>0.0</td>\n",
       "      <td>...</td>\n",
       "      <td>0.091127</td>\n",
       "      <td>0.079656</td>\n",
       "      <td>0.127999</td>\n",
       "      <td>0.015194</td>\n",
       "      <td>0.007128</td>\n",
       "      <td>0.918419</td>\n",
       "      <td>0.007032</td>\n",
       "      <td>0.009680</td>\n",
       "      <td>0.005433</td>\n",
       "      <td>0.282368</td>\n",
       "    </tr>\n",
       "  </tbody>\n",
       "</table>\n",
       "<p>167 rows × 46 columns</p>\n",
       "</div>"
      ],
      "text/plain": [
       "       Helmet_4 - 1 speed (m/s)  Helmet_4 - 2 speed (m/s)  \\\n",
       "Frame                                                       \n",
       "15033                       NaN                       NaN   \n",
       "15034                  1.279205                       0.0   \n",
       "15035                  1.296423                       0.0   \n",
       "15036                  1.347425                       0.0   \n",
       "15037                  1.114409                       0.0   \n",
       "...                         ...                       ...   \n",
       "15195                  0.295983                       0.0   \n",
       "15196                  0.410828                       0.0   \n",
       "15197                  0.265015                       0.0   \n",
       "15198                  0.517109                       0.0   \n",
       "15199                  0.246509                       0.0   \n",
       "\n",
       "       Helmet_4 - 3 speed (m/s)  Helmet_4 - 4 speed (m/s)  \\\n",
       "Frame                                                       \n",
       "15033                       NaN                       NaN   \n",
       "15034                       0.0                       0.0   \n",
       "15035                       0.0                       0.0   \n",
       "15036                       0.0                       0.0   \n",
       "15037                       0.0                       0.0   \n",
       "...                         ...                       ...   \n",
       "15195                       0.0                       0.0   \n",
       "15196                       0.0                       0.0   \n",
       "15197                       0.0                       0.0   \n",
       "15198                       0.0                       0.0   \n",
       "15199                       0.0                       0.0   \n",
       "\n",
       "       Helmet_4 - 5 speed (m/s)  LO1 - 1 speed (m/s)  LO1 - 2 speed (m/s)  \\\n",
       "Frame                                                                       \n",
       "15033                       NaN                  NaN                  NaN   \n",
       "15034                       0.0                  0.0                  0.0   \n",
       "15035                       0.0                  0.0                  0.0   \n",
       "15036                       0.0                  0.0                  0.0   \n",
       "15037                       0.0                  0.0                  0.0   \n",
       "...                         ...                  ...                  ...   \n",
       "15195                       0.0                  0.0                  0.0   \n",
       "15196                       0.0                  0.0                  0.0   \n",
       "15197                       0.0                  0.0                  0.0   \n",
       "15198                       0.0                  0.0                  0.0   \n",
       "15199                       0.0                  0.0                  0.0   \n",
       "\n",
       "       LO1 - 3 speed (m/s)  LO1 - 4 speed (m/s)  LO1 - 5 speed (m/s)  ...  \\\n",
       "Frame                                                                 ...   \n",
       "15033                  NaN                  NaN                  NaN  ...   \n",
       "15034                  0.0                  0.0                  0.0  ...   \n",
       "15035                  0.0                  0.0                  0.0  ...   \n",
       "15036                  0.0                  0.0                  0.0  ...   \n",
       "15037                  0.0                  0.0                  0.0  ...   \n",
       "...                    ...                  ...                  ...  ...   \n",
       "15195                  0.0                  0.0                  0.0  ...   \n",
       "15196                  0.0                  0.0                  0.0  ...   \n",
       "15197                  0.0                  0.0                  0.0  ...   \n",
       "15198                  0.0                  0.0                  0.0  ...   \n",
       "15199                  0.0                  0.0                  0.0  ...   \n",
       "\n",
       "       Helmet_5 - 3 speed (m/s)  Helmet_5 - 4 speed (m/s)  \\\n",
       "Frame                                                       \n",
       "15033                       NaN                       NaN   \n",
       "15034                  0.061406                  0.070445   \n",
       "15035                  0.063915                  0.060110   \n",
       "15036                  0.065363                  0.059433   \n",
       "15037                  0.054536                  0.074158   \n",
       "...                         ...                       ...   \n",
       "15195                  0.103900                  0.201603   \n",
       "15196                  0.102151                  0.376194   \n",
       "15197                  0.093445                  0.088821   \n",
       "15198                  0.081031                  0.074364   \n",
       "15199                  0.091127                  0.079656   \n",
       "\n",
       "       Helmet_5 - 5 speed (m/s)  DARKO_Robot - 1 speed (m/s)  \\\n",
       "Frame                                                          \n",
       "15033                       NaN                          NaN   \n",
       "15034                  0.057956                     0.023527   \n",
       "15035                  0.070143                     0.011199   \n",
       "15036                  0.057183                     0.004041   \n",
       "15037                  0.070767                     0.012594   \n",
       "...                         ...                          ...   \n",
       "15195                  0.045680                     0.013357   \n",
       "15196                  0.148007                     0.003151   \n",
       "15197                  0.295375                     0.011308   \n",
       "15198                  0.059416                     0.010685   \n",
       "15199                  0.127999                     0.015194   \n",
       "\n",
       "       DARKO_Robot - 2 speed (m/s)  DARKO_Robot - 3 speed (m/s)  \\\n",
       "Frame                                                             \n",
       "15033                          NaN                          NaN   \n",
       "15034                     0.009953                     0.016463   \n",
       "15035                     0.022765                     0.009437   \n",
       "15036                     0.030755                     0.002005   \n",
       "15037                     0.006569                     0.004946   \n",
       "...                            ...                          ...   \n",
       "15195                     0.002177                     0.912211   \n",
       "15196                     0.007336                     0.009155   \n",
       "15197                     0.009335                     0.012436   \n",
       "15198                     0.028070                     0.006662   \n",
       "15199                     0.007128                     0.918419   \n",
       "\n",
       "       DARKO_Robot - 4 speed (m/s)  DARKO_Robot - 5 speed (m/s)  \\\n",
       "Frame                                                             \n",
       "15033                          NaN                          NaN   \n",
       "15034                     0.009536                     0.002218   \n",
       "15035                     0.008659                     0.649314   \n",
       "15036                     0.009668                     0.118827   \n",
       "15037                     0.006037                     0.019000   \n",
       "...                            ...                          ...   \n",
       "15195                     0.005036                     0.007291   \n",
       "15196                     0.006049                     0.018877   \n",
       "15197                     0.007611                     0.013048   \n",
       "15198                     0.003596                     0.024183   \n",
       "15199                     0.007032                     0.009680   \n",
       "\n",
       "       DARKO_Robot - 6 speed (m/s)  DARKO_Robot - 7 speed (m/s)  \n",
       "Frame                                                            \n",
       "15033                          NaN                          NaN  \n",
       "15034                     0.007603                     0.004042  \n",
       "15035                     0.008514                     0.167005  \n",
       "15036                     0.037569                     0.053291  \n",
       "15037                     0.023880                     0.011674  \n",
       "...                            ...                          ...  \n",
       "15195                     0.013521                     0.277358  \n",
       "15196                     0.019508                     0.010187  \n",
       "15197                     0.014741                     0.015853  \n",
       "15198                     0.019766                     0.020277  \n",
       "15199                     0.005433                     0.282368  \n",
       "\n",
       "[167 rows x 46 columns]"
      ]
     },
     "execution_count": 26,
     "metadata": {},
     "output_type": "execute_result"
    }
   ],
   "source": [
    "features_cat[features_cat.columns[features_cat.columns.str.contains(\"speed\")]]"
   ]
  },
  {
   "cell_type": "code",
   "execution_count": 26,
   "metadata": {},
   "outputs": [
    {
     "name": "stderr",
     "output_type": "stream",
     "text": [
      "/tmp/ipykernel_49143/2502953472.py:2: UserWarning: This pattern is interpreted as a regular expression, and has match groups. To actually get the groups, use str.extract.\n",
      "  features_cat.columns[features_cat.columns.str.contains(r\"R(\\d)\")]\n"
     ]
    },
    {
     "data": {
      "text/plain": [
       "['DARKO_Robot R0',\n",
       " 'DARKO_Robot R1',\n",
       " 'DARKO_Robot R2',\n",
       " 'DARKO_Robot R3',\n",
       " 'DARKO_Robot R4',\n",
       " 'DARKO_Robot R5',\n",
       " 'DARKO_Robot R6',\n",
       " 'DARKO_Robot R7',\n",
       " 'DARKO_Robot R8',\n",
       " 'Helmet_1 R0',\n",
       " 'Helmet_1 R1',\n",
       " 'Helmet_1 R2',\n",
       " 'Helmet_1 R3',\n",
       " 'Helmet_1 R4',\n",
       " 'Helmet_1 R5',\n",
       " 'Helmet_1 R6',\n",
       " 'Helmet_1 R7',\n",
       " 'Helmet_1 R8',\n",
       " 'Helmet_10 R0',\n",
       " 'Helmet_10 R1',\n",
       " 'Helmet_10 R2',\n",
       " 'Helmet_10 R3',\n",
       " 'Helmet_10 R4',\n",
       " 'Helmet_10 R5',\n",
       " 'Helmet_10 R6',\n",
       " 'Helmet_10 R7',\n",
       " 'Helmet_10 R8',\n",
       " 'Helmet_2 R0',\n",
       " 'Helmet_2 R1',\n",
       " 'Helmet_2 R2',\n",
       " 'Helmet_2 R3',\n",
       " 'Helmet_2 R4',\n",
       " 'Helmet_2 R5',\n",
       " 'Helmet_2 R6',\n",
       " 'Helmet_2 R7',\n",
       " 'Helmet_2 R8',\n",
       " 'Helmet_3 R0',\n",
       " 'Helmet_3 R1',\n",
       " 'Helmet_3 R2',\n",
       " 'Helmet_3 R3',\n",
       " 'Helmet_3 R4',\n",
       " 'Helmet_3 R5',\n",
       " 'Helmet_3 R6',\n",
       " 'Helmet_3 R7',\n",
       " 'Helmet_3 R8',\n",
       " 'Helmet_4 R0',\n",
       " 'Helmet_4 R1',\n",
       " 'Helmet_4 R2',\n",
       " 'Helmet_4 R3',\n",
       " 'Helmet_4 R4',\n",
       " 'Helmet_4 R5',\n",
       " 'Helmet_4 R6',\n",
       " 'Helmet_4 R7',\n",
       " 'Helmet_4 R8',\n",
       " 'Helmet_5 R0',\n",
       " 'Helmet_5 R1',\n",
       " 'Helmet_5 R2',\n",
       " 'Helmet_5 R3',\n",
       " 'Helmet_5 R4',\n",
       " 'Helmet_5 R5',\n",
       " 'Helmet_5 R6',\n",
       " 'Helmet_5 R7',\n",
       " 'Helmet_5 R8',\n",
       " 'Helmet_6 R0',\n",
       " 'Helmet_6 R1',\n",
       " 'Helmet_6 R2',\n",
       " 'Helmet_6 R3',\n",
       " 'Helmet_6 R4',\n",
       " 'Helmet_6 R5',\n",
       " 'Helmet_6 R6',\n",
       " 'Helmet_6 R7',\n",
       " 'Helmet_6 R8',\n",
       " 'Helmet_7 R0',\n",
       " 'Helmet_7 R1',\n",
       " 'Helmet_7 R2',\n",
       " 'Helmet_7 R3',\n",
       " 'Helmet_7 R4',\n",
       " 'Helmet_7 R5',\n",
       " 'Helmet_7 R6',\n",
       " 'Helmet_7 R7',\n",
       " 'Helmet_7 R8',\n",
       " 'Helmet_8 R0',\n",
       " 'Helmet_8 R1',\n",
       " 'Helmet_8 R2',\n",
       " 'Helmet_8 R3',\n",
       " 'Helmet_8 R4',\n",
       " 'Helmet_8 R5',\n",
       " 'Helmet_8 R6',\n",
       " 'Helmet_8 R7',\n",
       " 'Helmet_8 R8',\n",
       " 'Helmet_9 R0',\n",
       " 'Helmet_9 R1',\n",
       " 'Helmet_9 R2',\n",
       " 'Helmet_9 R3',\n",
       " 'Helmet_9 R4',\n",
       " 'Helmet_9 R5',\n",
       " 'Helmet_9 R6',\n",
       " 'Helmet_9 R7',\n",
       " 'Helmet_9 R8',\n",
       " 'LO1 R0',\n",
       " 'LO1 R1',\n",
       " 'LO1 R2',\n",
       " 'LO1 R3',\n",
       " 'LO1 R4',\n",
       " 'LO1 R5',\n",
       " 'LO1 R6',\n",
       " 'LO1 R7',\n",
       " 'LO1 R8']"
      ]
     },
     "execution_count": 26,
     "metadata": {},
     "output_type": "execute_result"
    }
   ],
   "source": [
    "rotations_cols = features_cat[\n",
    "    features_cat.columns[features_cat.columns.str.contains(r\"R(\\d)\")]\n",
    "].columns.tolist()\n",
    "rotations_cols"
   ]
  },
  {
   "cell_type": "code",
   "execution_count": 27,
   "metadata": {},
   "outputs": [],
   "source": [
    "features_filtered = features_cat[\n",
    "    [\"Frame\"] + \n",
    "    features_cat.columns[\n",
    "        (features_cat.columns.str.endswith(\"X\"))\n",
    "        | (features_cat.columns.str.endswith(\"Y\"))\n",
    "        | (features_cat.columns.str.endswith(\"Z\"))\n",
    "        | (features_cat.columns.str.endswith(\"speed (m/s)\"))\n",
    "    ].tolist()\n",
    "    + rotations_cols\n",
    "]"
   ]
  },
  {
   "cell_type": "code",
   "execution_count": 28,
   "metadata": {},
   "outputs": [
    {
     "data": {
      "text/html": [
       "<div>\n",
       "<style scoped>\n",
       "    .dataframe tbody tr th:only-of-type {\n",
       "        vertical-align: middle;\n",
       "    }\n",
       "\n",
       "    .dataframe tbody tr th {\n",
       "        vertical-align: top;\n",
       "    }\n",
       "\n",
       "    .dataframe thead th {\n",
       "        text-align: right;\n",
       "    }\n",
       "</style>\n",
       "<table border=\"1\" class=\"dataframe\">\n",
       "  <thead>\n",
       "    <tr style=\"text-align: right;\">\n",
       "      <th></th>\n",
       "      <th>Frame</th>\n",
       "      <th>DARKO_Robot - 1 X</th>\n",
       "      <th>DARKO_Robot - 1 Y</th>\n",
       "      <th>DARKO_Robot - 1 Z</th>\n",
       "      <th>DARKO_Robot - 2 X</th>\n",
       "      <th>DARKO_Robot - 2 Y</th>\n",
       "      <th>DARKO_Robot - 2 Z</th>\n",
       "      <th>DARKO_Robot - 3 X</th>\n",
       "      <th>DARKO_Robot - 3 Y</th>\n",
       "      <th>DARKO_Robot - 3 Z</th>\n",
       "      <th>...</th>\n",
       "      <th>Helmet_9 R8</th>\n",
       "      <th>LO1 R0</th>\n",
       "      <th>LO1 R1</th>\n",
       "      <th>LO1 R2</th>\n",
       "      <th>LO1 R3</th>\n",
       "      <th>LO1 R4</th>\n",
       "      <th>LO1 R5</th>\n",
       "      <th>LO1 R6</th>\n",
       "      <th>LO1 R7</th>\n",
       "      <th>LO1 R8</th>\n",
       "    </tr>\n",
       "  </thead>\n",
       "  <tbody>\n",
       "    <tr>\n",
       "      <th>0</th>\n",
       "      <td>15033</td>\n",
       "      <td>-3.886030</td>\n",
       "      <td>-1.188737</td>\n",
       "      <td>0.692199</td>\n",
       "      <td>-3.821085</td>\n",
       "      <td>-1.192664</td>\n",
       "      <td>0.312282</td>\n",
       "      <td>-4.646152</td>\n",
       "      <td>-0.815854</td>\n",
       "      <td>0.862110</td>\n",
       "      <td>...</td>\n",
       "      <td>NaN</td>\n",
       "      <td>NaN</td>\n",
       "      <td>NaN</td>\n",
       "      <td>NaN</td>\n",
       "      <td>NaN</td>\n",
       "      <td>NaN</td>\n",
       "      <td>NaN</td>\n",
       "      <td>NaN</td>\n",
       "      <td>NaN</td>\n",
       "      <td>NaN</td>\n",
       "    </tr>\n",
       "    <tr>\n",
       "      <th>1</th>\n",
       "      <td>15034</td>\n",
       "      <td>-3.885826</td>\n",
       "      <td>-1.188807</td>\n",
       "      <td>0.692293</td>\n",
       "      <td>-3.821118</td>\n",
       "      <td>-1.192571</td>\n",
       "      <td>0.312269</td>\n",
       "      <td>-4.646307</td>\n",
       "      <td>-0.815808</td>\n",
       "      <td>0.862079</td>\n",
       "      <td>...</td>\n",
       "      <td>NaN</td>\n",
       "      <td>NaN</td>\n",
       "      <td>NaN</td>\n",
       "      <td>NaN</td>\n",
       "      <td>NaN</td>\n",
       "      <td>NaN</td>\n",
       "      <td>NaN</td>\n",
       "      <td>NaN</td>\n",
       "      <td>NaN</td>\n",
       "      <td>NaN</td>\n",
       "    </tr>\n",
       "    <tr>\n",
       "      <th>2</th>\n",
       "      <td>15035</td>\n",
       "      <td>-3.885924</td>\n",
       "      <td>-1.188764</td>\n",
       "      <td>0.692260</td>\n",
       "      <td>-3.820947</td>\n",
       "      <td>-1.192614</td>\n",
       "      <td>0.312413</td>\n",
       "      <td>-4.646390</td>\n",
       "      <td>-0.815799</td>\n",
       "      <td>0.862035</td>\n",
       "      <td>...</td>\n",
       "      <td>NaN</td>\n",
       "      <td>NaN</td>\n",
       "      <td>NaN</td>\n",
       "      <td>NaN</td>\n",
       "      <td>NaN</td>\n",
       "      <td>NaN</td>\n",
       "      <td>NaN</td>\n",
       "      <td>NaN</td>\n",
       "      <td>NaN</td>\n",
       "      <td>NaN</td>\n",
       "    </tr>\n",
       "    <tr>\n",
       "      <th>3</th>\n",
       "      <td>15036</td>\n",
       "      <td>-3.885944</td>\n",
       "      <td>-1.188776</td>\n",
       "      <td>0.692293</td>\n",
       "      <td>-3.821163</td>\n",
       "      <td>-1.192532</td>\n",
       "      <td>0.312210</td>\n",
       "      <td>-4.646409</td>\n",
       "      <td>-0.815795</td>\n",
       "      <td>0.862040</td>\n",
       "      <td>...</td>\n",
       "      <td>NaN</td>\n",
       "      <td>NaN</td>\n",
       "      <td>NaN</td>\n",
       "      <td>NaN</td>\n",
       "      <td>NaN</td>\n",
       "      <td>NaN</td>\n",
       "      <td>NaN</td>\n",
       "      <td>NaN</td>\n",
       "      <td>NaN</td>\n",
       "      <td>NaN</td>\n",
       "    </tr>\n",
       "    <tr>\n",
       "      <th>4</th>\n",
       "      <td>15037</td>\n",
       "      <td>-3.885823</td>\n",
       "      <td>-1.188808</td>\n",
       "      <td>0.692279</td>\n",
       "      <td>-3.821138</td>\n",
       "      <td>-1.192589</td>\n",
       "      <td>0.312231</td>\n",
       "      <td>-4.646387</td>\n",
       "      <td>-0.815816</td>\n",
       "      <td>0.862001</td>\n",
       "      <td>...</td>\n",
       "      <td>NaN</td>\n",
       "      <td>NaN</td>\n",
       "      <td>NaN</td>\n",
       "      <td>NaN</td>\n",
       "      <td>NaN</td>\n",
       "      <td>NaN</td>\n",
       "      <td>NaN</td>\n",
       "      <td>NaN</td>\n",
       "      <td>NaN</td>\n",
       "      <td>NaN</td>\n",
       "    </tr>\n",
       "    <tr>\n",
       "      <th>...</th>\n",
       "      <td>...</td>\n",
       "      <td>...</td>\n",
       "      <td>...</td>\n",
       "      <td>...</td>\n",
       "      <td>...</td>\n",
       "      <td>...</td>\n",
       "      <td>...</td>\n",
       "      <td>...</td>\n",
       "      <td>...</td>\n",
       "      <td>...</td>\n",
       "      <td>...</td>\n",
       "      <td>...</td>\n",
       "      <td>...</td>\n",
       "      <td>...</td>\n",
       "      <td>...</td>\n",
       "      <td>...</td>\n",
       "      <td>...</td>\n",
       "      <td>...</td>\n",
       "      <td>...</td>\n",
       "      <td>...</td>\n",
       "      <td>...</td>\n",
       "    </tr>\n",
       "    <tr>\n",
       "      <th>162</th>\n",
       "      <td>15195</td>\n",
       "      <td>-3.885874</td>\n",
       "      <td>-1.188801</td>\n",
       "      <td>0.692213</td>\n",
       "      <td>-3.821060</td>\n",
       "      <td>-1.192599</td>\n",
       "      <td>0.312257</td>\n",
       "      <td>-4.646297</td>\n",
       "      <td>-0.815801</td>\n",
       "      <td>0.862099</td>\n",
       "      <td>...</td>\n",
       "      <td>NaN</td>\n",
       "      <td>NaN</td>\n",
       "      <td>NaN</td>\n",
       "      <td>NaN</td>\n",
       "      <td>NaN</td>\n",
       "      <td>NaN</td>\n",
       "      <td>NaN</td>\n",
       "      <td>NaN</td>\n",
       "      <td>NaN</td>\n",
       "      <td>NaN</td>\n",
       "    </tr>\n",
       "    <tr>\n",
       "      <th>163</th>\n",
       "      <td>15196</td>\n",
       "      <td>-3.885843</td>\n",
       "      <td>-1.188797</td>\n",
       "      <td>0.692209</td>\n",
       "      <td>-3.821114</td>\n",
       "      <td>-1.192552</td>\n",
       "      <td>0.312273</td>\n",
       "      <td>-4.646381</td>\n",
       "      <td>-0.815766</td>\n",
       "      <td>0.862109</td>\n",
       "      <td>...</td>\n",
       "      <td>NaN</td>\n",
       "      <td>NaN</td>\n",
       "      <td>NaN</td>\n",
       "      <td>NaN</td>\n",
       "      <td>NaN</td>\n",
       "      <td>NaN</td>\n",
       "      <td>NaN</td>\n",
       "      <td>NaN</td>\n",
       "      <td>NaN</td>\n",
       "      <td>NaN</td>\n",
       "    </tr>\n",
       "    <tr>\n",
       "      <th>164</th>\n",
       "      <td>15197</td>\n",
       "      <td>-3.885919</td>\n",
       "      <td>-1.188756</td>\n",
       "      <td>0.692282</td>\n",
       "      <td>-3.821062</td>\n",
       "      <td>-1.192629</td>\n",
       "      <td>0.312282</td>\n",
       "      <td>-4.646347</td>\n",
       "      <td>-0.815836</td>\n",
       "      <td>0.862012</td>\n",
       "      <td>...</td>\n",
       "      <td>NaN</td>\n",
       "      <td>NaN</td>\n",
       "      <td>NaN</td>\n",
       "      <td>NaN</td>\n",
       "      <td>NaN</td>\n",
       "      <td>NaN</td>\n",
       "      <td>NaN</td>\n",
       "      <td>NaN</td>\n",
       "      <td>NaN</td>\n",
       "      <td>NaN</td>\n",
       "    </tr>\n",
       "    <tr>\n",
       "      <th>165</th>\n",
       "      <td>15198</td>\n",
       "      <td>-3.885917</td>\n",
       "      <td>-1.188834</td>\n",
       "      <td>0.692209</td>\n",
       "      <td>-3.821225</td>\n",
       "      <td>-1.192589</td>\n",
       "      <td>0.312057</td>\n",
       "      <td>-4.646404</td>\n",
       "      <td>-0.815806</td>\n",
       "      <td>0.861995</td>\n",
       "      <td>...</td>\n",
       "      <td>NaN</td>\n",
       "      <td>NaN</td>\n",
       "      <td>NaN</td>\n",
       "      <td>NaN</td>\n",
       "      <td>NaN</td>\n",
       "      <td>NaN</td>\n",
       "      <td>NaN</td>\n",
       "      <td>NaN</td>\n",
       "      <td>NaN</td>\n",
       "      <td>NaN</td>\n",
       "    </tr>\n",
       "    <tr>\n",
       "      <th>166</th>\n",
       "      <td>15199</td>\n",
       "      <td>-3.886015</td>\n",
       "      <td>-1.188718</td>\n",
       "      <td>0.692214</td>\n",
       "      <td>-3.821184</td>\n",
       "      <td>-1.192559</td>\n",
       "      <td>0.312107</td>\n",
       "      <td>-4.637473</td>\n",
       "      <td>-0.815231</td>\n",
       "      <td>0.864058</td>\n",
       "      <td>...</td>\n",
       "      <td>NaN</td>\n",
       "      <td>NaN</td>\n",
       "      <td>NaN</td>\n",
       "      <td>NaN</td>\n",
       "      <td>NaN</td>\n",
       "      <td>NaN</td>\n",
       "      <td>NaN</td>\n",
       "      <td>NaN</td>\n",
       "      <td>NaN</td>\n",
       "      <td>NaN</td>\n",
       "    </tr>\n",
       "  </tbody>\n",
       "</table>\n",
       "<p>167 rows × 359 columns</p>\n",
       "</div>"
      ],
      "text/plain": [
       "     Frame  DARKO_Robot - 1 X  DARKO_Robot - 1 Y  DARKO_Robot - 1 Z  \\\n",
       "0    15033          -3.886030          -1.188737           0.692199   \n",
       "1    15034          -3.885826          -1.188807           0.692293   \n",
       "2    15035          -3.885924          -1.188764           0.692260   \n",
       "3    15036          -3.885944          -1.188776           0.692293   \n",
       "4    15037          -3.885823          -1.188808           0.692279   \n",
       "..     ...                ...                ...                ...   \n",
       "162  15195          -3.885874          -1.188801           0.692213   \n",
       "163  15196          -3.885843          -1.188797           0.692209   \n",
       "164  15197          -3.885919          -1.188756           0.692282   \n",
       "165  15198          -3.885917          -1.188834           0.692209   \n",
       "166  15199          -3.886015          -1.188718           0.692214   \n",
       "\n",
       "     DARKO_Robot - 2 X  DARKO_Robot - 2 Y  DARKO_Robot - 2 Z  \\\n",
       "0            -3.821085          -1.192664           0.312282   \n",
       "1            -3.821118          -1.192571           0.312269   \n",
       "2            -3.820947          -1.192614           0.312413   \n",
       "3            -3.821163          -1.192532           0.312210   \n",
       "4            -3.821138          -1.192589           0.312231   \n",
       "..                 ...                ...                ...   \n",
       "162          -3.821060          -1.192599           0.312257   \n",
       "163          -3.821114          -1.192552           0.312273   \n",
       "164          -3.821062          -1.192629           0.312282   \n",
       "165          -3.821225          -1.192589           0.312057   \n",
       "166          -3.821184          -1.192559           0.312107   \n",
       "\n",
       "     DARKO_Robot - 3 X  DARKO_Robot - 3 Y  DARKO_Robot - 3 Z  ...  \\\n",
       "0            -4.646152          -0.815854           0.862110  ...   \n",
       "1            -4.646307          -0.815808           0.862079  ...   \n",
       "2            -4.646390          -0.815799           0.862035  ...   \n",
       "3            -4.646409          -0.815795           0.862040  ...   \n",
       "4            -4.646387          -0.815816           0.862001  ...   \n",
       "..                 ...                ...                ...  ...   \n",
       "162          -4.646297          -0.815801           0.862099  ...   \n",
       "163          -4.646381          -0.815766           0.862109  ...   \n",
       "164          -4.646347          -0.815836           0.862012  ...   \n",
       "165          -4.646404          -0.815806           0.861995  ...   \n",
       "166          -4.637473          -0.815231           0.864058  ...   \n",
       "\n",
       "     Helmet_9 R8  LO1 R0  LO1 R1  LO1 R2  LO1 R3  LO1 R4  LO1 R5  LO1 R6  \\\n",
       "0            NaN     NaN     NaN     NaN     NaN     NaN     NaN     NaN   \n",
       "1            NaN     NaN     NaN     NaN     NaN     NaN     NaN     NaN   \n",
       "2            NaN     NaN     NaN     NaN     NaN     NaN     NaN     NaN   \n",
       "3            NaN     NaN     NaN     NaN     NaN     NaN     NaN     NaN   \n",
       "4            NaN     NaN     NaN     NaN     NaN     NaN     NaN     NaN   \n",
       "..           ...     ...     ...     ...     ...     ...     ...     ...   \n",
       "162          NaN     NaN     NaN     NaN     NaN     NaN     NaN     NaN   \n",
       "163          NaN     NaN     NaN     NaN     NaN     NaN     NaN     NaN   \n",
       "164          NaN     NaN     NaN     NaN     NaN     NaN     NaN     NaN   \n",
       "165          NaN     NaN     NaN     NaN     NaN     NaN     NaN     NaN   \n",
       "166          NaN     NaN     NaN     NaN     NaN     NaN     NaN     NaN   \n",
       "\n",
       "     LO1 R7  LO1 R8  \n",
       "0       NaN     NaN  \n",
       "1       NaN     NaN  \n",
       "2       NaN     NaN  \n",
       "3       NaN     NaN  \n",
       "4       NaN     NaN  \n",
       "..      ...     ...  \n",
       "162     NaN     NaN  \n",
       "163     NaN     NaN  \n",
       "164     NaN     NaN  \n",
       "165     NaN     NaN  \n",
       "166     NaN     NaN  \n",
       "\n",
       "[167 rows x 359 columns]"
      ]
     },
     "execution_count": 28,
     "metadata": {},
     "output_type": "execute_result"
    }
   ],
   "source": [
    "features_filtered"
   ]
  },
  {
   "attachments": {},
   "cell_type": "markdown",
   "metadata": {},
   "source": [
    "# Visualization"
   ]
  },
  {
   "cell_type": "code",
   "execution_count": 29,
   "metadata": {},
   "outputs": [],
   "source": [
    "import plotly.express as px\n",
    "import plotly.graph_objects as go"
   ]
  },
  {
   "cell_type": "code",
   "execution_count": 30,
   "metadata": {},
   "outputs": [
    {
     "data": {
      "text/plain": [
       "Index(['Helmet_5 TB2_G3D_X', 'Helmet_5 TB2_G3D_Y', 'Helmet_5 TB2_G3D_Z',\n",
       "       'Helmet_6 TB3_G3D_X', 'Helmet_6 TB3_G3D_Y', 'Helmet_6 TB3_G3D_Z'],\n",
       "      dtype='object')"
      ]
     },
     "execution_count": 30,
     "metadata": {},
     "output_type": "execute_result"
    }
   ],
   "source": [
    "features_filtered.columns[features_filtered.columns.str.contains(\"G3D\")]"
   ]
  },
  {
   "cell_type": "code",
   "execution_count": 31,
   "metadata": {},
   "outputs": [],
   "source": [
    "HELMET_TO_VISUALIZE = \"Helmet_5\""
   ]
  },
  {
   "cell_type": "code",
   "execution_count": 32,
   "metadata": {},
   "outputs": [
    {
     "data": {
      "text/plain": [
       "(166, 3)"
      ]
     },
     "execution_count": 32,
     "metadata": {},
     "output_type": "execute_result"
    }
   ],
   "source": [
    "gaze_data = features_filtered[\n",
    "    [\n",
    "        f\"{HELMET_TO_VISUALIZE} TB2_G3D_X\",\n",
    "        f\"{HELMET_TO_VISUALIZE} TB2_G3D_Y\",\n",
    "        f\"{HELMET_TO_VISUALIZE} TB2_G3D_Z\",\n",
    "    ]\n",
    "].dropna()\n",
    "gaze_data.shape"
   ]
  },
  {
   "cell_type": "code",
   "execution_count": 33,
   "metadata": {},
   "outputs": [
    {
     "data": {
      "text/plain": [
       "(167, 3)"
      ]
     },
     "execution_count": 33,
     "metadata": {},
     "output_type": "execute_result"
    }
   ],
   "source": [
    "centroids_data = features_filtered[features_filtered.columns[features_filtered.columns.str.contains(f\"{HELMET_TO_VISUALIZE} Centroid\")]].dropna()\n",
    "centroids_data.shape"
   ]
  },
  {
   "cell_type": "code",
   "execution_count": 34,
   "metadata": {},
   "outputs": [
    {
     "data": {
      "text/html": [
       "<div>\n",
       "<style scoped>\n",
       "    .dataframe tbody tr th:only-of-type {\n",
       "        vertical-align: middle;\n",
       "    }\n",
       "\n",
       "    .dataframe tbody tr th {\n",
       "        vertical-align: top;\n",
       "    }\n",
       "\n",
       "    .dataframe thead th {\n",
       "        text-align: right;\n",
       "    }\n",
       "</style>\n",
       "<table border=\"1\" class=\"dataframe\">\n",
       "  <thead>\n",
       "    <tr style=\"text-align: right;\">\n",
       "      <th></th>\n",
       "      <th>Helmet_5 Centroid_X</th>\n",
       "      <th>Helmet_5 Centroid_Y</th>\n",
       "      <th>Helmet_5 Centroid_Z</th>\n",
       "    </tr>\n",
       "  </thead>\n",
       "  <tbody>\n",
       "    <tr>\n",
       "      <th>0</th>\n",
       "      <td>108.96330</td>\n",
       "      <td>3465.82242</td>\n",
       "      <td>1536.80798</td>\n",
       "    </tr>\n",
       "    <tr>\n",
       "      <th>1</th>\n",
       "      <td>109.38860</td>\n",
       "      <td>3466.07652</td>\n",
       "      <td>1536.40857</td>\n",
       "    </tr>\n",
       "    <tr>\n",
       "      <th>2</th>\n",
       "      <td>109.79436</td>\n",
       "      <td>3466.34948</td>\n",
       "      <td>1536.00378</td>\n",
       "    </tr>\n",
       "    <tr>\n",
       "      <th>3</th>\n",
       "      <td>110.18250</td>\n",
       "      <td>3466.63918</td>\n",
       "      <td>1535.64289</td>\n",
       "    </tr>\n",
       "    <tr>\n",
       "      <th>4</th>\n",
       "      <td>110.61231</td>\n",
       "      <td>3466.93717</td>\n",
       "      <td>1535.25926</td>\n",
       "    </tr>\n",
       "    <tr>\n",
       "      <th>...</th>\n",
       "      <td>...</td>\n",
       "      <td>...</td>\n",
       "      <td>...</td>\n",
       "    </tr>\n",
       "    <tr>\n",
       "      <th>162</th>\n",
       "      <td>136.24555</td>\n",
       "      <td>3461.02575</td>\n",
       "      <td>1523.77589</td>\n",
       "    </tr>\n",
       "    <tr>\n",
       "      <th>163</th>\n",
       "      <td>136.87356</td>\n",
       "      <td>3459.51405</td>\n",
       "      <td>1523.65217</td>\n",
       "    </tr>\n",
       "    <tr>\n",
       "      <th>164</th>\n",
       "      <td>137.27808</td>\n",
       "      <td>3459.16355</td>\n",
       "      <td>1523.96066</td>\n",
       "    </tr>\n",
       "    <tr>\n",
       "      <th>165</th>\n",
       "      <td>137.47919</td>\n",
       "      <td>3458.42031</td>\n",
       "      <td>1523.75478</td>\n",
       "    </tr>\n",
       "    <tr>\n",
       "      <th>166</th>\n",
       "      <td>137.87851</td>\n",
       "      <td>3457.61775</td>\n",
       "      <td>1523.52035</td>\n",
       "    </tr>\n",
       "  </tbody>\n",
       "</table>\n",
       "<p>167 rows × 3 columns</p>\n",
       "</div>"
      ],
      "text/plain": [
       "     Helmet_5 Centroid_X  Helmet_5 Centroid_Y  Helmet_5 Centroid_Z\n",
       "0              108.96330           3465.82242           1536.80798\n",
       "1              109.38860           3466.07652           1536.40857\n",
       "2              109.79436           3466.34948           1536.00378\n",
       "3              110.18250           3466.63918           1535.64289\n",
       "4              110.61231           3466.93717           1535.25926\n",
       "..                   ...                  ...                  ...\n",
       "162            136.24555           3461.02575           1523.77589\n",
       "163            136.87356           3459.51405           1523.65217\n",
       "164            137.27808           3459.16355           1523.96066\n",
       "165            137.47919           3458.42031           1523.75478\n",
       "166            137.87851           3457.61775           1523.52035\n",
       "\n",
       "[167 rows x 3 columns]"
      ]
     },
     "execution_count": 34,
     "metadata": {},
     "output_type": "execute_result"
    }
   ],
   "source": [
    "centroids_data"
   ]
  },
  {
   "cell_type": "code",
   "execution_count": 35,
   "metadata": {},
   "outputs": [],
   "source": [
    "lo_info = GroupsInfo(\n",
    "    element_id=\"LO1\", markers_pattern_re=r\"LO1 - (\\d).*\", label_sep=\" - \"\n",
    ")\n",
    "darko_info = GroupsInfo(\n",
    "    element_id=\"DARKO\", markers_pattern_re=r\"DARKO_Robot - (\\d).*\", label_sep=\" - \"\n",
    ")\n",
    "helmets_info = GroupsInfo(\n",
    "    element_id=\"Helmet\", markers_pattern_re=r\"Helmet_(\\d+ - \\d).*\", label_sep=\"_\"\n",
    ")\n",
    "tobii_info = GroupsInfo(\n",
    "    element_id=\"Helmet\", markers_pattern_re=r\"Helmet_(\\d+ TB\\d)_G3D.*\", label_sep=\"_\"\n",
    ")\n",
    "centroids_info = GroupsInfo(\n",
    "        element_id=\"Helmet\",\n",
    "        markers_pattern_re=r\"Helmet_(\\d+) Centroid_.*\",\n",
    "        label_sep=\"_\",\n",
    "    )\n",
    "rotations_info = GroupsInfo(\n",
    "        element_id=\"Helmet\",\n",
    "        markers_pattern_re=r\"Helmet_(\\d+) R.*\",\n",
    "        label_sep=\"_\",\n",
    "    )\n"
   ]
  },
  {
   "cell_type": "code",
   "execution_count": 68,
   "metadata": {},
   "outputs": [],
   "source": [
    "def transform_df2plotly(\n",
    "    input_df: pd.DataFrame, groups_info\n",
    ") -> pd.DataFrame:\n",
    "    \"\"\"Transform a dataframe into the plotly best suited format\n",
    "    |   Frame    |   X (m)  |   Y (m)  |   eid   |   mid   |\n",
    "\n",
    "    being `eid` the element identifier (e.g. Helmet, DARKO, etc), and `mid` the marker identifier\n",
    "\n",
    "    Parameters\n",
    "    ----------\n",
    "    input_df\n",
    "        input pandas DataFrame\n",
    "    element_id\n",
    "        see eid explanation above\n",
    "    markers_pattern_re\n",
    "        regex to groupby element id and markers\n",
    "    sep\n",
    "        separation used in col name form element id and marker id\n",
    "\n",
    "    Returns\n",
    "    -------\n",
    "        Transformed pandas DataFrame\n",
    "    \"\"\"\n",
    "    groups_info = [groups_info] if isinstance(groups_info, GroupsInfo) else groups_info\n",
    "    groups = []\n",
    "    for group_info in groups_info:\n",
    "        element_id = group_info.element_id\n",
    "        elements_grouped = input_df.groupby(\n",
    "            input_df.columns.str.extract(group_info.markers_pattern_re, expand=False),\n",
    "            axis=1,\n",
    "        )\n",
    "        for group_name, group in elements_grouped:\n",
    "            if element_id == \"Helmet\" and len(group_name.split(\"-\")) == 1:\n",
    "                tobii = len(group_name.split(\" \")) == 2\n",
    "                # eyt or centroids\n",
    "                _mapping_cols = (\n",
    "                    get_mapping_cols_tobii(\n",
    "                        element_id,\n",
    "                        group_name,\n",
    "                        group_info.label_sep,\n",
    "                    )\n",
    "                    if tobii\n",
    "                    else get_mapping_cols_centroids(\n",
    "                        element_id, group_name, group_info.label_sep\n",
    "                    )\n",
    "                )\n",
    "                group = group.rename(_mapping_cols, axis=1)\n",
    "                eid = element_id + \"_\" + group_name.split(\" \")[0]\n",
    "            else:\n",
    "                _mapping_cols = get_mapping_cols(\n",
    "                    element_id, group_name, group_info.label_sep\n",
    "                )\n",
    "                group = group.rename(_mapping_cols, axis=1)\n",
    "                eid = (\n",
    "                    element_id + \"_\" + group_name.split(\" - \")[0]\n",
    "                    if element_id == \"Helmet\"\n",
    "                    else element_id\n",
    "                )\n",
    "                mid = (\n",
    "                    group_name.split(\" - \")[1] if element_id == \"Helmet\" else group_name\n",
    "                )\n",
    "                group[\"mid\"] = mid\n",
    "            group[\"eid\"] = eid\n",
    "            groups.append(group)\n",
    "    out_df = pd.concat(groups, axis=0)\n",
    "    return out_df"
   ]
  },
  {
   "cell_type": "code",
   "execution_count": 69,
   "metadata": {},
   "outputs": [],
   "source": [
    "transformed = transform_df2plotly(\n",
    "        input_df=features_filtered.copy(),\n",
    "        groups_info=[tobii_info],\n",
    "    )"
   ]
  },
  {
   "cell_type": "code",
   "execution_count": 70,
   "metadata": {},
   "outputs": [
    {
     "data": {
      "text/html": [
       "<div>\n",
       "<style scoped>\n",
       "    .dataframe tbody tr th:only-of-type {\n",
       "        vertical-align: middle;\n",
       "    }\n",
       "\n",
       "    .dataframe tbody tr th {\n",
       "        vertical-align: top;\n",
       "    }\n",
       "\n",
       "    .dataframe thead th {\n",
       "        text-align: right;\n",
       "    }\n",
       "</style>\n",
       "<table border=\"1\" class=\"dataframe\">\n",
       "  <thead>\n",
       "    <tr style=\"text-align: right;\">\n",
       "      <th></th>\n",
       "      <th>TB_G3D X (m)</th>\n",
       "      <th>TB_G3D Y (m)</th>\n",
       "      <th>TB_G3D Z (m)</th>\n",
       "      <th>eid</th>\n",
       "    </tr>\n",
       "  </thead>\n",
       "  <tbody>\n",
       "    <tr>\n",
       "      <th>0</th>\n",
       "      <td>NaN</td>\n",
       "      <td>NaN</td>\n",
       "      <td>NaN</td>\n",
       "      <td>Helmet_5</td>\n",
       "    </tr>\n",
       "    <tr>\n",
       "      <th>1</th>\n",
       "      <td>387.696357</td>\n",
       "      <td>3356.778699</td>\n",
       "      <td>1768.926842</td>\n",
       "      <td>Helmet_5</td>\n",
       "    </tr>\n",
       "    <tr>\n",
       "      <th>2</th>\n",
       "      <td>389.758957</td>\n",
       "      <td>3356.454384</td>\n",
       "      <td>1771.104233</td>\n",
       "      <td>Helmet_5</td>\n",
       "    </tr>\n",
       "    <tr>\n",
       "      <th>3</th>\n",
       "      <td>390.053442</td>\n",
       "      <td>3356.764545</td>\n",
       "      <td>1770.859035</td>\n",
       "      <td>Helmet_5</td>\n",
       "    </tr>\n",
       "    <tr>\n",
       "      <th>4</th>\n",
       "      <td>390.347665</td>\n",
       "      <td>3357.805761</td>\n",
       "      <td>1771.083621</td>\n",
       "      <td>Helmet_5</td>\n",
       "    </tr>\n",
       "    <tr>\n",
       "      <th>...</th>\n",
       "      <td>...</td>\n",
       "      <td>...</td>\n",
       "      <td>...</td>\n",
       "      <td>...</td>\n",
       "    </tr>\n",
       "    <tr>\n",
       "      <th>162</th>\n",
       "      <td>NaN</td>\n",
       "      <td>NaN</td>\n",
       "      <td>NaN</td>\n",
       "      <td>Helmet_6</td>\n",
       "    </tr>\n",
       "    <tr>\n",
       "      <th>163</th>\n",
       "      <td>NaN</td>\n",
       "      <td>NaN</td>\n",
       "      <td>NaN</td>\n",
       "      <td>Helmet_6</td>\n",
       "    </tr>\n",
       "    <tr>\n",
       "      <th>164</th>\n",
       "      <td>NaN</td>\n",
       "      <td>NaN</td>\n",
       "      <td>NaN</td>\n",
       "      <td>Helmet_6</td>\n",
       "    </tr>\n",
       "    <tr>\n",
       "      <th>165</th>\n",
       "      <td>NaN</td>\n",
       "      <td>NaN</td>\n",
       "      <td>NaN</td>\n",
       "      <td>Helmet_6</td>\n",
       "    </tr>\n",
       "    <tr>\n",
       "      <th>166</th>\n",
       "      <td>NaN</td>\n",
       "      <td>NaN</td>\n",
       "      <td>NaN</td>\n",
       "      <td>Helmet_6</td>\n",
       "    </tr>\n",
       "  </tbody>\n",
       "</table>\n",
       "<p>334 rows × 4 columns</p>\n",
       "</div>"
      ],
      "text/plain": [
       "     TB_G3D X (m)  TB_G3D Y (m)  TB_G3D Z (m)       eid\n",
       "0             NaN           NaN           NaN  Helmet_5\n",
       "1      387.696357   3356.778699   1768.926842  Helmet_5\n",
       "2      389.758957   3356.454384   1771.104233  Helmet_5\n",
       "3      390.053442   3356.764545   1770.859035  Helmet_5\n",
       "4      390.347665   3357.805761   1771.083621  Helmet_5\n",
       "..            ...           ...           ...       ...\n",
       "162           NaN           NaN           NaN  Helmet_6\n",
       "163           NaN           NaN           NaN  Helmet_6\n",
       "164           NaN           NaN           NaN  Helmet_6\n",
       "165           NaN           NaN           NaN  Helmet_6\n",
       "166           NaN           NaN           NaN  Helmet_6\n",
       "\n",
       "[334 rows x 4 columns]"
      ]
     },
     "execution_count": 70,
     "metadata": {},
     "output_type": "execute_result"
    }
   ],
   "source": [
    "transformed"
   ]
  },
  {
   "cell_type": "code",
   "execution_count": 71,
   "metadata": {},
   "outputs": [],
   "source": [
    "transformed_cent = transform_df2plotly(\n",
    "        input_df=features_filtered.copy(),\n",
    "        groups_info=[centroids_info],\n",
    "    )"
   ]
  },
  {
   "cell_type": "code",
   "execution_count": 72,
   "metadata": {},
   "outputs": [],
   "source": [
    "transformed_cent = transformed_cent.sort_index()"
   ]
  },
  {
   "cell_type": "code",
   "execution_count": 73,
   "metadata": {},
   "outputs": [
    {
     "data": {
      "text/html": [
       "<div>\n",
       "<style scoped>\n",
       "    .dataframe tbody tr th:only-of-type {\n",
       "        vertical-align: middle;\n",
       "    }\n",
       "\n",
       "    .dataframe tbody tr th {\n",
       "        vertical-align: top;\n",
       "    }\n",
       "\n",
       "    .dataframe thead th {\n",
       "        text-align: right;\n",
       "    }\n",
       "</style>\n",
       "<table border=\"1\" class=\"dataframe\">\n",
       "  <thead>\n",
       "    <tr style=\"text-align: right;\">\n",
       "      <th></th>\n",
       "      <th>Centroid X (m)</th>\n",
       "      <th>Centroid Y (m)</th>\n",
       "      <th>Centroid Z (m)</th>\n",
       "      <th>eid</th>\n",
       "    </tr>\n",
       "  </thead>\n",
       "  <tbody>\n",
       "    <tr>\n",
       "      <th>0</th>\n",
       "      <td>NaN</td>\n",
       "      <td>NaN</td>\n",
       "      <td>NaN</td>\n",
       "      <td>Helmet_1</td>\n",
       "    </tr>\n",
       "    <tr>\n",
       "      <th>0</th>\n",
       "      <td>NaN</td>\n",
       "      <td>NaN</td>\n",
       "      <td>NaN</td>\n",
       "      <td>Helmet_3</td>\n",
       "    </tr>\n",
       "    <tr>\n",
       "      <th>0</th>\n",
       "      <td>108.96330</td>\n",
       "      <td>3465.82242</td>\n",
       "      <td>1536.80798</td>\n",
       "      <td>Helmet_5</td>\n",
       "    </tr>\n",
       "    <tr>\n",
       "      <th>0</th>\n",
       "      <td>NaN</td>\n",
       "      <td>NaN</td>\n",
       "      <td>NaN</td>\n",
       "      <td>Helmet_6</td>\n",
       "    </tr>\n",
       "    <tr>\n",
       "      <th>0</th>\n",
       "      <td>NaN</td>\n",
       "      <td>NaN</td>\n",
       "      <td>NaN</td>\n",
       "      <td>Helmet_2</td>\n",
       "    </tr>\n",
       "    <tr>\n",
       "      <th>...</th>\n",
       "      <td>...</td>\n",
       "      <td>...</td>\n",
       "      <td>...</td>\n",
       "      <td>...</td>\n",
       "    </tr>\n",
       "    <tr>\n",
       "      <th>166</th>\n",
       "      <td>-3430.41278</td>\n",
       "      <td>739.85130</td>\n",
       "      <td>1861.86219</td>\n",
       "      <td>Helmet_2</td>\n",
       "    </tr>\n",
       "    <tr>\n",
       "      <th>166</th>\n",
       "      <td>3005.17148</td>\n",
       "      <td>-676.49252</td>\n",
       "      <td>1692.34251</td>\n",
       "      <td>Helmet_10</td>\n",
       "    </tr>\n",
       "    <tr>\n",
       "      <th>166</th>\n",
       "      <td>NaN</td>\n",
       "      <td>NaN</td>\n",
       "      <td>NaN</td>\n",
       "      <td>Helmet_1</td>\n",
       "    </tr>\n",
       "    <tr>\n",
       "      <th>166</th>\n",
       "      <td>-3290.43134</td>\n",
       "      <td>1811.84756</td>\n",
       "      <td>1826.68101</td>\n",
       "      <td>Helmet_8</td>\n",
       "    </tr>\n",
       "    <tr>\n",
       "      <th>166</th>\n",
       "      <td>NaN</td>\n",
       "      <td>NaN</td>\n",
       "      <td>NaN</td>\n",
       "      <td>Helmet_9</td>\n",
       "    </tr>\n",
       "  </tbody>\n",
       "</table>\n",
       "<p>1670 rows × 4 columns</p>\n",
       "</div>"
      ],
      "text/plain": [
       "     Centroid X (m)  Centroid Y (m)  Centroid Z (m)        eid\n",
       "0               NaN             NaN             NaN   Helmet_1\n",
       "0               NaN             NaN             NaN   Helmet_3\n",
       "0         108.96330      3465.82242      1536.80798   Helmet_5\n",
       "0               NaN             NaN             NaN   Helmet_6\n",
       "0               NaN             NaN             NaN   Helmet_2\n",
       "..              ...             ...             ...        ...\n",
       "166     -3430.41278       739.85130      1861.86219   Helmet_2\n",
       "166      3005.17148      -676.49252      1692.34251  Helmet_10\n",
       "166             NaN             NaN             NaN   Helmet_1\n",
       "166     -3290.43134      1811.84756      1826.68101   Helmet_8\n",
       "166             NaN             NaN             NaN   Helmet_9\n",
       "\n",
       "[1670 rows x 4 columns]"
      ]
     },
     "execution_count": 73,
     "metadata": {},
     "output_type": "execute_result"
    }
   ],
   "source": [
    "transformed_cent"
   ]
  },
  {
   "cell_type": "code",
   "execution_count": 74,
   "metadata": {},
   "outputs": [],
   "source": [
    "transformed_rotations = transform_df2plotly(\n",
    "        input_df=features_filtered.copy(),\n",
    "        groups_info=[rotations_info],\n",
    "    )"
   ]
  },
  {
   "cell_type": "code",
   "execution_count": 75,
   "metadata": {},
   "outputs": [],
   "source": [
    "transformed_rotations = transformed_rotations.sort_index()"
   ]
  },
  {
   "cell_type": "code",
   "execution_count": 76,
   "metadata": {},
   "outputs": [
    {
     "data": {
      "text/html": [
       "<div>\n",
       "<style scoped>\n",
       "    .dataframe tbody tr th:only-of-type {\n",
       "        vertical-align: middle;\n",
       "    }\n",
       "\n",
       "    .dataframe tbody tr th {\n",
       "        vertical-align: top;\n",
       "    }\n",
       "\n",
       "    .dataframe thead th {\n",
       "        text-align: right;\n",
       "    }\n",
       "</style>\n",
       "<table border=\"1\" class=\"dataframe\">\n",
       "  <thead>\n",
       "    <tr style=\"text-align: right;\">\n",
       "      <th></th>\n",
       "      <th>R0</th>\n",
       "      <th>R1</th>\n",
       "      <th>R2</th>\n",
       "      <th>R3</th>\n",
       "      <th>R4</th>\n",
       "      <th>R5</th>\n",
       "      <th>R6</th>\n",
       "      <th>R7</th>\n",
       "      <th>R8</th>\n",
       "      <th>eid</th>\n",
       "    </tr>\n",
       "  </thead>\n",
       "  <tbody>\n",
       "    <tr>\n",
       "      <th>0</th>\n",
       "      <td>NaN</td>\n",
       "      <td>NaN</td>\n",
       "      <td>NaN</td>\n",
       "      <td>NaN</td>\n",
       "      <td>NaN</td>\n",
       "      <td>NaN</td>\n",
       "      <td>NaN</td>\n",
       "      <td>NaN</td>\n",
       "      <td>NaN</td>\n",
       "      <td>Helmet_1</td>\n",
       "    </tr>\n",
       "    <tr>\n",
       "      <th>0</th>\n",
       "      <td>NaN</td>\n",
       "      <td>NaN</td>\n",
       "      <td>NaN</td>\n",
       "      <td>NaN</td>\n",
       "      <td>NaN</td>\n",
       "      <td>NaN</td>\n",
       "      <td>NaN</td>\n",
       "      <td>NaN</td>\n",
       "      <td>NaN</td>\n",
       "      <td>Helmet_3</td>\n",
       "    </tr>\n",
       "    <tr>\n",
       "      <th>0</th>\n",
       "      <td>0.42649</td>\n",
       "      <td>0.19841</td>\n",
       "      <td>-0.88246</td>\n",
       "      <td>-0.42769</td>\n",
       "      <td>0.90392</td>\n",
       "      <td>-0.00346</td>\n",
       "      <td>0.79699</td>\n",
       "      <td>0.37890</td>\n",
       "      <td>0.47037</td>\n",
       "      <td>Helmet_5</td>\n",
       "    </tr>\n",
       "    <tr>\n",
       "      <th>0</th>\n",
       "      <td>NaN</td>\n",
       "      <td>NaN</td>\n",
       "      <td>NaN</td>\n",
       "      <td>NaN</td>\n",
       "      <td>NaN</td>\n",
       "      <td>NaN</td>\n",
       "      <td>NaN</td>\n",
       "      <td>NaN</td>\n",
       "      <td>NaN</td>\n",
       "      <td>Helmet_6</td>\n",
       "    </tr>\n",
       "    <tr>\n",
       "      <th>0</th>\n",
       "      <td>NaN</td>\n",
       "      <td>NaN</td>\n",
       "      <td>NaN</td>\n",
       "      <td>NaN</td>\n",
       "      <td>NaN</td>\n",
       "      <td>NaN</td>\n",
       "      <td>NaN</td>\n",
       "      <td>NaN</td>\n",
       "      <td>NaN</td>\n",
       "      <td>Helmet_2</td>\n",
       "    </tr>\n",
       "    <tr>\n",
       "      <th>...</th>\n",
       "      <td>...</td>\n",
       "      <td>...</td>\n",
       "      <td>...</td>\n",
       "      <td>...</td>\n",
       "      <td>...</td>\n",
       "      <td>...</td>\n",
       "      <td>...</td>\n",
       "      <td>...</td>\n",
       "      <td>...</td>\n",
       "      <td>...</td>\n",
       "    </tr>\n",
       "    <tr>\n",
       "      <th>166</th>\n",
       "      <td>0.81265</td>\n",
       "      <td>0.52180</td>\n",
       "      <td>0.25948</td>\n",
       "      <td>-0.55166</td>\n",
       "      <td>0.83232</td>\n",
       "      <td>0.05396</td>\n",
       "      <td>-0.18782</td>\n",
       "      <td>-0.18700</td>\n",
       "      <td>0.96424</td>\n",
       "      <td>Helmet_2</td>\n",
       "    </tr>\n",
       "    <tr>\n",
       "      <th>166</th>\n",
       "      <td>0.97085</td>\n",
       "      <td>0.13625</td>\n",
       "      <td>0.19717</td>\n",
       "      <td>-0.13458</td>\n",
       "      <td>0.99066</td>\n",
       "      <td>-0.02192</td>\n",
       "      <td>-0.19832</td>\n",
       "      <td>-0.00525</td>\n",
       "      <td>0.98012</td>\n",
       "      <td>Helmet_10</td>\n",
       "    </tr>\n",
       "    <tr>\n",
       "      <th>166</th>\n",
       "      <td>NaN</td>\n",
       "      <td>NaN</td>\n",
       "      <td>NaN</td>\n",
       "      <td>NaN</td>\n",
       "      <td>NaN</td>\n",
       "      <td>NaN</td>\n",
       "      <td>NaN</td>\n",
       "      <td>NaN</td>\n",
       "      <td>NaN</td>\n",
       "      <td>Helmet_1</td>\n",
       "    </tr>\n",
       "    <tr>\n",
       "      <th>166</th>\n",
       "      <td>0.90196</td>\n",
       "      <td>0.39688</td>\n",
       "      <td>0.17014</td>\n",
       "      <td>-0.40798</td>\n",
       "      <td>0.91233</td>\n",
       "      <td>0.03466</td>\n",
       "      <td>-0.14147</td>\n",
       "      <td>-0.10068</td>\n",
       "      <td>0.98481</td>\n",
       "      <td>Helmet_8</td>\n",
       "    </tr>\n",
       "    <tr>\n",
       "      <th>166</th>\n",
       "      <td>NaN</td>\n",
       "      <td>NaN</td>\n",
       "      <td>NaN</td>\n",
       "      <td>NaN</td>\n",
       "      <td>NaN</td>\n",
       "      <td>NaN</td>\n",
       "      <td>NaN</td>\n",
       "      <td>NaN</td>\n",
       "      <td>NaN</td>\n",
       "      <td>Helmet_9</td>\n",
       "    </tr>\n",
       "  </tbody>\n",
       "</table>\n",
       "<p>1670 rows × 10 columns</p>\n",
       "</div>"
      ],
      "text/plain": [
       "          R0       R1       R2       R3       R4       R5       R6       R7  \\\n",
       "0        NaN      NaN      NaN      NaN      NaN      NaN      NaN      NaN   \n",
       "0        NaN      NaN      NaN      NaN      NaN      NaN      NaN      NaN   \n",
       "0    0.42649  0.19841 -0.88246 -0.42769  0.90392 -0.00346  0.79699  0.37890   \n",
       "0        NaN      NaN      NaN      NaN      NaN      NaN      NaN      NaN   \n",
       "0        NaN      NaN      NaN      NaN      NaN      NaN      NaN      NaN   \n",
       "..       ...      ...      ...      ...      ...      ...      ...      ...   \n",
       "166  0.81265  0.52180  0.25948 -0.55166  0.83232  0.05396 -0.18782 -0.18700   \n",
       "166  0.97085  0.13625  0.19717 -0.13458  0.99066 -0.02192 -0.19832 -0.00525   \n",
       "166      NaN      NaN      NaN      NaN      NaN      NaN      NaN      NaN   \n",
       "166  0.90196  0.39688  0.17014 -0.40798  0.91233  0.03466 -0.14147 -0.10068   \n",
       "166      NaN      NaN      NaN      NaN      NaN      NaN      NaN      NaN   \n",
       "\n",
       "          R8        eid  \n",
       "0        NaN   Helmet_1  \n",
       "0        NaN   Helmet_3  \n",
       "0    0.47037   Helmet_5  \n",
       "0        NaN   Helmet_6  \n",
       "0        NaN   Helmet_2  \n",
       "..       ...        ...  \n",
       "166  0.96424   Helmet_2  \n",
       "166  0.98012  Helmet_10  \n",
       "166      NaN   Helmet_1  \n",
       "166  0.98481   Helmet_8  \n",
       "166      NaN   Helmet_9  \n",
       "\n",
       "[1670 rows x 10 columns]"
      ]
     },
     "execution_count": 76,
     "metadata": {},
     "output_type": "execute_result"
    }
   ],
   "source": [
    "transformed_rotations"
   ]
  },
  {
   "cell_type": "code",
   "execution_count": 77,
   "metadata": {},
   "outputs": [
    {
     "data": {
      "text/plain": [
       "True"
      ]
     },
     "execution_count": 77,
     "metadata": {},
     "output_type": "execute_result"
    }
   ],
   "source": [
    "(transformed_rotations.eid.values == transformed_cent.eid.values).sum() == len(transformed_rotations)"
   ]
  },
  {
   "cell_type": "code",
   "execution_count": 78,
   "metadata": {},
   "outputs": [],
   "source": [
    "cent_rotations = pd.concat([transformed_cent, transformed_rotations.drop(\"eid\", axis = 1)], axis = 1)"
   ]
  },
  {
   "cell_type": "code",
   "execution_count": 79,
   "metadata": {},
   "outputs": [
    {
     "data": {
      "text/html": [
       "<div>\n",
       "<style scoped>\n",
       "    .dataframe tbody tr th:only-of-type {\n",
       "        vertical-align: middle;\n",
       "    }\n",
       "\n",
       "    .dataframe tbody tr th {\n",
       "        vertical-align: top;\n",
       "    }\n",
       "\n",
       "    .dataframe thead th {\n",
       "        text-align: right;\n",
       "    }\n",
       "</style>\n",
       "<table border=\"1\" class=\"dataframe\">\n",
       "  <thead>\n",
       "    <tr style=\"text-align: right;\">\n",
       "      <th></th>\n",
       "      <th>Centroid X (m)</th>\n",
       "      <th>Centroid Y (m)</th>\n",
       "      <th>Centroid Z (m)</th>\n",
       "      <th>eid</th>\n",
       "      <th>R0</th>\n",
       "      <th>R1</th>\n",
       "      <th>R2</th>\n",
       "      <th>R3</th>\n",
       "      <th>R4</th>\n",
       "      <th>R5</th>\n",
       "      <th>R6</th>\n",
       "      <th>R7</th>\n",
       "      <th>R8</th>\n",
       "    </tr>\n",
       "  </thead>\n",
       "  <tbody>\n",
       "    <tr>\n",
       "      <th>0</th>\n",
       "      <td>NaN</td>\n",
       "      <td>NaN</td>\n",
       "      <td>NaN</td>\n",
       "      <td>Helmet_1</td>\n",
       "      <td>NaN</td>\n",
       "      <td>NaN</td>\n",
       "      <td>NaN</td>\n",
       "      <td>NaN</td>\n",
       "      <td>NaN</td>\n",
       "      <td>NaN</td>\n",
       "      <td>NaN</td>\n",
       "      <td>NaN</td>\n",
       "      <td>NaN</td>\n",
       "    </tr>\n",
       "    <tr>\n",
       "      <th>0</th>\n",
       "      <td>NaN</td>\n",
       "      <td>NaN</td>\n",
       "      <td>NaN</td>\n",
       "      <td>Helmet_3</td>\n",
       "      <td>NaN</td>\n",
       "      <td>NaN</td>\n",
       "      <td>NaN</td>\n",
       "      <td>NaN</td>\n",
       "      <td>NaN</td>\n",
       "      <td>NaN</td>\n",
       "      <td>NaN</td>\n",
       "      <td>NaN</td>\n",
       "      <td>NaN</td>\n",
       "    </tr>\n",
       "    <tr>\n",
       "      <th>0</th>\n",
       "      <td>108.96330</td>\n",
       "      <td>3465.82242</td>\n",
       "      <td>1536.80798</td>\n",
       "      <td>Helmet_5</td>\n",
       "      <td>0.42649</td>\n",
       "      <td>0.19841</td>\n",
       "      <td>-0.88246</td>\n",
       "      <td>-0.42769</td>\n",
       "      <td>0.90392</td>\n",
       "      <td>-0.00346</td>\n",
       "      <td>0.79699</td>\n",
       "      <td>0.37890</td>\n",
       "      <td>0.47037</td>\n",
       "    </tr>\n",
       "    <tr>\n",
       "      <th>0</th>\n",
       "      <td>NaN</td>\n",
       "      <td>NaN</td>\n",
       "      <td>NaN</td>\n",
       "      <td>Helmet_6</td>\n",
       "      <td>NaN</td>\n",
       "      <td>NaN</td>\n",
       "      <td>NaN</td>\n",
       "      <td>NaN</td>\n",
       "      <td>NaN</td>\n",
       "      <td>NaN</td>\n",
       "      <td>NaN</td>\n",
       "      <td>NaN</td>\n",
       "      <td>NaN</td>\n",
       "    </tr>\n",
       "    <tr>\n",
       "      <th>0</th>\n",
       "      <td>NaN</td>\n",
       "      <td>NaN</td>\n",
       "      <td>NaN</td>\n",
       "      <td>Helmet_2</td>\n",
       "      <td>NaN</td>\n",
       "      <td>NaN</td>\n",
       "      <td>NaN</td>\n",
       "      <td>NaN</td>\n",
       "      <td>NaN</td>\n",
       "      <td>NaN</td>\n",
       "      <td>NaN</td>\n",
       "      <td>NaN</td>\n",
       "      <td>NaN</td>\n",
       "    </tr>\n",
       "    <tr>\n",
       "      <th>...</th>\n",
       "      <td>...</td>\n",
       "      <td>...</td>\n",
       "      <td>...</td>\n",
       "      <td>...</td>\n",
       "      <td>...</td>\n",
       "      <td>...</td>\n",
       "      <td>...</td>\n",
       "      <td>...</td>\n",
       "      <td>...</td>\n",
       "      <td>...</td>\n",
       "      <td>...</td>\n",
       "      <td>...</td>\n",
       "      <td>...</td>\n",
       "    </tr>\n",
       "    <tr>\n",
       "      <th>166</th>\n",
       "      <td>-3430.41278</td>\n",
       "      <td>739.85130</td>\n",
       "      <td>1861.86219</td>\n",
       "      <td>Helmet_2</td>\n",
       "      <td>0.81265</td>\n",
       "      <td>0.52180</td>\n",
       "      <td>0.25948</td>\n",
       "      <td>-0.55166</td>\n",
       "      <td>0.83232</td>\n",
       "      <td>0.05396</td>\n",
       "      <td>-0.18782</td>\n",
       "      <td>-0.18700</td>\n",
       "      <td>0.96424</td>\n",
       "    </tr>\n",
       "    <tr>\n",
       "      <th>166</th>\n",
       "      <td>3005.17148</td>\n",
       "      <td>-676.49252</td>\n",
       "      <td>1692.34251</td>\n",
       "      <td>Helmet_10</td>\n",
       "      <td>0.97085</td>\n",
       "      <td>0.13625</td>\n",
       "      <td>0.19717</td>\n",
       "      <td>-0.13458</td>\n",
       "      <td>0.99066</td>\n",
       "      <td>-0.02192</td>\n",
       "      <td>-0.19832</td>\n",
       "      <td>-0.00525</td>\n",
       "      <td>0.98012</td>\n",
       "    </tr>\n",
       "    <tr>\n",
       "      <th>166</th>\n",
       "      <td>NaN</td>\n",
       "      <td>NaN</td>\n",
       "      <td>NaN</td>\n",
       "      <td>Helmet_1</td>\n",
       "      <td>NaN</td>\n",
       "      <td>NaN</td>\n",
       "      <td>NaN</td>\n",
       "      <td>NaN</td>\n",
       "      <td>NaN</td>\n",
       "      <td>NaN</td>\n",
       "      <td>NaN</td>\n",
       "      <td>NaN</td>\n",
       "      <td>NaN</td>\n",
       "    </tr>\n",
       "    <tr>\n",
       "      <th>166</th>\n",
       "      <td>-3290.43134</td>\n",
       "      <td>1811.84756</td>\n",
       "      <td>1826.68101</td>\n",
       "      <td>Helmet_8</td>\n",
       "      <td>0.90196</td>\n",
       "      <td>0.39688</td>\n",
       "      <td>0.17014</td>\n",
       "      <td>-0.40798</td>\n",
       "      <td>0.91233</td>\n",
       "      <td>0.03466</td>\n",
       "      <td>-0.14147</td>\n",
       "      <td>-0.10068</td>\n",
       "      <td>0.98481</td>\n",
       "    </tr>\n",
       "    <tr>\n",
       "      <th>166</th>\n",
       "      <td>NaN</td>\n",
       "      <td>NaN</td>\n",
       "      <td>NaN</td>\n",
       "      <td>Helmet_9</td>\n",
       "      <td>NaN</td>\n",
       "      <td>NaN</td>\n",
       "      <td>NaN</td>\n",
       "      <td>NaN</td>\n",
       "      <td>NaN</td>\n",
       "      <td>NaN</td>\n",
       "      <td>NaN</td>\n",
       "      <td>NaN</td>\n",
       "      <td>NaN</td>\n",
       "    </tr>\n",
       "  </tbody>\n",
       "</table>\n",
       "<p>1670 rows × 13 columns</p>\n",
       "</div>"
      ],
      "text/plain": [
       "     Centroid X (m)  Centroid Y (m)  Centroid Z (m)        eid       R0  \\\n",
       "0               NaN             NaN             NaN   Helmet_1      NaN   \n",
       "0               NaN             NaN             NaN   Helmet_3      NaN   \n",
       "0         108.96330      3465.82242      1536.80798   Helmet_5  0.42649   \n",
       "0               NaN             NaN             NaN   Helmet_6      NaN   \n",
       "0               NaN             NaN             NaN   Helmet_2      NaN   \n",
       "..              ...             ...             ...        ...      ...   \n",
       "166     -3430.41278       739.85130      1861.86219   Helmet_2  0.81265   \n",
       "166      3005.17148      -676.49252      1692.34251  Helmet_10  0.97085   \n",
       "166             NaN             NaN             NaN   Helmet_1      NaN   \n",
       "166     -3290.43134      1811.84756      1826.68101   Helmet_8  0.90196   \n",
       "166             NaN             NaN             NaN   Helmet_9      NaN   \n",
       "\n",
       "          R1       R2       R3       R4       R5       R6       R7       R8  \n",
       "0        NaN      NaN      NaN      NaN      NaN      NaN      NaN      NaN  \n",
       "0        NaN      NaN      NaN      NaN      NaN      NaN      NaN      NaN  \n",
       "0    0.19841 -0.88246 -0.42769  0.90392 -0.00346  0.79699  0.37890  0.47037  \n",
       "0        NaN      NaN      NaN      NaN      NaN      NaN      NaN      NaN  \n",
       "0        NaN      NaN      NaN      NaN      NaN      NaN      NaN      NaN  \n",
       "..       ...      ...      ...      ...      ...      ...      ...      ...  \n",
       "166  0.52180  0.25948 -0.55166  0.83232  0.05396 -0.18782 -0.18700  0.96424  \n",
       "166  0.13625  0.19717 -0.13458  0.99066 -0.02192 -0.19832 -0.00525  0.98012  \n",
       "166      NaN      NaN      NaN      NaN      NaN      NaN      NaN      NaN  \n",
       "166  0.39688  0.17014 -0.40798  0.91233  0.03466 -0.14147 -0.10068  0.98481  \n",
       "166      NaN      NaN      NaN      NaN      NaN      NaN      NaN      NaN  \n",
       "\n",
       "[1670 rows x 13 columns]"
      ]
     },
     "execution_count": 79,
     "metadata": {},
     "output_type": "execute_result"
    }
   ],
   "source": [
    "cent_rotations"
   ]
  },
  {
   "cell_type": "code",
   "execution_count": 87,
   "metadata": {},
   "outputs": [],
   "source": [
    "transformed_trajectories = transform_df2plotly(\n",
    "        input_df=features_filtered.copy(),\n",
    "        groups_info=[helmets_info],\n",
    "    )\n",
    "transformed_trajectories = transformed_trajectories.sort_index()"
   ]
  },
  {
   "cell_type": "code",
   "execution_count": 89,
   "metadata": {},
   "outputs": [
    {
     "data": {
      "text/html": [
       "<div>\n",
       "<style scoped>\n",
       "    .dataframe tbody tr th:only-of-type {\n",
       "        vertical-align: middle;\n",
       "    }\n",
       "\n",
       "    .dataframe tbody tr th {\n",
       "        vertical-align: top;\n",
       "    }\n",
       "\n",
       "    .dataframe thead th {\n",
       "        text-align: right;\n",
       "    }\n",
       "</style>\n",
       "<table border=\"1\" class=\"dataframe\">\n",
       "  <thead>\n",
       "    <tr style=\"text-align: right;\">\n",
       "      <th></th>\n",
       "      <th>X (m)</th>\n",
       "      <th>Y (m)</th>\n",
       "      <th>Z (m)</th>\n",
       "      <th>speed (m/s)</th>\n",
       "      <th>mid</th>\n",
       "      <th>eid</th>\n",
       "    </tr>\n",
       "  </thead>\n",
       "  <tbody>\n",
       "    <tr>\n",
       "      <th>0</th>\n",
       "      <td>NaN</td>\n",
       "      <td>NaN</td>\n",
       "      <td>NaN</td>\n",
       "      <td>NaN</td>\n",
       "      <td>1</td>\n",
       "      <td>Helmet_1</td>\n",
       "    </tr>\n",
       "    <tr>\n",
       "      <th>0</th>\n",
       "      <td>0.298228</td>\n",
       "      <td>-0.408581</td>\n",
       "      <td>1.708787</td>\n",
       "      <td>NaN</td>\n",
       "      <td>1</td>\n",
       "      <td>Helmet_10</td>\n",
       "    </tr>\n",
       "    <tr>\n",
       "      <th>0</th>\n",
       "      <td>-4.784008</td>\n",
       "      <td>0.523736</td>\n",
       "      <td>1.788615</td>\n",
       "      <td>NaN</td>\n",
       "      <td>3</td>\n",
       "      <td>Helmet_8</td>\n",
       "    </tr>\n",
       "    <tr>\n",
       "      <th>0</th>\n",
       "      <td>NaN</td>\n",
       "      <td>NaN</td>\n",
       "      <td>NaN</td>\n",
       "      <td>NaN</td>\n",
       "      <td>3</td>\n",
       "      <td>Helmet_4</td>\n",
       "    </tr>\n",
       "    <tr>\n",
       "      <th>0</th>\n",
       "      <td>NaN</td>\n",
       "      <td>NaN</td>\n",
       "      <td>NaN</td>\n",
       "      <td>NaN</td>\n",
       "      <td>4</td>\n",
       "      <td>Helmet_2</td>\n",
       "    </tr>\n",
       "    <tr>\n",
       "      <th>...</th>\n",
       "      <td>...</td>\n",
       "      <td>...</td>\n",
       "      <td>...</td>\n",
       "      <td>...</td>\n",
       "      <td>...</td>\n",
       "      <td>...</td>\n",
       "    </tr>\n",
       "    <tr>\n",
       "      <th>166</th>\n",
       "      <td>-3.269827</td>\n",
       "      <td>1.881261</td>\n",
       "      <td>1.857702</td>\n",
       "      <td>1.123939</td>\n",
       "      <td>4</td>\n",
       "      <td>Helmet_8</td>\n",
       "    </tr>\n",
       "    <tr>\n",
       "      <th>166</th>\n",
       "      <td>-3.385920</td>\n",
       "      <td>0.837854</td>\n",
       "      <td>1.851159</td>\n",
       "      <td>1.174227</td>\n",
       "      <td>1</td>\n",
       "      <td>Helmet_2</td>\n",
       "    </tr>\n",
       "    <tr>\n",
       "      <th>166</th>\n",
       "      <td>NaN</td>\n",
       "      <td>NaN</td>\n",
       "      <td>NaN</td>\n",
       "      <td>0.000000</td>\n",
       "      <td>5</td>\n",
       "      <td>Helmet_4</td>\n",
       "    </tr>\n",
       "    <tr>\n",
       "      <th>166</th>\n",
       "      <td>0.113074</td>\n",
       "      <td>3.511985</td>\n",
       "      <td>1.477777</td>\n",
       "      <td>0.079656</td>\n",
       "      <td>4</td>\n",
       "      <td>Helmet_5</td>\n",
       "    </tr>\n",
       "    <tr>\n",
       "      <th>166</th>\n",
       "      <td>-3.349353</td>\n",
       "      <td>1.774245</td>\n",
       "      <td>1.803864</td>\n",
       "      <td>1.049904</td>\n",
       "      <td>5</td>\n",
       "      <td>Helmet_8</td>\n",
       "    </tr>\n",
       "  </tbody>\n",
       "</table>\n",
       "<p>5177 rows × 6 columns</p>\n",
       "</div>"
      ],
      "text/plain": [
       "        X (m)     Y (m)     Z (m)  speed (m/s) mid        eid\n",
       "0         NaN       NaN       NaN          NaN   1   Helmet_1\n",
       "0    0.298228 -0.408581  1.708787          NaN   1  Helmet_10\n",
       "0   -4.784008  0.523736  1.788615          NaN   3   Helmet_8\n",
       "0         NaN       NaN       NaN          NaN   3   Helmet_4\n",
       "0         NaN       NaN       NaN          NaN   4   Helmet_2\n",
       "..        ...       ...       ...          ...  ..        ...\n",
       "166 -3.269827  1.881261  1.857702     1.123939   4   Helmet_8\n",
       "166 -3.385920  0.837854  1.851159     1.174227   1   Helmet_2\n",
       "166       NaN       NaN       NaN     0.000000   5   Helmet_4\n",
       "166  0.113074  3.511985  1.477777     0.079656   4   Helmet_5\n",
       "166 -3.349353  1.774245  1.803864     1.049904   5   Helmet_8\n",
       "\n",
       "[5177 rows x 6 columns]"
      ]
     },
     "execution_count": 89,
     "metadata": {},
     "output_type": "execute_result"
    }
   ],
   "source": [
    "transformed_trajectories"
   ]
  },
  {
   "cell_type": "code",
   "execution_count": 90,
   "metadata": {},
   "outputs": [
    {
     "data": {
      "text/html": [
       "<div>\n",
       "<style scoped>\n",
       "    .dataframe tbody tr th:only-of-type {\n",
       "        vertical-align: middle;\n",
       "    }\n",
       "\n",
       "    .dataframe tbody tr th {\n",
       "        vertical-align: top;\n",
       "    }\n",
       "\n",
       "    .dataframe thead th {\n",
       "        text-align: right;\n",
       "    }\n",
       "</style>\n",
       "<table border=\"1\" class=\"dataframe\">\n",
       "  <thead>\n",
       "    <tr style=\"text-align: right;\">\n",
       "      <th></th>\n",
       "      <th>TB_G3D X (m)</th>\n",
       "      <th>TB_G3D Y (m)</th>\n",
       "      <th>TB_G3D Z (m)</th>\n",
       "      <th>eid</th>\n",
       "    </tr>\n",
       "  </thead>\n",
       "  <tbody>\n",
       "    <tr>\n",
       "      <th>0</th>\n",
       "      <td>NaN</td>\n",
       "      <td>NaN</td>\n",
       "      <td>NaN</td>\n",
       "      <td>Helmet_5</td>\n",
       "    </tr>\n",
       "    <tr>\n",
       "      <th>0</th>\n",
       "      <td>NaN</td>\n",
       "      <td>NaN</td>\n",
       "      <td>NaN</td>\n",
       "      <td>Helmet_6</td>\n",
       "    </tr>\n",
       "    <tr>\n",
       "      <th>1</th>\n",
       "      <td>NaN</td>\n",
       "      <td>NaN</td>\n",
       "      <td>NaN</td>\n",
       "      <td>Helmet_6</td>\n",
       "    </tr>\n",
       "    <tr>\n",
       "      <th>1</th>\n",
       "      <td>387.696357</td>\n",
       "      <td>3356.778699</td>\n",
       "      <td>1768.926842</td>\n",
       "      <td>Helmet_5</td>\n",
       "    </tr>\n",
       "    <tr>\n",
       "      <th>2</th>\n",
       "      <td>389.758957</td>\n",
       "      <td>3356.454384</td>\n",
       "      <td>1771.104233</td>\n",
       "      <td>Helmet_5</td>\n",
       "    </tr>\n",
       "    <tr>\n",
       "      <th>...</th>\n",
       "      <td>...</td>\n",
       "      <td>...</td>\n",
       "      <td>...</td>\n",
       "      <td>...</td>\n",
       "    </tr>\n",
       "    <tr>\n",
       "      <th>164</th>\n",
       "      <td>411.174035</td>\n",
       "      <td>3367.010134</td>\n",
       "      <td>1798.774197</td>\n",
       "      <td>Helmet_5</td>\n",
       "    </tr>\n",
       "    <tr>\n",
       "      <th>165</th>\n",
       "      <td>NaN</td>\n",
       "      <td>NaN</td>\n",
       "      <td>NaN</td>\n",
       "      <td>Helmet_6</td>\n",
       "    </tr>\n",
       "    <tr>\n",
       "      <th>165</th>\n",
       "      <td>411.066621</td>\n",
       "      <td>3366.247297</td>\n",
       "      <td>1798.866850</td>\n",
       "      <td>Helmet_5</td>\n",
       "    </tr>\n",
       "    <tr>\n",
       "      <th>166</th>\n",
       "      <td>413.120615</td>\n",
       "      <td>3365.938535</td>\n",
       "      <td>1800.686487</td>\n",
       "      <td>Helmet_5</td>\n",
       "    </tr>\n",
       "    <tr>\n",
       "      <th>166</th>\n",
       "      <td>NaN</td>\n",
       "      <td>NaN</td>\n",
       "      <td>NaN</td>\n",
       "      <td>Helmet_6</td>\n",
       "    </tr>\n",
       "  </tbody>\n",
       "</table>\n",
       "<p>334 rows × 4 columns</p>\n",
       "</div>"
      ],
      "text/plain": [
       "     TB_G3D X (m)  TB_G3D Y (m)  TB_G3D Z (m)       eid\n",
       "0             NaN           NaN           NaN  Helmet_5\n",
       "0             NaN           NaN           NaN  Helmet_6\n",
       "1             NaN           NaN           NaN  Helmet_6\n",
       "1      387.696357   3356.778699   1768.926842  Helmet_5\n",
       "2      389.758957   3356.454384   1771.104233  Helmet_5\n",
       "..            ...           ...           ...       ...\n",
       "164    411.174035   3367.010134   1798.774197  Helmet_5\n",
       "165           NaN           NaN           NaN  Helmet_6\n",
       "165    411.066621   3366.247297   1798.866850  Helmet_5\n",
       "166    413.120615   3365.938535   1800.686487  Helmet_5\n",
       "166           NaN           NaN           NaN  Helmet_6\n",
       "\n",
       "[334 rows x 4 columns]"
      ]
     },
     "execution_count": 90,
     "metadata": {},
     "output_type": "execute_result"
    }
   ],
   "source": [
    "transformed.sort_index()"
   ]
  },
  {
   "cell_type": "code",
   "execution_count": 91,
   "metadata": {},
   "outputs": [],
   "source": [
    "def filter_best_markers(elements_cat_df: pd.DataFrame, nan_counter_by_marker):\n",
    "    elements_filtered_by_best_marker = []\n",
    "    for instance_id, nans_counter in nan_counter_by_marker.items():\n",
    "        best_marker_id = min(\n",
    "            nans_counter,\n",
    "            key=nans_counter.get,\n",
    "        )\n",
    "        elements_filtered_by_best_marker.append(\n",
    "            elements_cat_df[\n",
    "                (elements_cat_df.eid == instance_id)\n",
    "                & (elements_cat_df.mid == best_marker_id)\n",
    "            ]\n",
    "        )\n",
    "    out_df = pd.concat(elements_filtered_by_best_marker, axis=0)\n",
    "    out_df = out_df.sort_index().reset_index()\n",
    "    return out_df"
   ]
  },
  {
   "cell_type": "code",
   "execution_count": 92,
   "metadata": {},
   "outputs": [],
   "source": [
    "best_makers_df = filter_best_markers(\n",
    "        elements_cat_df=transformed_trajectories.copy(), nan_counter_by_marker=best_markers\n",
    "    )"
   ]
  },
  {
   "cell_type": "code",
   "execution_count": 93,
   "metadata": {},
   "outputs": [
    {
     "data": {
      "text/plain": [
       "Index(['index', 'X (m)', 'Y (m)', 'Z (m)', 'speed (m/s)', 'mid', 'eid'], dtype='object')"
      ]
     },
     "execution_count": 93,
     "metadata": {},
     "output_type": "execute_result"
    }
   ],
   "source": [
    "best_makers_df.columns"
   ]
  },
  {
   "cell_type": "code",
   "execution_count": 94,
   "metadata": {},
   "outputs": [],
   "source": [
    "ORIGIN = (0,0,0)\n",
    "X = (1, 0, 0)\n",
    "Y = (0, 1, 0)\n",
    "Z = (0, 0, 1)\n",
    "COLOR1 = 'red'\n",
    "COLOR2 = 'green'\n",
    "COLOR3 = 'blue'\n",
    "COLOR4 = 'orange'"
   ]
  },
  {
   "cell_type": "code",
   "execution_count": 95,
   "metadata": {},
   "outputs": [
    {
     "data": {
      "text/plain": [
       "0            NaN\n",
       "1            NaN\n",
       "2            NaN\n",
       "3            NaN\n",
       "4            NaN\n",
       "          ...   \n",
       "1164    1.174227\n",
       "1165    1.025386\n",
       "1166    0.073633\n",
       "1167    0.853347\n",
       "1168    1.648100\n",
       "Name: speed (m/s), Length: 1169, dtype: float64"
      ]
     },
     "execution_count": 95,
     "metadata": {},
     "output_type": "execute_result"
    }
   ],
   "source": [
    "best_makers_df[\"speed (m/s)\"]"
   ]
  },
  {
   "attachments": {},
   "cell_type": "markdown",
   "metadata": {},
   "source": [
    "<TB2_G3D_X, TB2_G3D_Y, TB2_G3D_Z> is the transformation from the helmet frame to a convergence point\n",
    "of the eye gaze."
   ]
  },
  {
   "cell_type": "code",
   "execution_count": 73,
   "metadata": {},
   "outputs": [
    {
     "data": {
      "application/vnd.plotly.v1+json": {
       "config": {
        "plotlyServerURL": "https://plot.ly"
       },
       "data": [
        {
         "line": {
          "color": "red",
          "width": 5
         },
         "mode": "lines",
         "showlegend": false,
         "type": "scatter3d",
         "x": [
          0,
          1,
          null
         ],
         "y": [
          0,
          0,
          null
         ],
         "z": [
          0,
          0,
          null
         ]
        },
        {
         "line": {
          "color": "green",
          "width": 5
         },
         "mode": "lines",
         "showlegend": false,
         "type": "scatter3d",
         "x": [
          0,
          0,
          null
         ],
         "y": [
          0,
          1,
          null
         ],
         "z": [
          0,
          0,
          null
         ]
        },
        {
         "line": {
          "color": "blue",
          "width": 5
         },
         "mode": "lines",
         "showlegend": false,
         "type": "scatter3d",
         "x": [
          0,
          0,
          null
         ],
         "y": [
          0,
          0,
          null
         ],
         "z": [
          0,
          1,
          null
         ]
        },
        {
         "colorscale": [
          [
           0,
           "red"
          ],
          [
           1,
           "red"
          ]
         ],
         "showscale": false,
         "type": "cone",
         "u": [
          1
         ],
         "v": [
          0
         ],
         "w": [
          0
         ],
         "x": [
          1
         ],
         "y": [
          0
         ],
         "z": [
          0
         ]
        },
        {
         "colorscale": [
          [
           0,
           "green"
          ],
          [
           1,
           "green"
          ]
         ],
         "showscale": false,
         "type": "cone",
         "u": [
          0
         ],
         "v": [
          1
         ],
         "w": [
          0
         ],
         "x": [
          0
         ],
         "y": [
          1
         ],
         "z": [
          0
         ]
        },
        {
         "colorscale": [
          [
           0,
           "blue"
          ],
          [
           1,
           "blue"
          ]
         ],
         "showscale": false,
         "type": "cone",
         "u": [
          0
         ],
         "v": [
          0
         ],
         "w": [
          1
         ],
         "x": [
          0
         ],
         "y": [
          0
         ],
         "z": [
          1
         ]
        }
       ],
       "layout": {
        "template": {
         "data": {
          "candlestick": [
           {
            "decreasing": {
             "line": {
              "color": "#000033"
             }
            },
            "increasing": {
             "line": {
              "color": "#000032"
             }
            },
            "type": "candlestick"
           }
          ],
          "contour": [
           {
            "colorscale": [
             [
              0,
              "#000011"
             ],
             [
              0.1111111111111111,
              "#000012"
             ],
             [
              0.2222222222222222,
              "#000013"
             ],
             [
              0.3333333333333333,
              "#000014"
             ],
             [
              0.4444444444444444,
              "#000015"
             ],
             [
              0.5555555555555556,
              "#000016"
             ],
             [
              0.6666666666666666,
              "#000017"
             ],
             [
              0.7777777777777778,
              "#000018"
             ],
             [
              0.8888888888888888,
              "#000019"
             ],
             [
              1,
              "#000020"
             ]
            ],
            "type": "contour"
           }
          ],
          "contourcarpet": [
           {
            "colorscale": [
             [
              0,
              "#000011"
             ],
             [
              0.1111111111111111,
              "#000012"
             ],
             [
              0.2222222222222222,
              "#000013"
             ],
             [
              0.3333333333333333,
              "#000014"
             ],
             [
              0.4444444444444444,
              "#000015"
             ],
             [
              0.5555555555555556,
              "#000016"
             ],
             [
              0.6666666666666666,
              "#000017"
             ],
             [
              0.7777777777777778,
              "#000018"
             ],
             [
              0.8888888888888888,
              "#000019"
             ],
             [
              1,
              "#000020"
             ]
            ],
            "type": "contourcarpet"
           }
          ],
          "heatmap": [
           {
            "colorscale": [
             [
              0,
              "#000011"
             ],
             [
              0.1111111111111111,
              "#000012"
             ],
             [
              0.2222222222222222,
              "#000013"
             ],
             [
              0.3333333333333333,
              "#000014"
             ],
             [
              0.4444444444444444,
              "#000015"
             ],
             [
              0.5555555555555556,
              "#000016"
             ],
             [
              0.6666666666666666,
              "#000017"
             ],
             [
              0.7777777777777778,
              "#000018"
             ],
             [
              0.8888888888888888,
              "#000019"
             ],
             [
              1,
              "#000020"
             ]
            ],
            "type": "heatmap"
           }
          ],
          "histogram2d": [
           {
            "colorscale": [
             [
              0,
              "#000011"
             ],
             [
              0.1111111111111111,
              "#000012"
             ],
             [
              0.2222222222222222,
              "#000013"
             ],
             [
              0.3333333333333333,
              "#000014"
             ],
             [
              0.4444444444444444,
              "#000015"
             ],
             [
              0.5555555555555556,
              "#000016"
             ],
             [
              0.6666666666666666,
              "#000017"
             ],
             [
              0.7777777777777778,
              "#000018"
             ],
             [
              0.8888888888888888,
              "#000019"
             ],
             [
              1,
              "#000020"
             ]
            ],
            "type": "histogram2d"
           }
          ],
          "icicle": [
           {
            "textfont": {
             "color": "white"
            },
            "type": "icicle"
           }
          ],
          "sankey": [
           {
            "textfont": {
             "color": "#000036"
            },
            "type": "sankey"
           }
          ],
          "scatter": [
           {
            "marker": {
             "line": {
              "width": 0
             }
            },
            "type": "scatter"
           }
          ],
          "table": [
           {
            "cells": {
             "fill": {
              "color": "#000038"
             },
             "font": {
              "color": "#000037"
             },
             "line": {
              "color": "#000039"
             }
            },
            "header": {
             "fill": {
              "color": "#000040"
             },
             "font": {
              "color": "#000036"
             },
             "line": {
              "color": "#000039"
             }
            },
            "type": "table"
           }
          ],
          "waterfall": [
           {
            "connector": {
             "line": {
              "color": "#000036",
              "width": 2
             }
            },
            "decreasing": {
             "marker": {
              "color": "#000033"
             }
            },
            "increasing": {
             "marker": {
              "color": "#000032"
             }
            },
            "totals": {
             "marker": {
              "color": "#000034"
             }
            },
            "type": "waterfall"
           }
          ]
         },
         "layout": {
          "coloraxis": {
           "colorscale": [
            [
             0,
             "#000011"
            ],
            [
             0.1111111111111111,
             "#000012"
            ],
            [
             0.2222222222222222,
             "#000013"
            ],
            [
             0.3333333333333333,
             "#000014"
            ],
            [
             0.4444444444444444,
             "#000015"
            ],
            [
             0.5555555555555556,
             "#000016"
            ],
            [
             0.6666666666666666,
             "#000017"
            ],
            [
             0.7777777777777778,
             "#000018"
            ],
            [
             0.8888888888888888,
             "#000019"
            ],
            [
             1,
             "#000020"
            ]
           ]
          },
          "colorscale": {
           "diverging": [
            [
             0,
             "#000021"
            ],
            [
             0.1,
             "#000022"
            ],
            [
             0.2,
             "#000023"
            ],
            [
             0.3,
             "#000024"
            ],
            [
             0.4,
             "#000025"
            ],
            [
             0.5,
             "#000026"
            ],
            [
             0.6,
             "#000027"
            ],
            [
             0.7,
             "#000028"
            ],
            [
             0.8,
             "#000029"
            ],
            [
             0.9,
             "#000030"
            ],
            [
             1,
             "#000031"
            ]
           ],
           "sequential": [
            [
             0,
             "#000011"
            ],
            [
             0.1111111111111111,
             "#000012"
            ],
            [
             0.2222222222222222,
             "#000013"
            ],
            [
             0.3333333333333333,
             "#000014"
            ],
            [
             0.4444444444444444,
             "#000015"
            ],
            [
             0.5555555555555556,
             "#000016"
            ],
            [
             0.6666666666666666,
             "#000017"
            ],
            [
             0.7777777777777778,
             "#000018"
            ],
            [
             0.8888888888888888,
             "#000019"
            ],
            [
             1,
             "#000020"
            ]
           ],
           "sequentialminus": [
            [
             0,
             "#000011"
            ],
            [
             0.1111111111111111,
             "#000012"
            ],
            [
             0.2222222222222222,
             "#000013"
            ],
            [
             0.3333333333333333,
             "#000014"
            ],
            [
             0.4444444444444444,
             "#000015"
            ],
            [
             0.5555555555555556,
             "#000016"
            ],
            [
             0.6666666666666666,
             "#000017"
            ],
            [
             0.7777777777777778,
             "#000018"
            ],
            [
             0.8888888888888888,
             "#000019"
            ],
            [
             1,
             "#000020"
            ]
           ]
          },
          "colorway": [
           "#000001",
           "#000002",
           "#000003",
           "#000004",
           "#000005",
           "#000006",
           "#000007",
           "#000008",
           "#000009",
           "#000010"
          ]
         }
        }
       }
      }
     },
     "metadata": {},
     "output_type": "display_data"
    }
   ],
   "source": [
    "# fig = px.scatter_3d(\n",
    "#     transformed[:40000],\n",
    "#     x=\"TB_G3D X (m)\",\n",
    "#     y=\"TB_G3D Y (m)\",\n",
    "#     z=\"TB_G3D Z (m)\",\n",
    "#     color=\"eid\"\n",
    "# )\n",
    "fig = go.Figure([])\n",
    "fig.add_trace(\n",
    "    go.Scatter3d(\n",
    "        x=[ORIGIN[0], X[0], None],\n",
    "        y=[ORIGIN[1], X[1], None],\n",
    "        z=[ORIGIN[2], X[2], None],\n",
    "        mode=\"lines\",\n",
    "        line=dict(color=\"red\", width=5),\n",
    "        showlegend=False,\n",
    "    )\n",
    ")\n",
    "fig.add_trace(\n",
    "    go.Scatter3d(\n",
    "        x=[ORIGIN[0], Y[0], None],\n",
    "        y=[ORIGIN[1], Y[1], None],\n",
    "        z=[ORIGIN[2], Y[2], None],\n",
    "        mode=\"lines\",\n",
    "        line=dict(color=\"green\", width=5),\n",
    "        showlegend=False,\n",
    "    )\n",
    ")\n",
    "fig.add_trace(\n",
    "    go.Scatter3d(\n",
    "        x=[ORIGIN[0], Z[0], None],\n",
    "        y=[ORIGIN[1], Z[1], None],\n",
    "        z=[ORIGIN[2], Z[2], None],\n",
    "        mode=\"lines\",\n",
    "        line=dict(color=\"blue\", width=5),\n",
    "        showlegend=False,\n",
    "    )\n",
    ")\n",
    "\n",
    "fig.add_cone(\n",
    "    x=[1],\n",
    "    y=[0],\n",
    "    z=[0],\n",
    "    u=[1],\n",
    "    v=[0],\n",
    "    w=[0],\n",
    "    colorscale=[[0, COLOR1], [1, COLOR1]],\n",
    "    showscale=False,\n",
    ")\n",
    "\n",
    "fig.add_cone(\n",
    "    x=[0],\n",
    "    y=[1],\n",
    "    z=[0],\n",
    "    u=[0],\n",
    "    v=[1],\n",
    "    w=[0],\n",
    "    colorscale=[[0, COLOR2], [1, COLOR2]],\n",
    "    showscale=False,\n",
    ")\n",
    "\n",
    "fig.add_cone(\n",
    "    x=[0],\n",
    "    y=[0],\n",
    "    z=[Z[2]],\n",
    "    u=[0],\n",
    "    v=[0],\n",
    "    w=[Z[2]],\n",
    "    colorscale=[[0, COLOR3], [1, COLOR3]],\n",
    "    showscale=False,\n",
    ")"
   ]
  },
  {
   "cell_type": "code",
   "execution_count": null,
   "metadata": {},
   "outputs": [],
   "source": []
  }
 ],
 "metadata": {
  "kernelspec": {
   "display_name": "magni-dash",
   "language": "python",
   "name": "python3"
  },
  "language_info": {
   "codemirror_mode": {
    "name": "ipython",
    "version": 3
   },
   "file_extension": ".py",
   "mimetype": "text/x-python",
   "name": "python",
   "nbconvert_exporter": "python",
   "pygments_lexer": "ipython3",
   "version": "3.10.8"
  },
  "orig_nbformat": 4
 },
 "nbformat": 4,
 "nbformat_minor": 2
}
