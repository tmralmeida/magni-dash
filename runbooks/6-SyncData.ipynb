{
 "cells": [
  {
   "cell_type": "code",
   "execution_count": 2,
   "metadata": {},
   "outputs": [
    {
     "name": "stdout",
     "output_type": "stream",
     "text": [
      "The autoreload extension is already loaded. To reload it, use:\n",
      "  %reload_ext autoreload\n"
     ]
    }
   ],
   "source": [
    "%load_ext autoreload\n",
    "%autoreload 2\n",
    "\n",
    "import os\n",
    "import pandas as pd\n",
    "\n",
    "from data_preprocessing.spatio_temporal_features import SpatioTemporalFeatures\n",
    "from utils.common import GroupsInfo, get_mapping_cols_tobii, get_mapping_cols, get_mapping_cols_centroids\n",
    "from config.constants import TRAJECTORY_SAMPLES_PATH"
   ]
  },
  {
   "cell_type": "code",
   "execution_count": 7,
   "metadata": {},
   "outputs": [],
   "source": [
    "TRAJECTORY_SAMPLES_PATH = \"/home/tmr/Documents/PhD/My_PhD/code/magni-dash/data\""
   ]
  },
  {
   "cell_type": "code",
   "execution_count": 9,
   "metadata": {},
   "outputs": [
    {
     "data": {
      "text/plain": [
       "['170522_SC3A_R2.csv', '170522_SC3B_R1.csv']"
      ]
     },
     "execution_count": 9,
     "metadata": {},
     "output_type": "execute_result"
    }
   ],
   "source": [
    "files = os.listdir(os.path.join(TRAJECTORY_SAMPLES_PATH, \"Scenario3\"))\n",
    "files_target = list(filter(lambda x: x.endswith(\".csv\"), files))\n",
    "files_target"
   ]
  },
  {
   "cell_type": "code",
   "execution_count": 10,
   "metadata": {},
   "outputs": [],
   "source": [
    "FILE_IDX = 0"
   ]
  },
  {
   "cell_type": "code",
   "execution_count": 11,
   "metadata": {},
   "outputs": [
    {
     "data": {
      "text/plain": [
       "'170522_SC3A_R2.csv'"
      ]
     },
     "execution_count": 11,
     "metadata": {},
     "output_type": "execute_result"
    }
   ],
   "source": [
    "files_target[FILE_IDX]"
   ]
  },
  {
   "cell_type": "code",
   "execution_count": 12,
   "metadata": {},
   "outputs": [],
   "source": [
    "sync_df = pd.read_csv(os.path.join(TRAJECTORY_SAMPLES_PATH, \"Scenario3\", files_target[FILE_IDX]))"
   ]
  },
  {
   "cell_type": "code",
   "execution_count": 6,
   "metadata": {},
   "outputs": [
    {
     "data": {
      "text/plain": [
       "Helmet_10 Centroid_X    0.407083\n",
       "Helmet_10 Centroid_Y    0.407083\n",
       "Helmet_10 Centroid_Z    0.407083\n",
       "dtype: float64"
      ]
     },
     "execution_count": 6,
     "metadata": {},
     "output_type": "execute_result"
    }
   ],
   "source": [
    "sync_df[sync_df.columns[sync_df.columns.str.contains(\"Helmet_10 Centroid\")]].isna().sum() / sync_df.shape[0]"
   ]
  },
  {
   "cell_type": "code",
   "execution_count": 7,
   "metadata": {},
   "outputs": [
    {
     "name": "stdout",
     "output_type": "stream",
     "text": [
      "X Helmet_10 - 1 X    0.145767\n",
      "dtype: float64\n",
      "Y Helmet_10 - 1 Y    0.145767\n",
      "dtype: float64\n",
      "Z Helmet_10 - 1 Z    0.145767\n",
      "dtype: float64\n",
      "X Helmet_10 - 2 X    0.204275\n",
      "dtype: float64\n",
      "Y Helmet_10 - 2 Y    0.204275\n",
      "dtype: float64\n",
      "Z Helmet_10 - 2 Z    0.204275\n",
      "dtype: float64\n",
      "X Helmet_10 - 3 X    0.195306\n",
      "dtype: float64\n",
      "Y Helmet_10 - 3 Y    0.195306\n",
      "dtype: float64\n",
      "Z Helmet_10 - 3 Z    0.195306\n",
      "dtype: float64\n",
      "X Helmet_10 - 4 X    0.211945\n",
      "dtype: float64\n",
      "Y Helmet_10 - 4 Y    0.211945\n",
      "dtype: float64\n",
      "Z Helmet_10 - 4 Z    0.211945\n",
      "dtype: float64\n"
     ]
    }
   ],
   "source": [
    "for m in range(1,5):\n",
    "    print(\"X\", sync_df[sync_df.columns[sync_df.columns.str.contains(f\"Helmet_10 - {m} X\")]].isna().sum() / sync_df.shape[0])\n",
    "    print(\"Y\", sync_df[sync_df.columns[sync_df.columns.str.contains(f\"Helmet_10 - {m} Y\")]].isna().sum() / sync_df.shape[0])\n",
    "    print(\"Z\", sync_df[sync_df.columns[sync_df.columns.str.contains(f\"Helmet_10 - {m} Z\")]].isna().sum() / sync_df.shape[0])"
   ]
  },
  {
   "cell_type": "code",
   "execution_count": 8,
   "metadata": {},
   "outputs": [
    {
     "data": {
      "text/plain": [
       "Helmet_10 TB2_G3D_X    0.777242\n",
       "Helmet_10 TB2_G3D_Y    0.777242\n",
       "Helmet_10 TB2_G3D_Z    0.777242\n",
       "Helmet_5 TB3_G3D_X     0.503856\n",
       "Helmet_5 TB3_G3D_Y     0.503856\n",
       "Helmet_5 TB3_G3D_Z     0.503856\n",
       "dtype: float64"
      ]
     },
     "execution_count": 8,
     "metadata": {},
     "output_type": "execute_result"
    }
   ],
   "source": [
    "sync_df[sync_df.columns[sync_df.columns.str.contains(\"G3D\")]].isna().sum() / sync_df.shape[0]"
   ]
  },
  {
   "cell_type": "code",
   "execution_count": 9,
   "metadata": {},
   "outputs": [],
   "source": [
    "def get_best_markers(input_df: pd.DataFrame):\n",
    "    \"\"\"Get markers with lowest amount of NaN values\"\"\"\n",
    "    x_coordinate = input_df[input_df.columns[input_df.columns.str.endswith(\"X\")]]\n",
    "    x_cols = x_coordinate.columns\n",
    "\n",
    "    instances = set(x_coordinate.columns.str.split(\" - \").str[0])\n",
    "    instances = list(filter(lambda x: len(x.split(\" \")) == 1, instances))\n",
    "    nan_counter_by_marker = {}\n",
    "    for instance_id in instances:\n",
    "        nan_counter_by_marker[instance_id] = {}\n",
    "        markers = (\n",
    "            x_coordinate[x_cols[x_cols.str.startswith(f\"{instance_id} -\")]]\n",
    "            .columns.str.split(regex=r\" (/d) \")\n",
    "            .str[2]\n",
    "        )\n",
    "        for marker_id in markers:\n",
    "            n_nans = (\n",
    "                x_coordinate[f\"{instance_id} - {marker_id} X\"]\n",
    "                .isna()\n",
    "                .sum()\n",
    "            )\n",
    "            nan_counter_by_marker[instance_id][marker_id] = n_nans\n",
    "    print(nan_counter_by_marker)\n",
    "    return nan_counter_by_marker"
   ]
  },
  {
   "cell_type": "code",
   "execution_count": 10,
   "metadata": {},
   "outputs": [
    {
     "name": "stdout",
     "output_type": "stream",
     "text": [
      "{'Helmet_2': {'1': 3078, '2': 2179, '3': 5822, '4': 5674}, 'Helmet_1': {'1': 617, '2': 2053, '3': 1345}, 'DARKO': {'1': 351, '2': 351, '3': 190, '4': 410, '5': 466, '6': 404, '7': 194}, 'Helmet_6': {'1': 2302, '2': 10912, '3': 7829, '4': 9674, '5': 8374}, 'Helmet_4': {'1': 2951, '2': 7223, '3': 8653, '4': 9500, '5': 9581}, 'Helmet_10': {'1': 3478, '2': 4874, '3': 4660, '4': 5057}, 'Helmet_7': {'1': 6017, '2': 9649, '3': 7314, '4': 12638, '5': 6760}, 'Helmet_5': {'1': 3419, '2': 1283, '3': 6006, '4': 7398, '5': 5809}, 'LO1': {'1': 2787, '2': 2634, '3': 2601, '4': 2444, '5': 3434, '6': 2121, '7': 3090, '8': 3820}}\n"
     ]
    }
   ],
   "source": [
    "best_markers = get_best_markers(sync_df)"
   ]
  },
  {
   "cell_type": "code",
   "execution_count": 11,
   "metadata": {},
   "outputs": [],
   "source": [
    "def preprocess_df(raw_df: pd.DataFrame) -> pd.DataFrame:\n",
    "    \"\"\"interpolation and divide by 1000 to get measurements in meters\"\"\"\n",
    "    preprocessed_df = raw_df.copy()\n",
    "    trajectories_condition = preprocessed_df.columns[\n",
    "            (preprocessed_df.columns.str.endswith(\" X\"))\n",
    "            | ((preprocessed_df.columns.str.endswith(\" Y\")))\n",
    "            | ((preprocessed_df.columns.str.endswith(\" Z\")))\n",
    "        ]\n",
    "    preprocessed_df[trajectories_condition] = preprocessed_df[trajectories_condition].interpolate()\n",
    "    preprocessed_df[trajectories_condition] /= 1000\n",
    "    return preprocessed_df"
   ]
  },
  {
   "cell_type": "code",
   "execution_count": 12,
   "metadata": {},
   "outputs": [
    {
     "data": {
      "text/plain": [
       "Index(['DARKO - 1 X', 'DARKO - 2 X', 'DARKO - 3 X', 'DARKO - 4 X',\n",
       "       'DARKO - 5 X', 'DARKO - 6 X', 'DARKO - 7 X', 'Helmet_1 - 1 X',\n",
       "       'Helmet_1 - 2 X', 'Helmet_1 - 3 X', 'Helmet_10 - 1 X',\n",
       "       'Helmet_10 - 2 X', 'Helmet_10 - 3 X', 'Helmet_10 - 4 X',\n",
       "       'Helmet_2 - 1 X', 'Helmet_2 - 2 X', 'Helmet_2 - 3 X', 'Helmet_2 - 4 X',\n",
       "       'Helmet_4 - 1 X', 'Helmet_4 - 2 X', 'Helmet_4 - 3 X', 'Helmet_4 - 4 X',\n",
       "       'Helmet_4 - 5 X', 'Helmet_5 - 1 X', 'Helmet_5 - 2 X', 'Helmet_5 - 3 X',\n",
       "       'Helmet_5 - 4 X', 'Helmet_5 - 5 X', 'Helmet_6 - 1 X', 'Helmet_6 - 2 X',\n",
       "       'Helmet_6 - 3 X', 'Helmet_6 - 4 X', 'Helmet_6 - 5 X', 'Helmet_7 - 1 X',\n",
       "       'Helmet_7 - 2 X', 'Helmet_7 - 3 X', 'Helmet_7 - 4 X', 'Helmet_7 - 5 X',\n",
       "       'LO1 - 1 X', 'LO1 - 2 X', 'LO1 - 3 X', 'LO1 - 4 X', 'LO1 - 5 X',\n",
       "       'LO1 - 6 X', 'LO1 - 7 X', 'LO1 - 8 X'],\n",
       "      dtype='object')"
      ]
     },
     "execution_count": 12,
     "metadata": {},
     "output_type": "execute_result"
    }
   ],
   "source": [
    "sync_df[sync_df.columns[sync_df.columns.str.endswith(\" X\")]].columns"
   ]
  },
  {
   "cell_type": "code",
   "execution_count": 13,
   "metadata": {},
   "outputs": [],
   "source": [
    "preprocessed_trajectories = preprocess_df(sync_df)"
   ]
  },
  {
   "cell_type": "code",
   "execution_count": 14,
   "metadata": {},
   "outputs": [
    {
     "data": {
      "text/plain": [
       "Helmet_10 TB2_G3D_X    0.777242\n",
       "Helmet_10 TB2_G3D_Y    0.777242\n",
       "Helmet_10 TB2_G3D_Z    0.777242\n",
       "Helmet_5 TB3_G3D_X     0.503856\n",
       "Helmet_5 TB3_G3D_Y     0.503856\n",
       "Helmet_5 TB3_G3D_Z     0.503856\n",
       "dtype: float64"
      ]
     },
     "execution_count": 14,
     "metadata": {},
     "output_type": "execute_result"
    }
   ],
   "source": [
    "preprocessed_trajectories[\n",
    "    preprocessed_trajectories.columns[\n",
    "        preprocessed_trajectories.columns.str.contains(\"G3D\")\n",
    "    ]\n",
    "].isna().sum() / preprocessed_trajectories.shape[0]"
   ]
  },
  {
   "cell_type": "code",
   "execution_count": 15,
   "metadata": {},
   "outputs": [],
   "source": [
    "moving_agents = preprocessed_trajectories.columns[\n",
    "    (preprocessed_trajectories.columns.str.startswith(\"Helmet\"))\n",
    "    | (preprocessed_trajectories.columns.str.startswith(\"LO1\"))\n",
    "].tolist()\n",
    "moving_agents_labels = set(map(lambda x: x.split(\" - \")[0], moving_agents))\n",
    "moving_agents_labels = filter(lambda x: len(x.split(\" \")) == 1, moving_agents_labels)"
   ]
  },
  {
   "cell_type": "code",
   "execution_count": 16,
   "metadata": {},
   "outputs": [],
   "source": [
    "def extract_features(\n",
    "    out_df: pd.DataFrame,\n",
    "    magents_labels,\n",
    "    darko_label,\n",
    ") -> pd.DataFrame:\n",
    "    \"\"\"Extract features to be used in the profiles section such as speed\n",
    "\n",
    "    Parameters\n",
    "    ----------\n",
    "    input_df\n",
    "        raw pandas DataFrame\n",
    "    magents_labels\n",
    "        moving agents labels\n",
    "    darko_label\n",
    "        darko robot label\n",
    "\n",
    "    Returns\n",
    "    -------\n",
    "        pandas DataFrame with the respective features computed\n",
    "    \"\"\"\n",
    "    magents_labels = (\n",
    "        [magents_labels] if isinstance(magents_labels, str) else magents_labels\n",
    "    )\n",
    "    elements_labels = magents_labels + [darko_label] if darko_label else magents_labels\n",
    "\n",
    "    out_df = SpatioTemporalFeatures.get_speed(\n",
    "        out_df,\n",
    "        time_col_name=\"Time\",\n",
    "        element_name=elements_labels,\n",
    "    )\n",
    "\n",
    "    out_df = out_df.reset_index()\n",
    "    return out_df"
   ]
  },
  {
   "cell_type": "code",
   "execution_count": 17,
   "metadata": {},
   "outputs": [],
   "source": [
    "moving_agents_cols = preprocessed_trajectories.columns[(preprocessed_trajectories.columns.str.endswith(\" X\"))\n",
    "            | ((preprocessed_trajectories.columns.str.endswith(\" Y\")))\n",
    "            | ((preprocessed_trajectories.columns.str.endswith(\" Z\")))]"
   ]
  },
  {
   "cell_type": "code",
   "execution_count": 18,
   "metadata": {},
   "outputs": [
    {
     "data": {
      "text/plain": [
       "Index(['DARKO - 1 X', 'DARKO - 1 Y', 'DARKO - 1 Z', 'DARKO - 2 X',\n",
       "       'DARKO - 2 Y', 'DARKO - 2 Z', 'DARKO - 3 X', 'DARKO - 3 Y',\n",
       "       'DARKO - 3 Z', 'DARKO - 4 X',\n",
       "       ...\n",
       "       'LO1 - 5 Z', 'LO1 - 6 X', 'LO1 - 6 Y', 'LO1 - 6 Z', 'LO1 - 7 X',\n",
       "       'LO1 - 7 Y', 'LO1 - 7 Z', 'LO1 - 8 X', 'LO1 - 8 Y', 'LO1 - 8 Z'],\n",
       "      dtype='object', length=138)"
      ]
     },
     "execution_count": 18,
     "metadata": {},
     "output_type": "execute_result"
    }
   ],
   "source": [
    "moving_agents_cols"
   ]
  },
  {
   "cell_type": "code",
   "execution_count": 19,
   "metadata": {},
   "outputs": [
    {
     "name": "stderr",
     "output_type": "stream",
     "text": [
      "2023-05-17 18:12:44.031 INFO    magni_dash.data_preprocessing.spatio_temporal_features: {'Helmet_7 - 5 X_delta', 'Helmet_7 - 5 Y_delta', 'LO1 - 3 X_delta', 'Helmet_5 - 3 Z_delta', 'Helmet_7 - 3 X_delta', 'Helmet_6 - 5 X_delta', 'Helmet_5 - 2 Z_delta', 'Helmet_4 - 4 Y_delta', 'Helmet_2 - 4 Y_delta', 'Helmet_5 - 4 Z_delta', 'DARKO - 6 X_delta', 'DARKO - 3 Y_delta', 'Helmet_2 - 1 Z_delta', 'Helmet_1 - 2 X_delta', 'Helmet_7 - 5 Z_delta', 'Helmet_1 - 1 X_delta', 'Helmet_6 - 2 Z_delta', 'LO1 - 5 Y_delta', 'Helmet_4 - 4 Z_delta', 'Helmet_10 - 1 Y_delta', 'Helmet_10 - 1 Z_delta', 'Helmet_7 - 1 Z_delta', 'LO1 - 6 Y_delta', 'DARKO - 7 Y_delta', 'Helmet_7 - 4 Z_delta', 'Helmet_10 - 3 Z_delta', 'Helmet_10 - 2 Y_delta', 'DARKO - 3 X_delta', 'Helmet_5 - 1 Z_delta', 'DARKO - 3 Z_delta', 'LO1 - 3 Y_delta', 'Helmet_6 - 1 Z_delta', 'Helmet_7 - 4 Y_delta', 'Helmet_10 - 1 X_delta', 'Helmet_5 - 5 Y_delta', 'LO1 - 1 Z_delta', 'DARKO - 1 Y_delta', 'Helmet_7 - 3 Z_delta', 'Helmet_4 - 3 Y_delta', 'Helmet_6 - 2 X_delta', 'Helmet_4 - 4 X_delta', 'Helmet_1 - 2 Z_delta', 'Helmet_5 - 5 X_delta', 'Helmet_1 - 3 Y_delta', 'LO1 - 6 Z_delta', 'Helmet_4 - 5 X_delta', 'Helmet_2 - 1 X_delta', 'Helmet_6 - 1 Y_delta', 'Helmet_6 - 4 Z_delta', 'Helmet_2 - 4 Z_delta', 'Helmet_6 - 4 X_delta', 'Helmet_5 - 3 Y_delta', 'LO1 - 4 Y_delta', 'Helmet_6 - 3 Y_delta', 'Helmet_6 - 1 X_delta', 'LO1 - 8 Z_delta', 'LO1 - 7 Z_delta', 'Helmet_5 - 4 Y_delta', 'DARKO - 5 X_delta', 'Helmet_2 - 4 X_delta', 'DARKO - 2 Y_delta', 'Helmet_5 - 1 Y_delta', 'Helmet_7 - 1 X_delta', 'Helmet_10 - 3 X_delta', 'Helmet_2 - 2 Z_delta', 'DARKO - 1 Z_delta', 'Helmet_2 - 3 Z_delta', 'LO1 - 8 X_delta', 'LO1 - 8 Y_delta', 'Helmet_6 - 5 Y_delta', 'LO1 - 4 Z_delta', 'Helmet_2 - 2 Y_delta', 'Helmet_6 - 3 Z_delta', 'Helmet_4 - 1 Z_delta', 'LO1 - 5 X_delta', 'Helmet_2 - 1 Y_delta', 'Helmet_10 - 4 X_delta', 'Helmet_10 - 3 Y_delta', 'Helmet_7 - 1 Y_delta', 'LO1 - 7 X_delta', 'Helmet_4 - 5 Z_delta', 'Helmet_7 - 3 Y_delta', 'Helmet_5 - 2 X_delta', 'Helmet_4 - 2 X_delta', 'Helmet_1 - 3 X_delta', 'Helmet_5 - 2 Y_delta', 'LO1 - 3 Z_delta', 'DARKO - 5 Y_delta', 'DARKO - 6 Z_delta', 'DARKO - 5 Z_delta', 'Helmet_2 - 2 X_delta', 'DARKO - 7 X_delta', 'LO1 - 2 Y_delta', 'Helmet_6 - 2 Y_delta', 'LO1 - 1 X_delta', 'Helmet_1 - 1 Z_delta', 'Helmet_2 - 3 X_delta', 'Helmet_7 - 2 Z_delta', 'Helmet_1 - 2 Y_delta', 'Helmet_1 - 3 Z_delta', 'LO1 - 6 X_delta', 'Helmet_4 - 3 X_delta', 'LO1 - 4 X_delta', 'DARKO - 6 Y_delta', 'Helmet_1 - 1 Y_delta', 'Helmet_4 - 1 X_delta', 'Helmet_5 - 4 X_delta', 'Helmet_4 - 2 Y_delta', 'Helmet_5 - 1 X_delta', 'Helmet_6 - 5 Z_delta', 'Helmet_4 - 2 Z_delta', 'Helmet_5 - 3 X_delta', 'Time_delta', 'LO1 - 2 X_delta', 'LO1 - 2 Z_delta', 'DARKO - 1 X_delta', 'Helmet_10 - 4 Y_delta', 'DARKO - 2 X_delta', 'Helmet_2 - 3 Y_delta', 'LO1 - 7 Y_delta', 'Helmet_5 - 5 Z_delta', 'Helmet_10 - 4 Z_delta', 'Helmet_7 - 2 X_delta', 'Helmet_4 - 1 Y_delta', 'Helmet_7 - 2 Y_delta', 'DARKO - 4 Z_delta', 'DARKO - 7 Z_delta', 'Helmet_6 - 3 X_delta', 'Helmet_4 - 5 Y_delta', 'LO1 - 1 Y_delta', 'DARKO - 2 Z_delta', 'LO1 - 5 Z_delta', 'DARKO - 4 X_delta', 'Helmet_6 - 4 Y_delta', 'DARKO - 4 Y_delta', 'Helmet_10 - 2 Z_delta', 'Helmet_7 - 4 X_delta', 'Helmet_10 - 2 X_delta', 'Helmet_4 - 3 Z_delta'} created!\n",
      "2023-05-17 18:12:44.069 INFO    magni_dash.data_preprocessing.spatio_temporal_features: ['Helmet_6 - 1 speed (m/s)', 'Helmet_6 - 2 speed (m/s)', 'Helmet_6 - 3 speed (m/s)', 'Helmet_6 - 4 speed (m/s)', 'Helmet_6 - 5 speed (m/s)'] created successfully!\n",
      "2023-05-17 18:12:44.109 INFO    magni_dash.data_preprocessing.spatio_temporal_features: ['Helmet_4 - 1 speed (m/s)', 'Helmet_4 - 2 speed (m/s)', 'Helmet_4 - 3 speed (m/s)', 'Helmet_4 - 4 speed (m/s)', 'Helmet_4 - 5 speed (m/s)'] created successfully!\n",
      "2023-05-17 18:12:44.147 INFO    magni_dash.data_preprocessing.spatio_temporal_features: ['Helmet_5 - 1 speed (m/s)', 'Helmet_5 - 2 speed (m/s)', 'Helmet_5 - 3 speed (m/s)', 'Helmet_5 - 4 speed (m/s)', 'Helmet_5 - 5 speed (m/s)'] created successfully!\n",
      "2023-05-17 18:12:44.174 INFO    magni_dash.data_preprocessing.spatio_temporal_features: ['Helmet_1 - 1 speed (m/s)', 'Helmet_1 - 2 speed (m/s)', 'Helmet_1 - 3 speed (m/s)'] created successfully!\n",
      "2023-05-17 18:12:44.214 INFO    magni_dash.data_preprocessing.spatio_temporal_features: ['Helmet_7 - 1 speed (m/s)', 'Helmet_7 - 2 speed (m/s)', 'Helmet_7 - 3 speed (m/s)', 'Helmet_7 - 4 speed (m/s)', 'Helmet_7 - 5 speed (m/s)'] created successfully!\n",
      "2023-05-17 18:12:44.247 INFO    magni_dash.data_preprocessing.spatio_temporal_features: ['Helmet_10 - 1 speed (m/s)', 'Helmet_10 - 2 speed (m/s)', 'Helmet_10 - 3 speed (m/s)', 'Helmet_10 - 4 speed (m/s)'] created successfully!\n",
      "2023-05-17 18:12:44.301 INFO    magni_dash.data_preprocessing.spatio_temporal_features: ['LO1 - 1 speed (m/s)', 'LO1 - 2 speed (m/s)', 'LO1 - 3 speed (m/s)', 'LO1 - 4 speed (m/s)', 'LO1 - 5 speed (m/s)', 'LO1 - 6 speed (m/s)', 'LO1 - 7 speed (m/s)', 'LO1 - 8 speed (m/s)'] created successfully!\n",
      "2023-05-17 18:12:44.341 INFO    magni_dash.data_preprocessing.spatio_temporal_features: ['Helmet_2 - 1 speed (m/s)', 'Helmet_2 - 2 speed (m/s)', 'Helmet_2 - 3 speed (m/s)', 'Helmet_2 - 4 speed (m/s)'] created successfully!\n",
      "2023-05-17 18:12:44.385 INFO    magni_dash.data_preprocessing.spatio_temporal_features: ['DARKO - 1 speed (m/s)', 'DARKO - 2 speed (m/s)', 'DARKO - 3 speed (m/s)', 'DARKO - 4 speed (m/s)', 'DARKO - 5 speed (m/s)', 'DARKO - 6 speed (m/s)', 'DARKO - 7 speed (m/s)'] created successfully!\n"
     ]
    }
   ],
   "source": [
    "features_df = extract_features(\n",
    "        preprocessed_trajectories[[\"Time\"] + moving_agents_cols.tolist()].copy(),\n",
    "        magents_labels=list(moving_agents_labels),\n",
    "        darko_label=\"DARKO\",\n",
    "    )"
   ]
  },
  {
   "cell_type": "code",
   "execution_count": 20,
   "metadata": {},
   "outputs": [
    {
     "data": {
      "text/plain": [
       "(23860, 240)"
      ]
     },
     "execution_count": 20,
     "metadata": {},
     "output_type": "execute_result"
    }
   ],
   "source": [
    "features_df.shape"
   ]
  },
  {
   "cell_type": "code",
   "execution_count": 21,
   "metadata": {},
   "outputs": [],
   "source": [
    "features_cat = preprocessed_trajectories.join(features_df)"
   ]
  },
  {
   "cell_type": "code",
   "execution_count": 22,
   "metadata": {},
   "outputs": [
    {
     "name": "stderr",
     "output_type": "stream",
     "text": [
      "/tmp/ipykernel_56774/2502953472.py:2: UserWarning: This pattern is interpreted as a regular expression, and has match groups. To actually get the groups, use str.extract.\n",
      "  features_cat.columns[features_cat.columns.str.contains(r\"R(\\d)\")]\n"
     ]
    },
    {
     "data": {
      "text/plain": [
       "['DARKO R0',\n",
       " 'DARKO R1',\n",
       " 'DARKO R2',\n",
       " 'DARKO R3',\n",
       " 'DARKO R4',\n",
       " 'DARKO R5',\n",
       " 'DARKO R6',\n",
       " 'DARKO R7',\n",
       " 'DARKO R8',\n",
       " 'Helmet_1 R0',\n",
       " 'Helmet_1 R1',\n",
       " 'Helmet_1 R2',\n",
       " 'Helmet_1 R3',\n",
       " 'Helmet_1 R4',\n",
       " 'Helmet_1 R5',\n",
       " 'Helmet_1 R6',\n",
       " 'Helmet_1 R7',\n",
       " 'Helmet_1 R8',\n",
       " 'Helmet_10 R0',\n",
       " 'Helmet_10 R1',\n",
       " 'Helmet_10 R2',\n",
       " 'Helmet_10 R3',\n",
       " 'Helmet_10 R4',\n",
       " 'Helmet_10 R5',\n",
       " 'Helmet_10 R6',\n",
       " 'Helmet_10 R7',\n",
       " 'Helmet_10 R8',\n",
       " 'Helmet_2 R0',\n",
       " 'Helmet_2 R1',\n",
       " 'Helmet_2 R2',\n",
       " 'Helmet_2 R3',\n",
       " 'Helmet_2 R4',\n",
       " 'Helmet_2 R5',\n",
       " 'Helmet_2 R6',\n",
       " 'Helmet_2 R7',\n",
       " 'Helmet_2 R8',\n",
       " 'Helmet_3 R0',\n",
       " 'Helmet_3 R1',\n",
       " 'Helmet_3 R2',\n",
       " 'Helmet_3 R3',\n",
       " 'Helmet_3 R4',\n",
       " 'Helmet_3 R5',\n",
       " 'Helmet_3 R6',\n",
       " 'Helmet_3 R7',\n",
       " 'Helmet_3 R8',\n",
       " 'Helmet_4 R0',\n",
       " 'Helmet_4 R1',\n",
       " 'Helmet_4 R2',\n",
       " 'Helmet_4 R3',\n",
       " 'Helmet_4 R4',\n",
       " 'Helmet_4 R5',\n",
       " 'Helmet_4 R6',\n",
       " 'Helmet_4 R7',\n",
       " 'Helmet_4 R8',\n",
       " 'Helmet_5 R0',\n",
       " 'Helmet_5 R1',\n",
       " 'Helmet_5 R2',\n",
       " 'Helmet_5 R3',\n",
       " 'Helmet_5 R4',\n",
       " 'Helmet_5 R5',\n",
       " 'Helmet_5 R6',\n",
       " 'Helmet_5 R7',\n",
       " 'Helmet_5 R8',\n",
       " 'Helmet_6 R0',\n",
       " 'Helmet_6 R1',\n",
       " 'Helmet_6 R2',\n",
       " 'Helmet_6 R3',\n",
       " 'Helmet_6 R4',\n",
       " 'Helmet_6 R5',\n",
       " 'Helmet_6 R6',\n",
       " 'Helmet_6 R7',\n",
       " 'Helmet_6 R8',\n",
       " 'Helmet_7 R0',\n",
       " 'Helmet_7 R1',\n",
       " 'Helmet_7 R2',\n",
       " 'Helmet_7 R3',\n",
       " 'Helmet_7 R4',\n",
       " 'Helmet_7 R5',\n",
       " 'Helmet_7 R6',\n",
       " 'Helmet_7 R7',\n",
       " 'Helmet_7 R8',\n",
       " 'Helmet_8 R0',\n",
       " 'Helmet_8 R1',\n",
       " 'Helmet_8 R2',\n",
       " 'Helmet_8 R3',\n",
       " 'Helmet_8 R4',\n",
       " 'Helmet_8 R5',\n",
       " 'Helmet_8 R6',\n",
       " 'Helmet_8 R7',\n",
       " 'Helmet_8 R8',\n",
       " 'Helmet_9 R0',\n",
       " 'Helmet_9 R1',\n",
       " 'Helmet_9 R2',\n",
       " 'Helmet_9 R3',\n",
       " 'Helmet_9 R4',\n",
       " 'Helmet_9 R5',\n",
       " 'Helmet_9 R6',\n",
       " 'Helmet_9 R7',\n",
       " 'Helmet_9 R8',\n",
       " 'LO1 R0',\n",
       " 'LO1 R1',\n",
       " 'LO1 R2',\n",
       " 'LO1 R3',\n",
       " 'LO1 R4',\n",
       " 'LO1 R5',\n",
       " 'LO1 R6',\n",
       " 'LO1 R7',\n",
       " 'LO1 R8']"
      ]
     },
     "execution_count": 22,
     "metadata": {},
     "output_type": "execute_result"
    }
   ],
   "source": [
    "rotations_cols = features_cat[\n",
    "    features_cat.columns[features_cat.columns.str.contains(r\"R(\\d)\")]\n",
    "].columns.tolist()\n",
    "rotations_cols"
   ]
  },
  {
   "cell_type": "code",
   "execution_count": 23,
   "metadata": {},
   "outputs": [],
   "source": [
    "features_filtered = features_cat[\n",
    "    [\"Frame\"] + \n",
    "    features_cat.columns[\n",
    "        (features_cat.columns.str.endswith(\"X\"))\n",
    "        | (features_cat.columns.str.endswith(\"Y\"))\n",
    "        | (features_cat.columns.str.endswith(\"Z\"))\n",
    "        | (features_cat.columns.str.endswith(\"speed (m/s)\"))\n",
    "    ].tolist()\n",
    "    + rotations_cols\n",
    "]"
   ]
  },
  {
   "cell_type": "code",
   "execution_count": 24,
   "metadata": {},
   "outputs": [
    {
     "data": {
      "text/html": [
       "<div>\n",
       "<style scoped>\n",
       "    .dataframe tbody tr th:only-of-type {\n",
       "        vertical-align: middle;\n",
       "    }\n",
       "\n",
       "    .dataframe tbody tr th {\n",
       "        vertical-align: top;\n",
       "    }\n",
       "\n",
       "    .dataframe thead th {\n",
       "        text-align: right;\n",
       "    }\n",
       "</style>\n",
       "<table border=\"1\" class=\"dataframe\">\n",
       "  <thead>\n",
       "    <tr style=\"text-align: right;\">\n",
       "      <th></th>\n",
       "      <th>Frame</th>\n",
       "      <th>DARKO - 1 X</th>\n",
       "      <th>DARKO - 1 Y</th>\n",
       "      <th>DARKO - 1 Z</th>\n",
       "      <th>DARKO - 2 X</th>\n",
       "      <th>DARKO - 2 Y</th>\n",
       "      <th>DARKO - 2 Z</th>\n",
       "      <th>DARKO - 3 X</th>\n",
       "      <th>DARKO - 3 Y</th>\n",
       "      <th>DARKO - 3 Z</th>\n",
       "      <th>...</th>\n",
       "      <th>Helmet_9 R8</th>\n",
       "      <th>LO1 R0</th>\n",
       "      <th>LO1 R1</th>\n",
       "      <th>LO1 R2</th>\n",
       "      <th>LO1 R3</th>\n",
       "      <th>LO1 R4</th>\n",
       "      <th>LO1 R5</th>\n",
       "      <th>LO1 R6</th>\n",
       "      <th>LO1 R7</th>\n",
       "      <th>LO1 R8</th>\n",
       "    </tr>\n",
       "  </thead>\n",
       "  <tbody>\n",
       "    <tr>\n",
       "      <th>0</th>\n",
       "      <td>2</td>\n",
       "      <td>0.605676</td>\n",
       "      <td>1.332539</td>\n",
       "      <td>0.706138</td>\n",
       "      <td>0.558682</td>\n",
       "      <td>1.385699</td>\n",
       "      <td>0.327466</td>\n",
       "      <td>0.936693</td>\n",
       "      <td>0.562054</td>\n",
       "      <td>0.872280</td>\n",
       "      <td>...</td>\n",
       "      <td>NaN</td>\n",
       "      <td>-0.97705</td>\n",
       "      <td>-0.21289</td>\n",
       "      <td>-0.00744</td>\n",
       "      <td>0.21291</td>\n",
       "      <td>-0.97707</td>\n",
       "      <td>-0.00232</td>\n",
       "      <td>-0.00678</td>\n",
       "      <td>-0.00385</td>\n",
       "      <td>0.99997</td>\n",
       "    </tr>\n",
       "    <tr>\n",
       "      <th>1</th>\n",
       "      <td>3</td>\n",
       "      <td>0.605687</td>\n",
       "      <td>1.332543</td>\n",
       "      <td>0.706131</td>\n",
       "      <td>0.558644</td>\n",
       "      <td>1.385710</td>\n",
       "      <td>0.327417</td>\n",
       "      <td>0.936682</td>\n",
       "      <td>0.562035</td>\n",
       "      <td>0.872295</td>\n",
       "      <td>...</td>\n",
       "      <td>NaN</td>\n",
       "      <td>-0.97706</td>\n",
       "      <td>-0.21284</td>\n",
       "      <td>-0.00744</td>\n",
       "      <td>0.21287</td>\n",
       "      <td>-0.97708</td>\n",
       "      <td>-0.00230</td>\n",
       "      <td>-0.00678</td>\n",
       "      <td>-0.00383</td>\n",
       "      <td>0.99997</td>\n",
       "    </tr>\n",
       "    <tr>\n",
       "      <th>2</th>\n",
       "      <td>4</td>\n",
       "      <td>0.605665</td>\n",
       "      <td>1.332552</td>\n",
       "      <td>0.706107</td>\n",
       "      <td>0.558640</td>\n",
       "      <td>1.385708</td>\n",
       "      <td>0.327445</td>\n",
       "      <td>0.936886</td>\n",
       "      <td>0.562302</td>\n",
       "      <td>0.872263</td>\n",
       "      <td>...</td>\n",
       "      <td>NaN</td>\n",
       "      <td>-0.97717</td>\n",
       "      <td>-0.21234</td>\n",
       "      <td>-0.00758</td>\n",
       "      <td>0.21237</td>\n",
       "      <td>-0.97718</td>\n",
       "      <td>-0.00363</td>\n",
       "      <td>-0.00664</td>\n",
       "      <td>-0.00516</td>\n",
       "      <td>0.99996</td>\n",
       "    </tr>\n",
       "    <tr>\n",
       "      <th>3</th>\n",
       "      <td>5</td>\n",
       "      <td>0.605666</td>\n",
       "      <td>1.332562</td>\n",
       "      <td>0.706188</td>\n",
       "      <td>0.558642</td>\n",
       "      <td>1.385727</td>\n",
       "      <td>0.327422</td>\n",
       "      <td>0.936890</td>\n",
       "      <td>0.562322</td>\n",
       "      <td>0.872305</td>\n",
       "      <td>...</td>\n",
       "      <td>NaN</td>\n",
       "      <td>-0.97722</td>\n",
       "      <td>-0.21209</td>\n",
       "      <td>-0.00754</td>\n",
       "      <td>0.21212</td>\n",
       "      <td>-0.97724</td>\n",
       "      <td>-0.00352</td>\n",
       "      <td>-0.00662</td>\n",
       "      <td>-0.00504</td>\n",
       "      <td>0.99997</td>\n",
       "    </tr>\n",
       "    <tr>\n",
       "      <th>4</th>\n",
       "      <td>6</td>\n",
       "      <td>0.605715</td>\n",
       "      <td>1.332553</td>\n",
       "      <td>0.706072</td>\n",
       "      <td>0.558776</td>\n",
       "      <td>1.385782</td>\n",
       "      <td>0.327485</td>\n",
       "      <td>0.936896</td>\n",
       "      <td>0.562237</td>\n",
       "      <td>0.872256</td>\n",
       "      <td>...</td>\n",
       "      <td>NaN</td>\n",
       "      <td>-0.97665</td>\n",
       "      <td>-0.21470</td>\n",
       "      <td>-0.00759</td>\n",
       "      <td>0.21474</td>\n",
       "      <td>-0.97666</td>\n",
       "      <td>-0.00401</td>\n",
       "      <td>-0.00655</td>\n",
       "      <td>-0.00554</td>\n",
       "      <td>0.99996</td>\n",
       "    </tr>\n",
       "    <tr>\n",
       "      <th>...</th>\n",
       "      <td>...</td>\n",
       "      <td>...</td>\n",
       "      <td>...</td>\n",
       "      <td>...</td>\n",
       "      <td>...</td>\n",
       "      <td>...</td>\n",
       "      <td>...</td>\n",
       "      <td>...</td>\n",
       "      <td>...</td>\n",
       "      <td>...</td>\n",
       "      <td>...</td>\n",
       "      <td>...</td>\n",
       "      <td>...</td>\n",
       "      <td>...</td>\n",
       "      <td>...</td>\n",
       "      <td>...</td>\n",
       "      <td>...</td>\n",
       "      <td>...</td>\n",
       "      <td>...</td>\n",
       "      <td>...</td>\n",
       "      <td>...</td>\n",
       "    </tr>\n",
       "    <tr>\n",
       "      <th>23855</th>\n",
       "      <td>23857</td>\n",
       "      <td>-2.889115</td>\n",
       "      <td>-0.953349</td>\n",
       "      <td>0.696977</td>\n",
       "      <td>-2.835115</td>\n",
       "      <td>-0.906757</td>\n",
       "      <td>0.318487</td>\n",
       "      <td>-3.673524</td>\n",
       "      <td>-1.244002</td>\n",
       "      <td>0.863350</td>\n",
       "      <td>...</td>\n",
       "      <td>NaN</td>\n",
       "      <td>0.82410</td>\n",
       "      <td>0.56639</td>\n",
       "      <td>-0.00801</td>\n",
       "      <td>-0.56620</td>\n",
       "      <td>0.82408</td>\n",
       "      <td>0.01795</td>\n",
       "      <td>0.01677</td>\n",
       "      <td>-0.01026</td>\n",
       "      <td>0.99981</td>\n",
       "    </tr>\n",
       "    <tr>\n",
       "      <th>23856</th>\n",
       "      <td>23858</td>\n",
       "      <td>-2.886110</td>\n",
       "      <td>-0.954743</td>\n",
       "      <td>0.697099</td>\n",
       "      <td>-2.832301</td>\n",
       "      <td>-0.907913</td>\n",
       "      <td>0.318623</td>\n",
       "      <td>-3.670702</td>\n",
       "      <td>-1.245279</td>\n",
       "      <td>0.863376</td>\n",
       "      <td>...</td>\n",
       "      <td>NaN</td>\n",
       "      <td>0.82267</td>\n",
       "      <td>0.56848</td>\n",
       "      <td>-0.00712</td>\n",
       "      <td>-0.56831</td>\n",
       "      <td>0.82263</td>\n",
       "      <td>0.01748</td>\n",
       "      <td>0.01579</td>\n",
       "      <td>-0.01033</td>\n",
       "      <td>0.99982</td>\n",
       "    </tr>\n",
       "    <tr>\n",
       "      <th>23857</th>\n",
       "      <td>23859</td>\n",
       "      <td>-2.883548</td>\n",
       "      <td>-0.955789</td>\n",
       "      <td>0.697165</td>\n",
       "      <td>-2.829460</td>\n",
       "      <td>-0.909049</td>\n",
       "      <td>0.318672</td>\n",
       "      <td>-3.667847</td>\n",
       "      <td>-1.246681</td>\n",
       "      <td>0.863292</td>\n",
       "      <td>...</td>\n",
       "      <td>NaN</td>\n",
       "      <td>0.82070</td>\n",
       "      <td>0.57132</td>\n",
       "      <td>-0.00737</td>\n",
       "      <td>-0.57114</td>\n",
       "      <td>0.82067</td>\n",
       "      <td>0.01730</td>\n",
       "      <td>0.01593</td>\n",
       "      <td>-0.00999</td>\n",
       "      <td>0.99982</td>\n",
       "    </tr>\n",
       "    <tr>\n",
       "      <th>23858</th>\n",
       "      <td>23860</td>\n",
       "      <td>-2.880569</td>\n",
       "      <td>-0.957267</td>\n",
       "      <td>0.697274</td>\n",
       "      <td>-2.826575</td>\n",
       "      <td>-0.910380</td>\n",
       "      <td>0.318751</td>\n",
       "      <td>-3.668868</td>\n",
       "      <td>-1.248168</td>\n",
       "      <td>0.861944</td>\n",
       "      <td>...</td>\n",
       "      <td>NaN</td>\n",
       "      <td>0.81987</td>\n",
       "      <td>0.57250</td>\n",
       "      <td>-0.00687</td>\n",
       "      <td>-0.57236</td>\n",
       "      <td>0.81985</td>\n",
       "      <td>0.01584</td>\n",
       "      <td>0.01470</td>\n",
       "      <td>-0.00905</td>\n",
       "      <td>0.99985</td>\n",
       "    </tr>\n",
       "    <tr>\n",
       "      <th>23859</th>\n",
       "      <td>23861</td>\n",
       "      <td>-2.878175</td>\n",
       "      <td>-0.958367</td>\n",
       "      <td>0.697419</td>\n",
       "      <td>-2.823885</td>\n",
       "      <td>-0.911579</td>\n",
       "      <td>0.318989</td>\n",
       "      <td>-3.662646</td>\n",
       "      <td>-1.249338</td>\n",
       "      <td>0.863139</td>\n",
       "      <td>...</td>\n",
       "      <td>NaN</td>\n",
       "      <td>0.81945</td>\n",
       "      <td>0.57309</td>\n",
       "      <td>-0.00776</td>\n",
       "      <td>-0.57288</td>\n",
       "      <td>0.81941</td>\n",
       "      <td>0.01967</td>\n",
       "      <td>0.01763</td>\n",
       "      <td>-0.01167</td>\n",
       "      <td>0.99978</td>\n",
       "    </tr>\n",
       "  </tbody>\n",
       "</table>\n",
       "<p>23860 rows × 359 columns</p>\n",
       "</div>"
      ],
      "text/plain": [
       "       Frame  DARKO - 1 X  DARKO - 1 Y  DARKO - 1 Z  DARKO - 2 X  DARKO - 2 Y  \\\n",
       "0          2     0.605676     1.332539     0.706138     0.558682     1.385699   \n",
       "1          3     0.605687     1.332543     0.706131     0.558644     1.385710   \n",
       "2          4     0.605665     1.332552     0.706107     0.558640     1.385708   \n",
       "3          5     0.605666     1.332562     0.706188     0.558642     1.385727   \n",
       "4          6     0.605715     1.332553     0.706072     0.558776     1.385782   \n",
       "...      ...          ...          ...          ...          ...          ...   \n",
       "23855  23857    -2.889115    -0.953349     0.696977    -2.835115    -0.906757   \n",
       "23856  23858    -2.886110    -0.954743     0.697099    -2.832301    -0.907913   \n",
       "23857  23859    -2.883548    -0.955789     0.697165    -2.829460    -0.909049   \n",
       "23858  23860    -2.880569    -0.957267     0.697274    -2.826575    -0.910380   \n",
       "23859  23861    -2.878175    -0.958367     0.697419    -2.823885    -0.911579   \n",
       "\n",
       "       DARKO - 2 Z  DARKO - 3 X  DARKO - 3 Y  DARKO - 3 Z  ...  Helmet_9 R8  \\\n",
       "0         0.327466     0.936693     0.562054     0.872280  ...          NaN   \n",
       "1         0.327417     0.936682     0.562035     0.872295  ...          NaN   \n",
       "2         0.327445     0.936886     0.562302     0.872263  ...          NaN   \n",
       "3         0.327422     0.936890     0.562322     0.872305  ...          NaN   \n",
       "4         0.327485     0.936896     0.562237     0.872256  ...          NaN   \n",
       "...            ...          ...          ...          ...  ...          ...   \n",
       "23855     0.318487    -3.673524    -1.244002     0.863350  ...          NaN   \n",
       "23856     0.318623    -3.670702    -1.245279     0.863376  ...          NaN   \n",
       "23857     0.318672    -3.667847    -1.246681     0.863292  ...          NaN   \n",
       "23858     0.318751    -3.668868    -1.248168     0.861944  ...          NaN   \n",
       "23859     0.318989    -3.662646    -1.249338     0.863139  ...          NaN   \n",
       "\n",
       "        LO1 R0   LO1 R1   LO1 R2   LO1 R3   LO1 R4   LO1 R5   LO1 R6   LO1 R7  \\\n",
       "0     -0.97705 -0.21289 -0.00744  0.21291 -0.97707 -0.00232 -0.00678 -0.00385   \n",
       "1     -0.97706 -0.21284 -0.00744  0.21287 -0.97708 -0.00230 -0.00678 -0.00383   \n",
       "2     -0.97717 -0.21234 -0.00758  0.21237 -0.97718 -0.00363 -0.00664 -0.00516   \n",
       "3     -0.97722 -0.21209 -0.00754  0.21212 -0.97724 -0.00352 -0.00662 -0.00504   \n",
       "4     -0.97665 -0.21470 -0.00759  0.21474 -0.97666 -0.00401 -0.00655 -0.00554   \n",
       "...        ...      ...      ...      ...      ...      ...      ...      ...   \n",
       "23855  0.82410  0.56639 -0.00801 -0.56620  0.82408  0.01795  0.01677 -0.01026   \n",
       "23856  0.82267  0.56848 -0.00712 -0.56831  0.82263  0.01748  0.01579 -0.01033   \n",
       "23857  0.82070  0.57132 -0.00737 -0.57114  0.82067  0.01730  0.01593 -0.00999   \n",
       "23858  0.81987  0.57250 -0.00687 -0.57236  0.81985  0.01584  0.01470 -0.00905   \n",
       "23859  0.81945  0.57309 -0.00776 -0.57288  0.81941  0.01967  0.01763 -0.01167   \n",
       "\n",
       "        LO1 R8  \n",
       "0      0.99997  \n",
       "1      0.99997  \n",
       "2      0.99996  \n",
       "3      0.99997  \n",
       "4      0.99996  \n",
       "...        ...  \n",
       "23855  0.99981  \n",
       "23856  0.99982  \n",
       "23857  0.99982  \n",
       "23858  0.99985  \n",
       "23859  0.99978  \n",
       "\n",
       "[23860 rows x 359 columns]"
      ]
     },
     "execution_count": 24,
     "metadata": {},
     "output_type": "execute_result"
    }
   ],
   "source": [
    "features_filtered"
   ]
  },
  {
   "attachments": {},
   "cell_type": "markdown",
   "metadata": {},
   "source": [
    "# Visualization"
   ]
  },
  {
   "cell_type": "code",
   "execution_count": 25,
   "metadata": {},
   "outputs": [],
   "source": [
    "import plotly.express as px\n",
    "import plotly.graph_objects as go"
   ]
  },
  {
   "cell_type": "code",
   "execution_count": 26,
   "metadata": {},
   "outputs": [
    {
     "data": {
      "text/plain": [
       "Index(['Helmet_10 TB2_G3D_X', 'Helmet_10 TB2_G3D_Y', 'Helmet_10 TB2_G3D_Z',\n",
       "       'Helmet_5 TB3_G3D_X', 'Helmet_5 TB3_G3D_Y', 'Helmet_5 TB3_G3D_Z'],\n",
       "      dtype='object')"
      ]
     },
     "execution_count": 26,
     "metadata": {},
     "output_type": "execute_result"
    }
   ],
   "source": [
    "features_filtered.columns[features_filtered.columns.str.contains(\"G3D\")]"
   ]
  },
  {
   "cell_type": "code",
   "execution_count": 27,
   "metadata": {},
   "outputs": [],
   "source": [
    "HELMET_TO_VISUALIZE = \"Helmet_10\""
   ]
  },
  {
   "cell_type": "code",
   "execution_count": 28,
   "metadata": {},
   "outputs": [
    {
     "data": {
      "text/plain": [
       "(5315, 3)"
      ]
     },
     "execution_count": 28,
     "metadata": {},
     "output_type": "execute_result"
    }
   ],
   "source": [
    "gaze_data = features_filtered[\n",
    "    [\n",
    "        f\"{HELMET_TO_VISUALIZE} TB2_G3D_X\",\n",
    "        f\"{HELMET_TO_VISUALIZE} TB2_G3D_Y\",\n",
    "        f\"{HELMET_TO_VISUALIZE} TB2_G3D_Z\",\n",
    "    ]\n",
    "].dropna()\n",
    "gaze_data.shape"
   ]
  },
  {
   "cell_type": "code",
   "execution_count": 29,
   "metadata": {},
   "outputs": [
    {
     "data": {
      "text/plain": [
       "(14147, 3)"
      ]
     },
     "execution_count": 29,
     "metadata": {},
     "output_type": "execute_result"
    }
   ],
   "source": [
    "centroids_data = features_filtered[features_filtered.columns[features_filtered.columns.str.contains(f\"{HELMET_TO_VISUALIZE} Centroid\")]].dropna()\n",
    "centroids_data.shape"
   ]
  },
  {
   "cell_type": "code",
   "execution_count": 30,
   "metadata": {},
   "outputs": [
    {
     "data": {
      "text/html": [
       "<div>\n",
       "<style scoped>\n",
       "    .dataframe tbody tr th:only-of-type {\n",
       "        vertical-align: middle;\n",
       "    }\n",
       "\n",
       "    .dataframe tbody tr th {\n",
       "        vertical-align: top;\n",
       "    }\n",
       "\n",
       "    .dataframe thead th {\n",
       "        text-align: right;\n",
       "    }\n",
       "</style>\n",
       "<table border=\"1\" class=\"dataframe\">\n",
       "  <thead>\n",
       "    <tr style=\"text-align: right;\">\n",
       "      <th></th>\n",
       "      <th>Helmet_10 Centroid_X</th>\n",
       "      <th>Helmet_10 Centroid_Y</th>\n",
       "      <th>Helmet_10 Centroid_Z</th>\n",
       "    </tr>\n",
       "  </thead>\n",
       "  <tbody>\n",
       "    <tr>\n",
       "      <th>0</th>\n",
       "      <td>-2040.32922</td>\n",
       "      <td>-3194.35476</td>\n",
       "      <td>1880.25538</td>\n",
       "    </tr>\n",
       "    <tr>\n",
       "      <th>1</th>\n",
       "      <td>-2039.69035</td>\n",
       "      <td>-3198.14628</td>\n",
       "      <td>1880.25543</td>\n",
       "    </tr>\n",
       "    <tr>\n",
       "      <th>2</th>\n",
       "      <td>-2038.53058</td>\n",
       "      <td>-3201.69669</td>\n",
       "      <td>1880.35356</td>\n",
       "    </tr>\n",
       "    <tr>\n",
       "      <th>3</th>\n",
       "      <td>-2038.00564</td>\n",
       "      <td>-3205.22691</td>\n",
       "      <td>1880.53473</td>\n",
       "    </tr>\n",
       "    <tr>\n",
       "      <th>4</th>\n",
       "      <td>-2037.44637</td>\n",
       "      <td>-3208.50056</td>\n",
       "      <td>1879.75504</td>\n",
       "    </tr>\n",
       "    <tr>\n",
       "      <th>...</th>\n",
       "      <td>...</td>\n",
       "      <td>...</td>\n",
       "      <td>...</td>\n",
       "    </tr>\n",
       "    <tr>\n",
       "      <th>23855</th>\n",
       "      <td>-2225.49303</td>\n",
       "      <td>1354.72159</td>\n",
       "      <td>1864.04202</td>\n",
       "    </tr>\n",
       "    <tr>\n",
       "      <th>23856</th>\n",
       "      <td>-2238.54777</td>\n",
       "      <td>1350.35759</td>\n",
       "      <td>1861.69070</td>\n",
       "    </tr>\n",
       "    <tr>\n",
       "      <th>23857</th>\n",
       "      <td>-2251.54340</td>\n",
       "      <td>1345.99603</td>\n",
       "      <td>1859.54974</td>\n",
       "    </tr>\n",
       "    <tr>\n",
       "      <th>23858</th>\n",
       "      <td>-2264.51253</td>\n",
       "      <td>1341.62703</td>\n",
       "      <td>1857.52351</td>\n",
       "    </tr>\n",
       "    <tr>\n",
       "      <th>23859</th>\n",
       "      <td>-2277.36709</td>\n",
       "      <td>1337.12368</td>\n",
       "      <td>1855.69449</td>\n",
       "    </tr>\n",
       "  </tbody>\n",
       "</table>\n",
       "<p>14147 rows × 3 columns</p>\n",
       "</div>"
      ],
      "text/plain": [
       "       Helmet_10 Centroid_X  Helmet_10 Centroid_Y  Helmet_10 Centroid_Z\n",
       "0               -2040.32922           -3194.35476            1880.25538\n",
       "1               -2039.69035           -3198.14628            1880.25543\n",
       "2               -2038.53058           -3201.69669            1880.35356\n",
       "3               -2038.00564           -3205.22691            1880.53473\n",
       "4               -2037.44637           -3208.50056            1879.75504\n",
       "...                     ...                   ...                   ...\n",
       "23855           -2225.49303            1354.72159            1864.04202\n",
       "23856           -2238.54777            1350.35759            1861.69070\n",
       "23857           -2251.54340            1345.99603            1859.54974\n",
       "23858           -2264.51253            1341.62703            1857.52351\n",
       "23859           -2277.36709            1337.12368            1855.69449\n",
       "\n",
       "[14147 rows x 3 columns]"
      ]
     },
     "execution_count": 30,
     "metadata": {},
     "output_type": "execute_result"
    }
   ],
   "source": [
    "centroids_data"
   ]
  },
  {
   "cell_type": "code",
   "execution_count": 34,
   "metadata": {},
   "outputs": [],
   "source": [
    "lo_info = GroupsInfo(\n",
    "    element_id=\"LO1\", markers_pattern_re=r\"LO1 - (\\d).*\", label_sep=\" - \"\n",
    ")\n",
    "darko_info = GroupsInfo(\n",
    "    element_id=\"DARKO\", markers_pattern_re=r\"DARKO - (\\d).*\", label_sep=\" - \"\n",
    ")\n",
    "helmets_info = GroupsInfo(\n",
    "    element_id=\"Helmet\", markers_pattern_re=r\"Helmet_(\\d+ - \\d).*\", label_sep=\"_\"\n",
    ")\n",
    "tobii_info = GroupsInfo(\n",
    "    element_id=\"Helmet\", markers_pattern_re=r\"Helmet_(\\d+ TB\\d)_G3D.*\", label_sep=\"_\"\n",
    ")\n",
    "centroids_info = GroupsInfo(\n",
    "        element_id=\"Helmet\",\n",
    "        markers_pattern_re=r\"Helmet_(\\d+) Centroid_.*\",\n",
    "        label_sep=\"_\",\n",
    "    )\n",
    "rotations_info = GroupsInfo(\n",
    "        element_id=\"Helmet\",\n",
    "        markers_pattern_re=r\"Helmet_(\\d+) R.*\",\n",
    "        label_sep=\"_\",\n",
    "    )\n"
   ]
  },
  {
   "cell_type": "code",
   "execution_count": 35,
   "metadata": {},
   "outputs": [],
   "source": [
    "def transform_df2plotly(\n",
    "    input_df: pd.DataFrame, groups_info\n",
    ") -> pd.DataFrame:\n",
    "    \"\"\"Transform a dataframe into the plotly best suited format\n",
    "    |   Frame    |   X (m)  |   Y (m)  |   eid   |   mid   |\n",
    "\n",
    "    being `eid` the element identifier (e.g. Helmet, DARKO, etc), and `mid` the marker identifier\n",
    "\n",
    "    Parameters\n",
    "    ----------\n",
    "    input_df\n",
    "        input pandas DataFrame\n",
    "    element_id\n",
    "        see eid explanation above\n",
    "    markers_pattern_re\n",
    "        regex to groupby element id and markers\n",
    "    sep\n",
    "        separation used in col name form element id and marker id\n",
    "\n",
    "    Returns\n",
    "    -------\n",
    "        Transformed pandas DataFrame\n",
    "    \"\"\"\n",
    "    groups_info = [groups_info] if isinstance(groups_info, GroupsInfo) else groups_info\n",
    "    groups = []\n",
    "    for group_info in groups_info:\n",
    "        element_id = group_info.element_id\n",
    "        elements_grouped = input_df.groupby(\n",
    "            input_df.columns.str.extract(group_info.markers_pattern_re, expand=False),\n",
    "            axis=1,\n",
    "        )\n",
    "        for group_name, group in elements_grouped:\n",
    "            if element_id == \"Helmet\" and len(group_name.split(\"-\")) == 1:\n",
    "                tobii = len(group_name.split(\" \")) == 2\n",
    "                # eyt or centroids\n",
    "                _mapping_cols = (\n",
    "                    get_mapping_cols_tobii(\n",
    "                        element_id,\n",
    "                        group_name,\n",
    "                        group_info.label_sep,\n",
    "                    )\n",
    "                    if tobii\n",
    "                    else get_mapping_cols_centroids(\n",
    "                        element_id, group_name, group_info.label_sep\n",
    "                    )\n",
    "                )\n",
    "                group = group.rename(_mapping_cols, axis=1)\n",
    "                eid = element_id + \"_\" + group_name.split(\" \")[0]\n",
    "            else:\n",
    "                _mapping_cols = get_mapping_cols(\n",
    "                    element_id, group_name, group_info.label_sep\n",
    "                )\n",
    "                group = group.rename(_mapping_cols, axis=1)\n",
    "                eid = (\n",
    "                    element_id + \"_\" + group_name.split(\" - \")[0]\n",
    "                    if element_id == \"Helmet\"\n",
    "                    else element_id\n",
    "                )\n",
    "                mid = group_name.split(\" - \")[1] if element_id == \"Helmet\" else group_name\n",
    "                group[\"mid\"] = mid\n",
    "            group[\"eid\"] = eid\n",
    "            groups.append(group)\n",
    "    out_df = pd.concat(groups, axis=0)\n",
    "    return out_df"
   ]
  },
  {
   "cell_type": "code",
   "execution_count": 36,
   "metadata": {},
   "outputs": [],
   "source": [
    "transformed = transform_df2plotly(\n",
    "        input_df=features_filtered.copy(),\n",
    "        groups_info=[tobii_info],\n",
    "    )"
   ]
  },
  {
   "cell_type": "code",
   "execution_count": 37,
   "metadata": {},
   "outputs": [
    {
     "data": {
      "text/html": [
       "<div>\n",
       "<style scoped>\n",
       "    .dataframe tbody tr th:only-of-type {\n",
       "        vertical-align: middle;\n",
       "    }\n",
       "\n",
       "    .dataframe tbody tr th {\n",
       "        vertical-align: top;\n",
       "    }\n",
       "\n",
       "    .dataframe thead th {\n",
       "        text-align: right;\n",
       "    }\n",
       "</style>\n",
       "<table border=\"1\" class=\"dataframe\">\n",
       "  <thead>\n",
       "    <tr style=\"text-align: right;\">\n",
       "      <th></th>\n",
       "      <th>TB_G3D X (m)</th>\n",
       "      <th>TB_G3D Y (m)</th>\n",
       "      <th>TB_G3D Z (m)</th>\n",
       "      <th>eid</th>\n",
       "    </tr>\n",
       "  </thead>\n",
       "  <tbody>\n",
       "    <tr>\n",
       "      <th>0</th>\n",
       "      <td>NaN</td>\n",
       "      <td>NaN</td>\n",
       "      <td>NaN</td>\n",
       "      <td>Helmet_10</td>\n",
       "    </tr>\n",
       "    <tr>\n",
       "      <th>1</th>\n",
       "      <td>-136.2645</td>\n",
       "      <td>-135.0888</td>\n",
       "      <td>346.0942</td>\n",
       "      <td>Helmet_10</td>\n",
       "    </tr>\n",
       "    <tr>\n",
       "      <th>2</th>\n",
       "      <td>NaN</td>\n",
       "      <td>NaN</td>\n",
       "      <td>NaN</td>\n",
       "      <td>Helmet_10</td>\n",
       "    </tr>\n",
       "    <tr>\n",
       "      <th>3</th>\n",
       "      <td>-132.5629</td>\n",
       "      <td>-136.0257</td>\n",
       "      <td>347.4366</td>\n",
       "      <td>Helmet_10</td>\n",
       "    </tr>\n",
       "    <tr>\n",
       "      <th>4</th>\n",
       "      <td>NaN</td>\n",
       "      <td>NaN</td>\n",
       "      <td>NaN</td>\n",
       "      <td>Helmet_10</td>\n",
       "    </tr>\n",
       "    <tr>\n",
       "      <th>...</th>\n",
       "      <td>...</td>\n",
       "      <td>...</td>\n",
       "      <td>...</td>\n",
       "      <td>...</td>\n",
       "    </tr>\n",
       "    <tr>\n",
       "      <th>23855</th>\n",
       "      <td>NaN</td>\n",
       "      <td>NaN</td>\n",
       "      <td>NaN</td>\n",
       "      <td>Helmet_5</td>\n",
       "    </tr>\n",
       "    <tr>\n",
       "      <th>23856</th>\n",
       "      <td>-19.3590</td>\n",
       "      <td>-54.7595</td>\n",
       "      <td>709.2499</td>\n",
       "      <td>Helmet_5</td>\n",
       "    </tr>\n",
       "    <tr>\n",
       "      <th>23857</th>\n",
       "      <td>NaN</td>\n",
       "      <td>NaN</td>\n",
       "      <td>NaN</td>\n",
       "      <td>Helmet_5</td>\n",
       "    </tr>\n",
       "    <tr>\n",
       "      <th>23858</th>\n",
       "      <td>-18.6287</td>\n",
       "      <td>-98.5383</td>\n",
       "      <td>1250.0811</td>\n",
       "      <td>Helmet_5</td>\n",
       "    </tr>\n",
       "    <tr>\n",
       "      <th>23859</th>\n",
       "      <td>NaN</td>\n",
       "      <td>NaN</td>\n",
       "      <td>NaN</td>\n",
       "      <td>Helmet_5</td>\n",
       "    </tr>\n",
       "  </tbody>\n",
       "</table>\n",
       "<p>47720 rows × 4 columns</p>\n",
       "</div>"
      ],
      "text/plain": [
       "       TB_G3D X (m)  TB_G3D Y (m)  TB_G3D Z (m)        eid\n",
       "0               NaN           NaN           NaN  Helmet_10\n",
       "1         -136.2645     -135.0888      346.0942  Helmet_10\n",
       "2               NaN           NaN           NaN  Helmet_10\n",
       "3         -132.5629     -136.0257      347.4366  Helmet_10\n",
       "4               NaN           NaN           NaN  Helmet_10\n",
       "...             ...           ...           ...        ...\n",
       "23855           NaN           NaN           NaN   Helmet_5\n",
       "23856      -19.3590      -54.7595      709.2499   Helmet_5\n",
       "23857           NaN           NaN           NaN   Helmet_5\n",
       "23858      -18.6287      -98.5383     1250.0811   Helmet_5\n",
       "23859           NaN           NaN           NaN   Helmet_5\n",
       "\n",
       "[47720 rows x 4 columns]"
      ]
     },
     "execution_count": 37,
     "metadata": {},
     "output_type": "execute_result"
    }
   ],
   "source": [
    "transformed"
   ]
  },
  {
   "cell_type": "code",
   "execution_count": null,
   "metadata": {},
   "outputs": [],
   "source": []
  },
  {
   "cell_type": "code",
   "execution_count": null,
   "metadata": {},
   "outputs": [],
   "source": []
  },
  {
   "cell_type": "code",
   "execution_count": 39,
   "metadata": {},
   "outputs": [],
   "source": [
    "transformed_cent = transform_df2plotly(\n",
    "        input_df=features_filtered.copy(),\n",
    "        groups_info=[centroids_info],\n",
    "    )"
   ]
  },
  {
   "cell_type": "code",
   "execution_count": 48,
   "metadata": {},
   "outputs": [],
   "source": [
    "transformed_cent = transformed_cent.sort_index()"
   ]
  },
  {
   "cell_type": "code",
   "execution_count": 49,
   "metadata": {},
   "outputs": [
    {
     "data": {
      "text/html": [
       "<div>\n",
       "<style scoped>\n",
       "    .dataframe tbody tr th:only-of-type {\n",
       "        vertical-align: middle;\n",
       "    }\n",
       "\n",
       "    .dataframe tbody tr th {\n",
       "        vertical-align: top;\n",
       "    }\n",
       "\n",
       "    .dataframe thead th {\n",
       "        text-align: right;\n",
       "    }\n",
       "</style>\n",
       "<table border=\"1\" class=\"dataframe\">\n",
       "  <thead>\n",
       "    <tr style=\"text-align: right;\">\n",
       "      <th></th>\n",
       "      <th>Centroid X (m)</th>\n",
       "      <th>Centroid Y (m)</th>\n",
       "      <th>Centroid Z (m)</th>\n",
       "      <th>eid</th>\n",
       "    </tr>\n",
       "  </thead>\n",
       "  <tbody>\n",
       "    <tr>\n",
       "      <th>0</th>\n",
       "      <td>NaN</td>\n",
       "      <td>NaN</td>\n",
       "      <td>NaN</td>\n",
       "      <td>Helmet_1</td>\n",
       "    </tr>\n",
       "    <tr>\n",
       "      <th>0</th>\n",
       "      <td>301.18822</td>\n",
       "      <td>2969.91989</td>\n",
       "      <td>1786.75414</td>\n",
       "      <td>Helmet_2</td>\n",
       "    </tr>\n",
       "    <tr>\n",
       "      <th>0</th>\n",
       "      <td>NaN</td>\n",
       "      <td>NaN</td>\n",
       "      <td>NaN</td>\n",
       "      <td>Helmet_4</td>\n",
       "    </tr>\n",
       "    <tr>\n",
       "      <th>0</th>\n",
       "      <td>NaN</td>\n",
       "      <td>NaN</td>\n",
       "      <td>NaN</td>\n",
       "      <td>Helmet_5</td>\n",
       "    </tr>\n",
       "    <tr>\n",
       "      <th>0</th>\n",
       "      <td>NaN</td>\n",
       "      <td>NaN</td>\n",
       "      <td>NaN</td>\n",
       "      <td>Helmet_6</td>\n",
       "    </tr>\n",
       "    <tr>\n",
       "      <th>...</th>\n",
       "      <td>...</td>\n",
       "      <td>...</td>\n",
       "      <td>...</td>\n",
       "      <td>...</td>\n",
       "    </tr>\n",
       "    <tr>\n",
       "      <th>23926</th>\n",
       "      <td>NaN</td>\n",
       "      <td>NaN</td>\n",
       "      <td>NaN</td>\n",
       "      <td>Helmet_6</td>\n",
       "    </tr>\n",
       "    <tr>\n",
       "      <th>23926</th>\n",
       "      <td>NaN</td>\n",
       "      <td>NaN</td>\n",
       "      <td>NaN</td>\n",
       "      <td>Helmet_1</td>\n",
       "    </tr>\n",
       "    <tr>\n",
       "      <th>23926</th>\n",
       "      <td>NaN</td>\n",
       "      <td>NaN</td>\n",
       "      <td>NaN</td>\n",
       "      <td>Helmet_4</td>\n",
       "    </tr>\n",
       "    <tr>\n",
       "      <th>23926</th>\n",
       "      <td>8927.61106</td>\n",
       "      <td>-614.97743</td>\n",
       "      <td>1610.19733</td>\n",
       "      <td>Helmet_2</td>\n",
       "    </tr>\n",
       "    <tr>\n",
       "      <th>23926</th>\n",
       "      <td>NaN</td>\n",
       "      <td>NaN</td>\n",
       "      <td>NaN</td>\n",
       "      <td>Helmet_7</td>\n",
       "    </tr>\n",
       "  </tbody>\n",
       "</table>\n",
       "<p>167489 rows × 4 columns</p>\n",
       "</div>"
      ],
      "text/plain": [
       "       Centroid X (m)  Centroid Y (m)  Centroid Z (m)       eid\n",
       "0                 NaN             NaN             NaN  Helmet_1\n",
       "0           301.18822      2969.91989      1786.75414  Helmet_2\n",
       "0                 NaN             NaN             NaN  Helmet_4\n",
       "0                 NaN             NaN             NaN  Helmet_5\n",
       "0                 NaN             NaN             NaN  Helmet_6\n",
       "...               ...             ...             ...       ...\n",
       "23926             NaN             NaN             NaN  Helmet_6\n",
       "23926             NaN             NaN             NaN  Helmet_1\n",
       "23926             NaN             NaN             NaN  Helmet_4\n",
       "23926      8927.61106      -614.97743      1610.19733  Helmet_2\n",
       "23926             NaN             NaN             NaN  Helmet_7\n",
       "\n",
       "[167489 rows x 4 columns]"
      ]
     },
     "execution_count": 49,
     "metadata": {},
     "output_type": "execute_result"
    }
   ],
   "source": [
    "transformed_cent"
   ]
  },
  {
   "cell_type": "code",
   "execution_count": 50,
   "metadata": {},
   "outputs": [],
   "source": [
    "transformed_rotations = transform_df2plotly(\n",
    "        input_df=features_filtered.copy(),\n",
    "        groups_info=[rotations_info],\n",
    "    )"
   ]
  },
  {
   "cell_type": "code",
   "execution_count": 51,
   "metadata": {},
   "outputs": [],
   "source": [
    "transformed_rotations = transformed_rotations.sort_index()"
   ]
  },
  {
   "cell_type": "code",
   "execution_count": 52,
   "metadata": {},
   "outputs": [
    {
     "data": {
      "text/html": [
       "<div>\n",
       "<style scoped>\n",
       "    .dataframe tbody tr th:only-of-type {\n",
       "        vertical-align: middle;\n",
       "    }\n",
       "\n",
       "    .dataframe tbody tr th {\n",
       "        vertical-align: top;\n",
       "    }\n",
       "\n",
       "    .dataframe thead th {\n",
       "        text-align: right;\n",
       "    }\n",
       "</style>\n",
       "<table border=\"1\" class=\"dataframe\">\n",
       "  <thead>\n",
       "    <tr style=\"text-align: right;\">\n",
       "      <th></th>\n",
       "      <th>R0</th>\n",
       "      <th>R1</th>\n",
       "      <th>R2</th>\n",
       "      <th>R3</th>\n",
       "      <th>R4</th>\n",
       "      <th>R5</th>\n",
       "      <th>R6</th>\n",
       "      <th>R7</th>\n",
       "      <th>R8</th>\n",
       "      <th>eid</th>\n",
       "    </tr>\n",
       "  </thead>\n",
       "  <tbody>\n",
       "    <tr>\n",
       "      <th>0</th>\n",
       "      <td>NaN</td>\n",
       "      <td>NaN</td>\n",
       "      <td>NaN</td>\n",
       "      <td>NaN</td>\n",
       "      <td>NaN</td>\n",
       "      <td>NaN</td>\n",
       "      <td>NaN</td>\n",
       "      <td>NaN</td>\n",
       "      <td>NaN</td>\n",
       "      <td>Helmet_1</td>\n",
       "    </tr>\n",
       "    <tr>\n",
       "      <th>0</th>\n",
       "      <td>-0.85268</td>\n",
       "      <td>-0.51676</td>\n",
       "      <td>-0.07674</td>\n",
       "      <td>0.52227</td>\n",
       "      <td>-0.83966</td>\n",
       "      <td>-0.14902</td>\n",
       "      <td>0.01257</td>\n",
       "      <td>-0.16714</td>\n",
       "      <td>0.98585</td>\n",
       "      <td>Helmet_2</td>\n",
       "    </tr>\n",
       "    <tr>\n",
       "      <th>0</th>\n",
       "      <td>NaN</td>\n",
       "      <td>NaN</td>\n",
       "      <td>NaN</td>\n",
       "      <td>NaN</td>\n",
       "      <td>NaN</td>\n",
       "      <td>NaN</td>\n",
       "      <td>NaN</td>\n",
       "      <td>NaN</td>\n",
       "      <td>NaN</td>\n",
       "      <td>Helmet_4</td>\n",
       "    </tr>\n",
       "    <tr>\n",
       "      <th>0</th>\n",
       "      <td>NaN</td>\n",
       "      <td>NaN</td>\n",
       "      <td>NaN</td>\n",
       "      <td>NaN</td>\n",
       "      <td>NaN</td>\n",
       "      <td>NaN</td>\n",
       "      <td>NaN</td>\n",
       "      <td>NaN</td>\n",
       "      <td>NaN</td>\n",
       "      <td>Helmet_5</td>\n",
       "    </tr>\n",
       "    <tr>\n",
       "      <th>0</th>\n",
       "      <td>NaN</td>\n",
       "      <td>NaN</td>\n",
       "      <td>NaN</td>\n",
       "      <td>NaN</td>\n",
       "      <td>NaN</td>\n",
       "      <td>NaN</td>\n",
       "      <td>NaN</td>\n",
       "      <td>NaN</td>\n",
       "      <td>NaN</td>\n",
       "      <td>Helmet_6</td>\n",
       "    </tr>\n",
       "    <tr>\n",
       "      <th>...</th>\n",
       "      <td>...</td>\n",
       "      <td>...</td>\n",
       "      <td>...</td>\n",
       "      <td>...</td>\n",
       "      <td>...</td>\n",
       "      <td>...</td>\n",
       "      <td>...</td>\n",
       "      <td>...</td>\n",
       "      <td>...</td>\n",
       "      <td>...</td>\n",
       "    </tr>\n",
       "    <tr>\n",
       "      <th>23926</th>\n",
       "      <td>NaN</td>\n",
       "      <td>NaN</td>\n",
       "      <td>NaN</td>\n",
       "      <td>NaN</td>\n",
       "      <td>NaN</td>\n",
       "      <td>NaN</td>\n",
       "      <td>NaN</td>\n",
       "      <td>NaN</td>\n",
       "      <td>NaN</td>\n",
       "      <td>Helmet_6</td>\n",
       "    </tr>\n",
       "    <tr>\n",
       "      <th>23926</th>\n",
       "      <td>NaN</td>\n",
       "      <td>NaN</td>\n",
       "      <td>NaN</td>\n",
       "      <td>NaN</td>\n",
       "      <td>NaN</td>\n",
       "      <td>NaN</td>\n",
       "      <td>NaN</td>\n",
       "      <td>NaN</td>\n",
       "      <td>NaN</td>\n",
       "      <td>Helmet_1</td>\n",
       "    </tr>\n",
       "    <tr>\n",
       "      <th>23926</th>\n",
       "      <td>NaN</td>\n",
       "      <td>NaN</td>\n",
       "      <td>NaN</td>\n",
       "      <td>NaN</td>\n",
       "      <td>NaN</td>\n",
       "      <td>NaN</td>\n",
       "      <td>NaN</td>\n",
       "      <td>NaN</td>\n",
       "      <td>NaN</td>\n",
       "      <td>Helmet_4</td>\n",
       "    </tr>\n",
       "    <tr>\n",
       "      <th>23926</th>\n",
       "      <td>0.66726</td>\n",
       "      <td>0.61238</td>\n",
       "      <td>-0.42398</td>\n",
       "      <td>-0.65820</td>\n",
       "      <td>0.75123</td>\n",
       "      <td>0.04918</td>\n",
       "      <td>0.34863</td>\n",
       "      <td>0.24625</td>\n",
       "      <td>0.90433</td>\n",
       "      <td>Helmet_2</td>\n",
       "    </tr>\n",
       "    <tr>\n",
       "      <th>23926</th>\n",
       "      <td>NaN</td>\n",
       "      <td>NaN</td>\n",
       "      <td>NaN</td>\n",
       "      <td>NaN</td>\n",
       "      <td>NaN</td>\n",
       "      <td>NaN</td>\n",
       "      <td>NaN</td>\n",
       "      <td>NaN</td>\n",
       "      <td>NaN</td>\n",
       "      <td>Helmet_7</td>\n",
       "    </tr>\n",
       "  </tbody>\n",
       "</table>\n",
       "<p>167489 rows × 10 columns</p>\n",
       "</div>"
      ],
      "text/plain": [
       "            R0       R1       R2       R3       R4       R5       R6       R7  \\\n",
       "0          NaN      NaN      NaN      NaN      NaN      NaN      NaN      NaN   \n",
       "0     -0.85268 -0.51676 -0.07674  0.52227 -0.83966 -0.14902  0.01257 -0.16714   \n",
       "0          NaN      NaN      NaN      NaN      NaN      NaN      NaN      NaN   \n",
       "0          NaN      NaN      NaN      NaN      NaN      NaN      NaN      NaN   \n",
       "0          NaN      NaN      NaN      NaN      NaN      NaN      NaN      NaN   \n",
       "...        ...      ...      ...      ...      ...      ...      ...      ...   \n",
       "23926      NaN      NaN      NaN      NaN      NaN      NaN      NaN      NaN   \n",
       "23926      NaN      NaN      NaN      NaN      NaN      NaN      NaN      NaN   \n",
       "23926      NaN      NaN      NaN      NaN      NaN      NaN      NaN      NaN   \n",
       "23926  0.66726  0.61238 -0.42398 -0.65820  0.75123  0.04918  0.34863  0.24625   \n",
       "23926      NaN      NaN      NaN      NaN      NaN      NaN      NaN      NaN   \n",
       "\n",
       "            R8       eid  \n",
       "0          NaN  Helmet_1  \n",
       "0      0.98585  Helmet_2  \n",
       "0          NaN  Helmet_4  \n",
       "0          NaN  Helmet_5  \n",
       "0          NaN  Helmet_6  \n",
       "...        ...       ...  \n",
       "23926      NaN  Helmet_6  \n",
       "23926      NaN  Helmet_1  \n",
       "23926      NaN  Helmet_4  \n",
       "23926  0.90433  Helmet_2  \n",
       "23926      NaN  Helmet_7  \n",
       "\n",
       "[167489 rows x 10 columns]"
      ]
     },
     "execution_count": 52,
     "metadata": {},
     "output_type": "execute_result"
    }
   ],
   "source": [
    "transformed_rotations"
   ]
  },
  {
   "cell_type": "code",
   "execution_count": 62,
   "metadata": {},
   "outputs": [
    {
     "data": {
      "text/plain": [
       "True"
      ]
     },
     "execution_count": 62,
     "metadata": {},
     "output_type": "execute_result"
    }
   ],
   "source": [
    "(transformed_rotations.eid.values == transformed_cent.eid.values).sum() == len(transformed_rotations)"
   ]
  },
  {
   "cell_type": "code",
   "execution_count": 76,
   "metadata": {},
   "outputs": [],
   "source": [
    "cent_rotations = pd.concat([transformed_cent, transformed_rotations.drop(\"eid\", axis = 1)], axis = 1)"
   ]
  },
  {
   "cell_type": "code",
   "execution_count": 77,
   "metadata": {},
   "outputs": [
    {
     "data": {
      "text/html": [
       "<div>\n",
       "<style scoped>\n",
       "    .dataframe tbody tr th:only-of-type {\n",
       "        vertical-align: middle;\n",
       "    }\n",
       "\n",
       "    .dataframe tbody tr th {\n",
       "        vertical-align: top;\n",
       "    }\n",
       "\n",
       "    .dataframe thead th {\n",
       "        text-align: right;\n",
       "    }\n",
       "</style>\n",
       "<table border=\"1\" class=\"dataframe\">\n",
       "  <thead>\n",
       "    <tr style=\"text-align: right;\">\n",
       "      <th></th>\n",
       "      <th>Centroid X (m)</th>\n",
       "      <th>Centroid Y (m)</th>\n",
       "      <th>Centroid Z (m)</th>\n",
       "      <th>eid</th>\n",
       "      <th>R0</th>\n",
       "      <th>R1</th>\n",
       "      <th>R2</th>\n",
       "      <th>R3</th>\n",
       "      <th>R4</th>\n",
       "      <th>R5</th>\n",
       "      <th>R6</th>\n",
       "      <th>R7</th>\n",
       "      <th>R8</th>\n",
       "    </tr>\n",
       "  </thead>\n",
       "  <tbody>\n",
       "    <tr>\n",
       "      <th>0</th>\n",
       "      <td>NaN</td>\n",
       "      <td>NaN</td>\n",
       "      <td>NaN</td>\n",
       "      <td>Helmet_1</td>\n",
       "      <td>NaN</td>\n",
       "      <td>NaN</td>\n",
       "      <td>NaN</td>\n",
       "      <td>NaN</td>\n",
       "      <td>NaN</td>\n",
       "      <td>NaN</td>\n",
       "      <td>NaN</td>\n",
       "      <td>NaN</td>\n",
       "      <td>NaN</td>\n",
       "    </tr>\n",
       "    <tr>\n",
       "      <th>0</th>\n",
       "      <td>301.18822</td>\n",
       "      <td>2969.91989</td>\n",
       "      <td>1786.75414</td>\n",
       "      <td>Helmet_2</td>\n",
       "      <td>-0.85268</td>\n",
       "      <td>-0.51676</td>\n",
       "      <td>-0.07674</td>\n",
       "      <td>0.52227</td>\n",
       "      <td>-0.83966</td>\n",
       "      <td>-0.14902</td>\n",
       "      <td>0.01257</td>\n",
       "      <td>-0.16714</td>\n",
       "      <td>0.98585</td>\n",
       "    </tr>\n",
       "    <tr>\n",
       "      <th>0</th>\n",
       "      <td>NaN</td>\n",
       "      <td>NaN</td>\n",
       "      <td>NaN</td>\n",
       "      <td>Helmet_4</td>\n",
       "      <td>NaN</td>\n",
       "      <td>NaN</td>\n",
       "      <td>NaN</td>\n",
       "      <td>NaN</td>\n",
       "      <td>NaN</td>\n",
       "      <td>NaN</td>\n",
       "      <td>NaN</td>\n",
       "      <td>NaN</td>\n",
       "      <td>NaN</td>\n",
       "    </tr>\n",
       "    <tr>\n",
       "      <th>0</th>\n",
       "      <td>NaN</td>\n",
       "      <td>NaN</td>\n",
       "      <td>NaN</td>\n",
       "      <td>Helmet_5</td>\n",
       "      <td>NaN</td>\n",
       "      <td>NaN</td>\n",
       "      <td>NaN</td>\n",
       "      <td>NaN</td>\n",
       "      <td>NaN</td>\n",
       "      <td>NaN</td>\n",
       "      <td>NaN</td>\n",
       "      <td>NaN</td>\n",
       "      <td>NaN</td>\n",
       "    </tr>\n",
       "    <tr>\n",
       "      <th>0</th>\n",
       "      <td>NaN</td>\n",
       "      <td>NaN</td>\n",
       "      <td>NaN</td>\n",
       "      <td>Helmet_6</td>\n",
       "      <td>NaN</td>\n",
       "      <td>NaN</td>\n",
       "      <td>NaN</td>\n",
       "      <td>NaN</td>\n",
       "      <td>NaN</td>\n",
       "      <td>NaN</td>\n",
       "      <td>NaN</td>\n",
       "      <td>NaN</td>\n",
       "      <td>NaN</td>\n",
       "    </tr>\n",
       "    <tr>\n",
       "      <th>...</th>\n",
       "      <td>...</td>\n",
       "      <td>...</td>\n",
       "      <td>...</td>\n",
       "      <td>...</td>\n",
       "      <td>...</td>\n",
       "      <td>...</td>\n",
       "      <td>...</td>\n",
       "      <td>...</td>\n",
       "      <td>...</td>\n",
       "      <td>...</td>\n",
       "      <td>...</td>\n",
       "      <td>...</td>\n",
       "      <td>...</td>\n",
       "    </tr>\n",
       "    <tr>\n",
       "      <th>23926</th>\n",
       "      <td>NaN</td>\n",
       "      <td>NaN</td>\n",
       "      <td>NaN</td>\n",
       "      <td>Helmet_6</td>\n",
       "      <td>NaN</td>\n",
       "      <td>NaN</td>\n",
       "      <td>NaN</td>\n",
       "      <td>NaN</td>\n",
       "      <td>NaN</td>\n",
       "      <td>NaN</td>\n",
       "      <td>NaN</td>\n",
       "      <td>NaN</td>\n",
       "      <td>NaN</td>\n",
       "    </tr>\n",
       "    <tr>\n",
       "      <th>23926</th>\n",
       "      <td>NaN</td>\n",
       "      <td>NaN</td>\n",
       "      <td>NaN</td>\n",
       "      <td>Helmet_1</td>\n",
       "      <td>NaN</td>\n",
       "      <td>NaN</td>\n",
       "      <td>NaN</td>\n",
       "      <td>NaN</td>\n",
       "      <td>NaN</td>\n",
       "      <td>NaN</td>\n",
       "      <td>NaN</td>\n",
       "      <td>NaN</td>\n",
       "      <td>NaN</td>\n",
       "    </tr>\n",
       "    <tr>\n",
       "      <th>23926</th>\n",
       "      <td>NaN</td>\n",
       "      <td>NaN</td>\n",
       "      <td>NaN</td>\n",
       "      <td>Helmet_4</td>\n",
       "      <td>NaN</td>\n",
       "      <td>NaN</td>\n",
       "      <td>NaN</td>\n",
       "      <td>NaN</td>\n",
       "      <td>NaN</td>\n",
       "      <td>NaN</td>\n",
       "      <td>NaN</td>\n",
       "      <td>NaN</td>\n",
       "      <td>NaN</td>\n",
       "    </tr>\n",
       "    <tr>\n",
       "      <th>23926</th>\n",
       "      <td>8927.61106</td>\n",
       "      <td>-614.97743</td>\n",
       "      <td>1610.19733</td>\n",
       "      <td>Helmet_2</td>\n",
       "      <td>0.66726</td>\n",
       "      <td>0.61238</td>\n",
       "      <td>-0.42398</td>\n",
       "      <td>-0.65820</td>\n",
       "      <td>0.75123</td>\n",
       "      <td>0.04918</td>\n",
       "      <td>0.34863</td>\n",
       "      <td>0.24625</td>\n",
       "      <td>0.90433</td>\n",
       "    </tr>\n",
       "    <tr>\n",
       "      <th>23926</th>\n",
       "      <td>NaN</td>\n",
       "      <td>NaN</td>\n",
       "      <td>NaN</td>\n",
       "      <td>Helmet_7</td>\n",
       "      <td>NaN</td>\n",
       "      <td>NaN</td>\n",
       "      <td>NaN</td>\n",
       "      <td>NaN</td>\n",
       "      <td>NaN</td>\n",
       "      <td>NaN</td>\n",
       "      <td>NaN</td>\n",
       "      <td>NaN</td>\n",
       "      <td>NaN</td>\n",
       "    </tr>\n",
       "  </tbody>\n",
       "</table>\n",
       "<p>167489 rows × 13 columns</p>\n",
       "</div>"
      ],
      "text/plain": [
       "       Centroid X (m)  Centroid Y (m)  Centroid Z (m)       eid       R0  \\\n",
       "0                 NaN             NaN             NaN  Helmet_1      NaN   \n",
       "0           301.18822      2969.91989      1786.75414  Helmet_2 -0.85268   \n",
       "0                 NaN             NaN             NaN  Helmet_4      NaN   \n",
       "0                 NaN             NaN             NaN  Helmet_5      NaN   \n",
       "0                 NaN             NaN             NaN  Helmet_6      NaN   \n",
       "...               ...             ...             ...       ...      ...   \n",
       "23926             NaN             NaN             NaN  Helmet_6      NaN   \n",
       "23926             NaN             NaN             NaN  Helmet_1      NaN   \n",
       "23926             NaN             NaN             NaN  Helmet_4      NaN   \n",
       "23926      8927.61106      -614.97743      1610.19733  Helmet_2  0.66726   \n",
       "23926             NaN             NaN             NaN  Helmet_7      NaN   \n",
       "\n",
       "            R1       R2       R3       R4       R5       R6       R7       R8  \n",
       "0          NaN      NaN      NaN      NaN      NaN      NaN      NaN      NaN  \n",
       "0     -0.51676 -0.07674  0.52227 -0.83966 -0.14902  0.01257 -0.16714  0.98585  \n",
       "0          NaN      NaN      NaN      NaN      NaN      NaN      NaN      NaN  \n",
       "0          NaN      NaN      NaN      NaN      NaN      NaN      NaN      NaN  \n",
       "0          NaN      NaN      NaN      NaN      NaN      NaN      NaN      NaN  \n",
       "...        ...      ...      ...      ...      ...      ...      ...      ...  \n",
       "23926      NaN      NaN      NaN      NaN      NaN      NaN      NaN      NaN  \n",
       "23926      NaN      NaN      NaN      NaN      NaN      NaN      NaN      NaN  \n",
       "23926      NaN      NaN      NaN      NaN      NaN      NaN      NaN      NaN  \n",
       "23926  0.61238 -0.42398 -0.65820  0.75123  0.04918  0.34863  0.24625  0.90433  \n",
       "23926      NaN      NaN      NaN      NaN      NaN      NaN      NaN      NaN  \n",
       "\n",
       "[167489 rows x 13 columns]"
      ]
     },
     "execution_count": 77,
     "metadata": {},
     "output_type": "execute_result"
    }
   ],
   "source": [
    "cent_rotations"
   ]
  },
  {
   "cell_type": "code",
   "execution_count": 78,
   "metadata": {},
   "outputs": [],
   "source": [
    "transformed_trajectories = transform_df2plotly(\n",
    "        input_df=features_filtered[features_filtered.columns[features_filtered.columns.str.contains(\"\")]].copy(),\n",
    "        groups_info=[helmets_info],\n",
    "    )\n",
    "transformed_trajectories = transformed_trajectories.sort_index()"
   ]
  },
  {
   "cell_type": "code",
   "execution_count": 79,
   "metadata": {},
   "outputs": [
    {
     "data": {
      "text/html": [
       "<div>\n",
       "<style scoped>\n",
       "    .dataframe tbody tr th:only-of-type {\n",
       "        vertical-align: middle;\n",
       "    }\n",
       "\n",
       "    .dataframe tbody tr th {\n",
       "        vertical-align: top;\n",
       "    }\n",
       "\n",
       "    .dataframe thead th {\n",
       "        text-align: right;\n",
       "    }\n",
       "</style>\n",
       "<table border=\"1\" class=\"dataframe\">\n",
       "  <thead>\n",
       "    <tr style=\"text-align: right;\">\n",
       "      <th></th>\n",
       "      <th>X (m)</th>\n",
       "      <th>Y (m)</th>\n",
       "      <th>Z (m)</th>\n",
       "      <th>speed (m/s)</th>\n",
       "      <th>mid</th>\n",
       "      <th>eid</th>\n",
       "    </tr>\n",
       "  </thead>\n",
       "  <tbody>\n",
       "    <tr>\n",
       "      <th>0</th>\n",
       "      <td>NaN</td>\n",
       "      <td>NaN</td>\n",
       "      <td>NaN</td>\n",
       "      <td>NaN</td>\n",
       "      <td>1</td>\n",
       "      <td>Helmet_1</td>\n",
       "    </tr>\n",
       "    <tr>\n",
       "      <th>0</th>\n",
       "      <td>NaN</td>\n",
       "      <td>NaN</td>\n",
       "      <td>NaN</td>\n",
       "      <td>NaN</td>\n",
       "      <td>2</td>\n",
       "      <td>Helmet_10</td>\n",
       "    </tr>\n",
       "    <tr>\n",
       "      <th>0</th>\n",
       "      <td>NaN</td>\n",
       "      <td>NaN</td>\n",
       "      <td>NaN</td>\n",
       "      <td>NaN</td>\n",
       "      <td>2</td>\n",
       "      <td>Helmet_6</td>\n",
       "    </tr>\n",
       "    <tr>\n",
       "      <th>0</th>\n",
       "      <td>0.359082</td>\n",
       "      <td>3.059350</td>\n",
       "      <td>1.799919</td>\n",
       "      <td>NaN</td>\n",
       "      <td>3</td>\n",
       "      <td>Helmet_2</td>\n",
       "    </tr>\n",
       "    <tr>\n",
       "      <th>0</th>\n",
       "      <td>NaN</td>\n",
       "      <td>NaN</td>\n",
       "      <td>NaN</td>\n",
       "      <td>NaN</td>\n",
       "      <td>4</td>\n",
       "      <td>Helmet_10</td>\n",
       "    </tr>\n",
       "    <tr>\n",
       "      <th>...</th>\n",
       "      <td>...</td>\n",
       "      <td>...</td>\n",
       "      <td>...</td>\n",
       "      <td>...</td>\n",
       "      <td>...</td>\n",
       "      <td>...</td>\n",
       "    </tr>\n",
       "    <tr>\n",
       "      <th>23926</th>\n",
       "      <td>-8.317673</td>\n",
       "      <td>1.921456</td>\n",
       "      <td>1.497061</td>\n",
       "      <td>0.000000</td>\n",
       "      <td>5</td>\n",
       "      <td>Helmet_5</td>\n",
       "    </tr>\n",
       "    <tr>\n",
       "      <th>23926</th>\n",
       "      <td>8.163636</td>\n",
       "      <td>0.869036</td>\n",
       "      <td>1.961281</td>\n",
       "      <td>1.519131</td>\n",
       "      <td>1</td>\n",
       "      <td>Helmet_10</td>\n",
       "    </tr>\n",
       "    <tr>\n",
       "      <th>23926</th>\n",
       "      <td>8.933929</td>\n",
       "      <td>-0.531036</td>\n",
       "      <td>1.544316</td>\n",
       "      <td>0.787617</td>\n",
       "      <td>1</td>\n",
       "      <td>Helmet_2</td>\n",
       "    </tr>\n",
       "    <tr>\n",
       "      <th>23926</th>\n",
       "      <td>8.504732</td>\n",
       "      <td>-0.501440</td>\n",
       "      <td>1.683069</td>\n",
       "      <td>0.000000</td>\n",
       "      <td>5</td>\n",
       "      <td>Helmet_6</td>\n",
       "    </tr>\n",
       "    <tr>\n",
       "      <th>23926</th>\n",
       "      <td>7.407025</td>\n",
       "      <td>2.828262</td>\n",
       "      <td>1.800471</td>\n",
       "      <td>0.000000</td>\n",
       "      <td>5</td>\n",
       "      <td>Helmet_7</td>\n",
       "    </tr>\n",
       "  </tbody>\n",
       "</table>\n",
       "<p>741737 rows × 6 columns</p>\n",
       "</div>"
      ],
      "text/plain": [
       "          X (m)     Y (m)     Z (m)  speed (m/s) mid        eid\n",
       "0           NaN       NaN       NaN          NaN   1   Helmet_1\n",
       "0           NaN       NaN       NaN          NaN   2  Helmet_10\n",
       "0           NaN       NaN       NaN          NaN   2   Helmet_6\n",
       "0      0.359082  3.059350  1.799919          NaN   3   Helmet_2\n",
       "0           NaN       NaN       NaN          NaN   4  Helmet_10\n",
       "...         ...       ...       ...          ...  ..        ...\n",
       "23926 -8.317673  1.921456  1.497061     0.000000   5   Helmet_5\n",
       "23926  8.163636  0.869036  1.961281     1.519131   1  Helmet_10\n",
       "23926  8.933929 -0.531036  1.544316     0.787617   1   Helmet_2\n",
       "23926  8.504732 -0.501440  1.683069     0.000000   5   Helmet_6\n",
       "23926  7.407025  2.828262  1.800471     0.000000   5   Helmet_7\n",
       "\n",
       "[741737 rows x 6 columns]"
      ]
     },
     "execution_count": 79,
     "metadata": {},
     "output_type": "execute_result"
    }
   ],
   "source": [
    "transformed_trajectories"
   ]
  },
  {
   "cell_type": "code",
   "execution_count": 80,
   "metadata": {},
   "outputs": [
    {
     "data": {
      "text/html": [
       "<div>\n",
       "<style scoped>\n",
       "    .dataframe tbody tr th:only-of-type {\n",
       "        vertical-align: middle;\n",
       "    }\n",
       "\n",
       "    .dataframe tbody tr th {\n",
       "        vertical-align: top;\n",
       "    }\n",
       "\n",
       "    .dataframe thead th {\n",
       "        text-align: right;\n",
       "    }\n",
       "</style>\n",
       "<table border=\"1\" class=\"dataframe\">\n",
       "  <thead>\n",
       "    <tr style=\"text-align: right;\">\n",
       "      <th></th>\n",
       "      <th>TB_G3D X (m)</th>\n",
       "      <th>TB_G3D Y (m)</th>\n",
       "      <th>TB_G3D Z (m)</th>\n",
       "      <th>eid</th>\n",
       "    </tr>\n",
       "  </thead>\n",
       "  <tbody>\n",
       "    <tr>\n",
       "      <th>0</th>\n",
       "      <td>NaN</td>\n",
       "      <td>NaN</td>\n",
       "      <td>NaN</td>\n",
       "      <td>Helmet_10</td>\n",
       "    </tr>\n",
       "    <tr>\n",
       "      <th>0</th>\n",
       "      <td>NaN</td>\n",
       "      <td>NaN</td>\n",
       "      <td>NaN</td>\n",
       "      <td>Helmet_5</td>\n",
       "    </tr>\n",
       "    <tr>\n",
       "      <th>1</th>\n",
       "      <td>NaN</td>\n",
       "      <td>NaN</td>\n",
       "      <td>NaN</td>\n",
       "      <td>Helmet_5</td>\n",
       "    </tr>\n",
       "    <tr>\n",
       "      <th>1</th>\n",
       "      <td>NaN</td>\n",
       "      <td>NaN</td>\n",
       "      <td>NaN</td>\n",
       "      <td>Helmet_10</td>\n",
       "    </tr>\n",
       "    <tr>\n",
       "      <th>2</th>\n",
       "      <td>NaN</td>\n",
       "      <td>NaN</td>\n",
       "      <td>NaN</td>\n",
       "      <td>Helmet_10</td>\n",
       "    </tr>\n",
       "    <tr>\n",
       "      <th>...</th>\n",
       "      <td>...</td>\n",
       "      <td>...</td>\n",
       "      <td>...</td>\n",
       "      <td>...</td>\n",
       "    </tr>\n",
       "    <tr>\n",
       "      <th>23924</th>\n",
       "      <td>NaN</td>\n",
       "      <td>NaN</td>\n",
       "      <td>NaN</td>\n",
       "      <td>Helmet_10</td>\n",
       "    </tr>\n",
       "    <tr>\n",
       "      <th>23925</th>\n",
       "      <td>NaN</td>\n",
       "      <td>NaN</td>\n",
       "      <td>NaN</td>\n",
       "      <td>Helmet_5</td>\n",
       "    </tr>\n",
       "    <tr>\n",
       "      <th>23925</th>\n",
       "      <td>NaN</td>\n",
       "      <td>NaN</td>\n",
       "      <td>NaN</td>\n",
       "      <td>Helmet_10</td>\n",
       "    </tr>\n",
       "    <tr>\n",
       "      <th>23926</th>\n",
       "      <td>NaN</td>\n",
       "      <td>NaN</td>\n",
       "      <td>NaN</td>\n",
       "      <td>Helmet_10</td>\n",
       "    </tr>\n",
       "    <tr>\n",
       "      <th>23926</th>\n",
       "      <td>NaN</td>\n",
       "      <td>NaN</td>\n",
       "      <td>NaN</td>\n",
       "      <td>Helmet_5</td>\n",
       "    </tr>\n",
       "  </tbody>\n",
       "</table>\n",
       "<p>47854 rows × 4 columns</p>\n",
       "</div>"
      ],
      "text/plain": [
       "       TB_G3D X (m)  TB_G3D Y (m)  TB_G3D Z (m)        eid\n",
       "0               NaN           NaN           NaN  Helmet_10\n",
       "0               NaN           NaN           NaN   Helmet_5\n",
       "1               NaN           NaN           NaN   Helmet_5\n",
       "1               NaN           NaN           NaN  Helmet_10\n",
       "2               NaN           NaN           NaN  Helmet_10\n",
       "...             ...           ...           ...        ...\n",
       "23924           NaN           NaN           NaN  Helmet_10\n",
       "23925           NaN           NaN           NaN   Helmet_5\n",
       "23925           NaN           NaN           NaN  Helmet_10\n",
       "23926           NaN           NaN           NaN  Helmet_10\n",
       "23926           NaN           NaN           NaN   Helmet_5\n",
       "\n",
       "[47854 rows x 4 columns]"
      ]
     },
     "execution_count": 80,
     "metadata": {},
     "output_type": "execute_result"
    }
   ],
   "source": [
    "transformed.sort_index()"
   ]
  },
  {
   "cell_type": "code",
   "execution_count": 68,
   "metadata": {},
   "outputs": [],
   "source": [
    "def filter_best_markers(elements_cat_df: pd.DataFrame, nan_counter_by_marker):\n",
    "    elements_filtered_by_best_marker = []\n",
    "    for instance_id, nans_counter in nan_counter_by_marker.items():\n",
    "        best_marker_id = min(\n",
    "            nans_counter,\n",
    "            key=nans_counter.get,\n",
    "        )\n",
    "        elements_filtered_by_best_marker.append(\n",
    "            elements_cat_df[\n",
    "                (elements_cat_df.eid == instance_id)\n",
    "                & (elements_cat_df.mid == best_marker_id)\n",
    "            ]\n",
    "        )\n",
    "    out_df = pd.concat(elements_filtered_by_best_marker, axis=0)\n",
    "    out_df = out_df.sort_index().reset_index()\n",
    "    return out_df"
   ]
  },
  {
   "cell_type": "code",
   "execution_count": 69,
   "metadata": {},
   "outputs": [],
   "source": [
    "best_makers_df = filter_best_markers(\n",
    "        elements_cat_df=transformed_trajectories.copy(), nan_counter_by_marker=best_markers\n",
    "    )"
   ]
  },
  {
   "cell_type": "code",
   "execution_count": 70,
   "metadata": {},
   "outputs": [
    {
     "data": {
      "text/html": [
       "<div>\n",
       "<style scoped>\n",
       "    .dataframe tbody tr th:only-of-type {\n",
       "        vertical-align: middle;\n",
       "    }\n",
       "\n",
       "    .dataframe tbody tr th {\n",
       "        vertical-align: top;\n",
       "    }\n",
       "\n",
       "    .dataframe thead th {\n",
       "        text-align: right;\n",
       "    }\n",
       "</style>\n",
       "<table border=\"1\" class=\"dataframe\">\n",
       "  <thead>\n",
       "    <tr style=\"text-align: right;\">\n",
       "      <th></th>\n",
       "      <th>index</th>\n",
       "      <th>X (m)</th>\n",
       "      <th>Y (m)</th>\n",
       "      <th>Z (m)</th>\n",
       "      <th>speed (m/s)</th>\n",
       "      <th>eid</th>\n",
       "      <th>mid</th>\n",
       "    </tr>\n",
       "  </thead>\n",
       "  <tbody>\n",
       "    <tr>\n",
       "      <th>0</th>\n",
       "      <td>0</td>\n",
       "      <td>NaN</td>\n",
       "      <td>NaN</td>\n",
       "      <td>NaN</td>\n",
       "      <td>NaN</td>\n",
       "      <td>Helmet_4</td>\n",
       "      <td>1</td>\n",
       "    </tr>\n",
       "    <tr>\n",
       "      <th>1</th>\n",
       "      <td>0</td>\n",
       "      <td>-8.414543</td>\n",
       "      <td>1.655896</td>\n",
       "      <td>1.353073</td>\n",
       "      <td>NaN</td>\n",
       "      <td>Helmet_5</td>\n",
       "      <td>2</td>\n",
       "    </tr>\n",
       "    <tr>\n",
       "      <th>2</th>\n",
       "      <td>0</td>\n",
       "      <td>0.236878</td>\n",
       "      <td>2.938533</td>\n",
       "      <td>1.829624</td>\n",
       "      <td>NaN</td>\n",
       "      <td>Helmet_2</td>\n",
       "      <td>2</td>\n",
       "    </tr>\n",
       "    <tr>\n",
       "      <th>3</th>\n",
       "      <td>0</td>\n",
       "      <td>NaN</td>\n",
       "      <td>NaN</td>\n",
       "      <td>NaN</td>\n",
       "      <td>NaN</td>\n",
       "      <td>Helmet_7</td>\n",
       "      <td>1</td>\n",
       "    </tr>\n",
       "    <tr>\n",
       "      <th>4</th>\n",
       "      <td>0</td>\n",
       "      <td>-7.037703</td>\n",
       "      <td>-2.437462</td>\n",
       "      <td>1.812973</td>\n",
       "      <td>NaN</td>\n",
       "      <td>Helmet_1</td>\n",
       "      <td>2</td>\n",
       "    </tr>\n",
       "    <tr>\n",
       "      <th>...</th>\n",
       "      <td>...</td>\n",
       "      <td>...</td>\n",
       "      <td>...</td>\n",
       "      <td>...</td>\n",
       "      <td>...</td>\n",
       "      <td>...</td>\n",
       "      <td>...</td>\n",
       "    </tr>\n",
       "    <tr>\n",
       "      <th>167484</th>\n",
       "      <td>23926</td>\n",
       "      <td>8.561741</td>\n",
       "      <td>0.561951</td>\n",
       "      <td>1.885170</td>\n",
       "      <td>0.603637</td>\n",
       "      <td>Helmet_1</td>\n",
       "      <td>2</td>\n",
       "    </tr>\n",
       "    <tr>\n",
       "      <th>167485</th>\n",
       "      <td>23926</td>\n",
       "      <td>7.683523</td>\n",
       "      <td>0.036912</td>\n",
       "      <td>1.863660</td>\n",
       "      <td>0.876024</td>\n",
       "      <td>Helmet_4</td>\n",
       "      <td>1</td>\n",
       "    </tr>\n",
       "    <tr>\n",
       "      <th>167486</th>\n",
       "      <td>23926</td>\n",
       "      <td>8.998510</td>\n",
       "      <td>-0.572453</td>\n",
       "      <td>1.623232</td>\n",
       "      <td>1.073293</td>\n",
       "      <td>Helmet_2</td>\n",
       "      <td>2</td>\n",
       "    </tr>\n",
       "    <tr>\n",
       "      <th>167487</th>\n",
       "      <td>23926</td>\n",
       "      <td>-8.583218</td>\n",
       "      <td>2.080728</td>\n",
       "      <td>1.261840</td>\n",
       "      <td>0.960324</td>\n",
       "      <td>Helmet_5</td>\n",
       "      <td>2</td>\n",
       "    </tr>\n",
       "    <tr>\n",
       "      <th>167488</th>\n",
       "      <td>23926</td>\n",
       "      <td>8.163636</td>\n",
       "      <td>0.869036</td>\n",
       "      <td>1.961281</td>\n",
       "      <td>1.519131</td>\n",
       "      <td>Helmet_10</td>\n",
       "      <td>1</td>\n",
       "    </tr>\n",
       "  </tbody>\n",
       "</table>\n",
       "<p>167489 rows × 7 columns</p>\n",
       "</div>"
      ],
      "text/plain": [
       "        index     X (m)     Y (m)     Z (m)  speed (m/s)        eid mid\n",
       "0           0       NaN       NaN       NaN          NaN   Helmet_4   1\n",
       "1           0 -8.414543  1.655896  1.353073          NaN   Helmet_5   2\n",
       "2           0  0.236878  2.938533  1.829624          NaN   Helmet_2   2\n",
       "3           0       NaN       NaN       NaN          NaN   Helmet_7   1\n",
       "4           0 -7.037703 -2.437462  1.812973          NaN   Helmet_1   2\n",
       "...       ...       ...       ...       ...          ...        ...  ..\n",
       "167484  23926  8.561741  0.561951  1.885170     0.603637   Helmet_1   2\n",
       "167485  23926  7.683523  0.036912  1.863660     0.876024   Helmet_4   1\n",
       "167486  23926  8.998510 -0.572453  1.623232     1.073293   Helmet_2   2\n",
       "167487  23926 -8.583218  2.080728  1.261840     0.960324   Helmet_5   2\n",
       "167488  23926  8.163636  0.869036  1.961281     1.519131  Helmet_10   1\n",
       "\n",
       "[167489 rows x 7 columns]"
      ]
     },
     "execution_count": 70,
     "metadata": {},
     "output_type": "execute_result"
    }
   ],
   "source": [
    "best_makers_df"
   ]
  },
  {
   "cell_type": "code",
   "execution_count": 71,
   "metadata": {},
   "outputs": [],
   "source": [
    "ORIGIN = (0,0,0)\n",
    "X = (1, 0, 0)\n",
    "Y = (0, 1, 0)\n",
    "Z = (0, 0, 1)\n",
    "COLOR1 = 'red'\n",
    "COLOR2 = 'green'\n",
    "COLOR3 = 'blue'\n",
    "COLOR4 = 'orange'"
   ]
  },
  {
   "attachments": {},
   "cell_type": "markdown",
   "metadata": {},
   "source": [
    "<TB2_G3D_X, TB2_G3D_Y, TB2_G3D_Z> is the transformation from the helmet frame to a convergence point\n",
    "of the eye gaze."
   ]
  },
  {
   "cell_type": "code",
   "execution_count": 73,
   "metadata": {},
   "outputs": [
    {
     "data": {
      "application/vnd.plotly.v1+json": {
       "config": {
        "plotlyServerURL": "https://plot.ly"
       },
       "data": [
        {
         "line": {
          "color": "red",
          "width": 5
         },
         "mode": "lines",
         "showlegend": false,
         "type": "scatter3d",
         "x": [
          0,
          1,
          null
         ],
         "y": [
          0,
          0,
          null
         ],
         "z": [
          0,
          0,
          null
         ]
        },
        {
         "line": {
          "color": "green",
          "width": 5
         },
         "mode": "lines",
         "showlegend": false,
         "type": "scatter3d",
         "x": [
          0,
          0,
          null
         ],
         "y": [
          0,
          1,
          null
         ],
         "z": [
          0,
          0,
          null
         ]
        },
        {
         "line": {
          "color": "blue",
          "width": 5
         },
         "mode": "lines",
         "showlegend": false,
         "type": "scatter3d",
         "x": [
          0,
          0,
          null
         ],
         "y": [
          0,
          0,
          null
         ],
         "z": [
          0,
          1,
          null
         ]
        },
        {
         "colorscale": [
          [
           0,
           "red"
          ],
          [
           1,
           "red"
          ]
         ],
         "showscale": false,
         "type": "cone",
         "u": [
          1
         ],
         "v": [
          0
         ],
         "w": [
          0
         ],
         "x": [
          1
         ],
         "y": [
          0
         ],
         "z": [
          0
         ]
        },
        {
         "colorscale": [
          [
           0,
           "green"
          ],
          [
           1,
           "green"
          ]
         ],
         "showscale": false,
         "type": "cone",
         "u": [
          0
         ],
         "v": [
          1
         ],
         "w": [
          0
         ],
         "x": [
          0
         ],
         "y": [
          1
         ],
         "z": [
          0
         ]
        },
        {
         "colorscale": [
          [
           0,
           "blue"
          ],
          [
           1,
           "blue"
          ]
         ],
         "showscale": false,
         "type": "cone",
         "u": [
          0
         ],
         "v": [
          0
         ],
         "w": [
          1
         ],
         "x": [
          0
         ],
         "y": [
          0
         ],
         "z": [
          1
         ]
        }
       ],
       "layout": {
        "template": {
         "data": {
          "candlestick": [
           {
            "decreasing": {
             "line": {
              "color": "#000033"
             }
            },
            "increasing": {
             "line": {
              "color": "#000032"
             }
            },
            "type": "candlestick"
           }
          ],
          "contour": [
           {
            "colorscale": [
             [
              0,
              "#000011"
             ],
             [
              0.1111111111111111,
              "#000012"
             ],
             [
              0.2222222222222222,
              "#000013"
             ],
             [
              0.3333333333333333,
              "#000014"
             ],
             [
              0.4444444444444444,
              "#000015"
             ],
             [
              0.5555555555555556,
              "#000016"
             ],
             [
              0.6666666666666666,
              "#000017"
             ],
             [
              0.7777777777777778,
              "#000018"
             ],
             [
              0.8888888888888888,
              "#000019"
             ],
             [
              1,
              "#000020"
             ]
            ],
            "type": "contour"
           }
          ],
          "contourcarpet": [
           {
            "colorscale": [
             [
              0,
              "#000011"
             ],
             [
              0.1111111111111111,
              "#000012"
             ],
             [
              0.2222222222222222,
              "#000013"
             ],
             [
              0.3333333333333333,
              "#000014"
             ],
             [
              0.4444444444444444,
              "#000015"
             ],
             [
              0.5555555555555556,
              "#000016"
             ],
             [
              0.6666666666666666,
              "#000017"
             ],
             [
              0.7777777777777778,
              "#000018"
             ],
             [
              0.8888888888888888,
              "#000019"
             ],
             [
              1,
              "#000020"
             ]
            ],
            "type": "contourcarpet"
           }
          ],
          "heatmap": [
           {
            "colorscale": [
             [
              0,
              "#000011"
             ],
             [
              0.1111111111111111,
              "#000012"
             ],
             [
              0.2222222222222222,
              "#000013"
             ],
             [
              0.3333333333333333,
              "#000014"
             ],
             [
              0.4444444444444444,
              "#000015"
             ],
             [
              0.5555555555555556,
              "#000016"
             ],
             [
              0.6666666666666666,
              "#000017"
             ],
             [
              0.7777777777777778,
              "#000018"
             ],
             [
              0.8888888888888888,
              "#000019"
             ],
             [
              1,
              "#000020"
             ]
            ],
            "type": "heatmap"
           }
          ],
          "histogram2d": [
           {
            "colorscale": [
             [
              0,
              "#000011"
             ],
             [
              0.1111111111111111,
              "#000012"
             ],
             [
              0.2222222222222222,
              "#000013"
             ],
             [
              0.3333333333333333,
              "#000014"
             ],
             [
              0.4444444444444444,
              "#000015"
             ],
             [
              0.5555555555555556,
              "#000016"
             ],
             [
              0.6666666666666666,
              "#000017"
             ],
             [
              0.7777777777777778,
              "#000018"
             ],
             [
              0.8888888888888888,
              "#000019"
             ],
             [
              1,
              "#000020"
             ]
            ],
            "type": "histogram2d"
           }
          ],
          "icicle": [
           {
            "textfont": {
             "color": "white"
            },
            "type": "icicle"
           }
          ],
          "sankey": [
           {
            "textfont": {
             "color": "#000036"
            },
            "type": "sankey"
           }
          ],
          "scatter": [
           {
            "marker": {
             "line": {
              "width": 0
             }
            },
            "type": "scatter"
           }
          ],
          "table": [
           {
            "cells": {
             "fill": {
              "color": "#000038"
             },
             "font": {
              "color": "#000037"
             },
             "line": {
              "color": "#000039"
             }
            },
            "header": {
             "fill": {
              "color": "#000040"
             },
             "font": {
              "color": "#000036"
             },
             "line": {
              "color": "#000039"
             }
            },
            "type": "table"
           }
          ],
          "waterfall": [
           {
            "connector": {
             "line": {
              "color": "#000036",
              "width": 2
             }
            },
            "decreasing": {
             "marker": {
              "color": "#000033"
             }
            },
            "increasing": {
             "marker": {
              "color": "#000032"
             }
            },
            "totals": {
             "marker": {
              "color": "#000034"
             }
            },
            "type": "waterfall"
           }
          ]
         },
         "layout": {
          "coloraxis": {
           "colorscale": [
            [
             0,
             "#000011"
            ],
            [
             0.1111111111111111,
             "#000012"
            ],
            [
             0.2222222222222222,
             "#000013"
            ],
            [
             0.3333333333333333,
             "#000014"
            ],
            [
             0.4444444444444444,
             "#000015"
            ],
            [
             0.5555555555555556,
             "#000016"
            ],
            [
             0.6666666666666666,
             "#000017"
            ],
            [
             0.7777777777777778,
             "#000018"
            ],
            [
             0.8888888888888888,
             "#000019"
            ],
            [
             1,
             "#000020"
            ]
           ]
          },
          "colorscale": {
           "diverging": [
            [
             0,
             "#000021"
            ],
            [
             0.1,
             "#000022"
            ],
            [
             0.2,
             "#000023"
            ],
            [
             0.3,
             "#000024"
            ],
            [
             0.4,
             "#000025"
            ],
            [
             0.5,
             "#000026"
            ],
            [
             0.6,
             "#000027"
            ],
            [
             0.7,
             "#000028"
            ],
            [
             0.8,
             "#000029"
            ],
            [
             0.9,
             "#000030"
            ],
            [
             1,
             "#000031"
            ]
           ],
           "sequential": [
            [
             0,
             "#000011"
            ],
            [
             0.1111111111111111,
             "#000012"
            ],
            [
             0.2222222222222222,
             "#000013"
            ],
            [
             0.3333333333333333,
             "#000014"
            ],
            [
             0.4444444444444444,
             "#000015"
            ],
            [
             0.5555555555555556,
             "#000016"
            ],
            [
             0.6666666666666666,
             "#000017"
            ],
            [
             0.7777777777777778,
             "#000018"
            ],
            [
             0.8888888888888888,
             "#000019"
            ],
            [
             1,
             "#000020"
            ]
           ],
           "sequentialminus": [
            [
             0,
             "#000011"
            ],
            [
             0.1111111111111111,
             "#000012"
            ],
            [
             0.2222222222222222,
             "#000013"
            ],
            [
             0.3333333333333333,
             "#000014"
            ],
            [
             0.4444444444444444,
             "#000015"
            ],
            [
             0.5555555555555556,
             "#000016"
            ],
            [
             0.6666666666666666,
             "#000017"
            ],
            [
             0.7777777777777778,
             "#000018"
            ],
            [
             0.8888888888888888,
             "#000019"
            ],
            [
             1,
             "#000020"
            ]
           ]
          },
          "colorway": [
           "#000001",
           "#000002",
           "#000003",
           "#000004",
           "#000005",
           "#000006",
           "#000007",
           "#000008",
           "#000009",
           "#000010"
          ]
         }
        }
       }
      }
     },
     "metadata": {},
     "output_type": "display_data"
    }
   ],
   "source": [
    "# fig = px.scatter_3d(\n",
    "#     transformed[:40000],\n",
    "#     x=\"TB_G3D X (m)\",\n",
    "#     y=\"TB_G3D Y (m)\",\n",
    "#     z=\"TB_G3D Z (m)\",\n",
    "#     color=\"eid\"\n",
    "# )\n",
    "fig = go.Figure([])\n",
    "fig.add_trace(\n",
    "    go.Scatter3d(\n",
    "        x=[ORIGIN[0], X[0], None],\n",
    "        y=[ORIGIN[1], X[1], None],\n",
    "        z=[ORIGIN[2], X[2], None],\n",
    "        mode=\"lines\",\n",
    "        line=dict(color=\"red\", width=5),\n",
    "        showlegend=False,\n",
    "    )\n",
    ")\n",
    "fig.add_trace(\n",
    "    go.Scatter3d(\n",
    "        x=[ORIGIN[0], Y[0], None],\n",
    "        y=[ORIGIN[1], Y[1], None],\n",
    "        z=[ORIGIN[2], Y[2], None],\n",
    "        mode=\"lines\",\n",
    "        line=dict(color=\"green\", width=5),\n",
    "        showlegend=False,\n",
    "    )\n",
    ")\n",
    "fig.add_trace(\n",
    "    go.Scatter3d(\n",
    "        x=[ORIGIN[0], Z[0], None],\n",
    "        y=[ORIGIN[1], Z[1], None],\n",
    "        z=[ORIGIN[2], Z[2], None],\n",
    "        mode=\"lines\",\n",
    "        line=dict(color=\"blue\", width=5),\n",
    "        showlegend=False,\n",
    "    )\n",
    ")\n",
    "\n",
    "fig.add_cone(\n",
    "    x=[1],\n",
    "    y=[0],\n",
    "    z=[0],\n",
    "    u=[1],\n",
    "    v=[0],\n",
    "    w=[0],\n",
    "    colorscale=[[0, COLOR1], [1, COLOR1]],\n",
    "    showscale=False,\n",
    ")\n",
    "\n",
    "fig.add_cone(\n",
    "    x=[0],\n",
    "    y=[1],\n",
    "    z=[0],\n",
    "    u=[0],\n",
    "    v=[1],\n",
    "    w=[0],\n",
    "    colorscale=[[0, COLOR2], [1, COLOR2]],\n",
    "    showscale=False,\n",
    ")\n",
    "\n",
    "fig.add_cone(\n",
    "    x=[0],\n",
    "    y=[0],\n",
    "    z=[Z[2]],\n",
    "    u=[0],\n",
    "    v=[0],\n",
    "    w=[Z[2]],\n",
    "    colorscale=[[0, COLOR3], [1, COLOR3]],\n",
    "    showscale=False,\n",
    ")"
   ]
  },
  {
   "cell_type": "code",
   "execution_count": null,
   "metadata": {},
   "outputs": [],
   "source": []
  }
 ],
 "metadata": {
  "kernelspec": {
   "display_name": "magni-dash",
   "language": "python",
   "name": "python3"
  },
  "language_info": {
   "codemirror_mode": {
    "name": "ipython",
    "version": 3
   },
   "file_extension": ".py",
   "mimetype": "text/x-python",
   "name": "python",
   "nbconvert_exporter": "python",
   "pygments_lexer": "ipython3",
   "version": "3.10.8"
  },
  "orig_nbformat": 4
 },
 "nbformat": 4,
 "nbformat_minor": 2
}
